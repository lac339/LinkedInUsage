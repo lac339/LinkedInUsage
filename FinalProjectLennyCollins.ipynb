{
 "cells": [
  {
   "cell_type": "markdown",
   "id": "08492620-42fd-42a1-aa7d-9bba8fe65889",
   "metadata": {},
   "source": [
    "# 1) Read in the data, call the dataframe \"s\"  and check the dimensions of the dataframe"
   ]
  },
  {
   "cell_type": "code",
   "execution_count": 122,
   "id": "4f167ebb-deac-416a-b982-d01dd52493ae",
   "metadata": {},
   "outputs": [
    {
     "name": "stdout",
     "output_type": "stream",
     "text": [
      "(1502, 89)\n"
     ]
    }
   ],
   "source": [
    "import pandas as pd\n",
    "import numpy as np\n",
    "import seaborn as sns\n",
    "import matplotlib.pyplot as plt\n",
    "from sklearn.linear_model import LogisticRegression\n",
    "from sklearn.model_selection import train_test_split\n",
    "from sklearn.metrics import classification_report\n",
    "from sklearn.metrics import confusion_matrix\n",
    "\n",
    "s = pd.read_csv('social_media_usage.csv')\n",
    "print(s.shape)"
   ]
  },
  {
   "cell_type": "markdown",
   "id": "10fa1278-eeee-4a0b-9876-a67a7fc78413",
   "metadata": {},
   "source": [
    "# 2) Define a function called clean_sm that takes one input, x, and uses `np.where` to check whether x is equal to 1. If it is, make the value of x = 1, otherwise make it 0. Return x. Create a toy dataframe with three rows and two columns and test your function to make sure it works as expected"
   ]
  },
  {
   "cell_type": "code",
   "execution_count": 67,
   "id": "1c4fe947-b19f-437c-9c8e-d4d9ec34836e",
   "metadata": {},
   "outputs": [],
   "source": [
    "def clean_sm(x):\n",
    "    x = np.where(x==1, 1,0)\n",
    "    return x"
   ]
  },
  {
   "cell_type": "code",
   "execution_count": 69,
   "id": "82335469-7d87-42c7-93df-4ae4ff9623b6",
   "metadata": {},
   "outputs": [
    {
     "name": "stdout",
     "output_type": "stream",
     "text": [
      "   Column1  Column2\n",
      "0        4        3\n",
      "1        3        2\n",
      "2        0        1\n"
     ]
    }
   ],
   "source": [
    "toy = pd.DataFrame({ \n",
    "    'Column1': [4, 3, 0], \n",
    "    'Column2': [3, 2, 1] \n",
    "})\n",
    "print(toy)"
   ]
  },
  {
   "cell_type": "code",
   "execution_count": 71,
   "id": "45481c97-03aa-4f5b-b010-85c75a2c181e",
   "metadata": {},
   "outputs": [
    {
     "data": {
      "text/plain": [
       "array([[0, 0],\n",
       "       [0, 0],\n",
       "       [0, 1]])"
      ]
     },
     "execution_count": 71,
     "metadata": {},
     "output_type": "execute_result"
    }
   ],
   "source": [
    "clean_sm(toy)"
   ]
  },
  {
   "cell_type": "markdown",
   "id": "00ae5f92-4c7a-4c6a-8c4a-0e230a096532",
   "metadata": {},
   "source": [
    "# 3) Create a new dataframe called \"ss\". The new dataframe should contain a target column called sm_li which should be a binary variable ( that takes the value of 1 if it is 1 and 0 otherwise (use clean_sm to create this) which indicates whether or not the individual uses LinkedIn, and the following features: income (ordered numeric from 1 to 9, above 9 considered missing), education (ordered numeric from 1 to 8, above 8 considered missing), parent (binary), married (binary), female (binary), and age (numeric, above 98 considered missing). Drop any missing values. Perform exploratory analysis to examine how the features are related to the target."
   ]
  },
  {
   "cell_type": "code",
   "execution_count": 140,
   "id": "222e9d55-07d8-47e2-a5bc-25c1fc0a6fe0",
   "metadata": {},
   "outputs": [
    {
     "name": "stdout",
     "output_type": "stream",
     "text": [
      "      income  educ2   age  sm_li  female  married  parent\n",
      "0        6.0    4.0  77.0      0       1        0       0\n",
      "1        5.0    3.0  59.0      0       0        0       0\n",
      "2        8.0    4.0  60.0      0       1        1       0\n",
      "3        8.0    8.0  73.0      0       0        0       0\n",
      "4        7.0    8.0  65.0      1       1        1       0\n",
      "...      ...    ...   ...    ...     ...      ...     ...\n",
      "1497     6.0    4.0  41.0      0       0        1       1\n",
      "1498     2.0    5.0  46.0      1       0        0       0\n",
      "1499     7.0    3.0  18.0      0       0        0       0\n",
      "1500     4.0    3.0  23.0      0       1        0       0\n",
      "1501     4.0    3.0  50.0      0       0        1       1\n",
      "\n",
      "[1260 rows x 7 columns]\n"
     ]
    },
    {
     "name": "stderr",
     "output_type": "stream",
     "text": [
      "C:\\Users\\Lenny\\AppData\\Local\\Temp\\ipykernel_25804\\2197652641.py:18: FutureWarning: Setting an item of incompatible dtype is deprecated and will raise in a future error of pandas. Value '[6. 5. 8. ... 7. 4. 4.]' has dtype incompatible with int64, please explicitly cast to a compatible dtype first.\n",
      "  ss.loc[:, 'income'] = ss['income'].apply(lambda x: np.nan if x > 9 else x)\n",
      "C:\\Users\\Lenny\\AppData\\Local\\Temp\\ipykernel_25804\\2197652641.py:19: FutureWarning: Setting an item of incompatible dtype is deprecated and will raise in a future error of pandas. Value '[4. 3. 4. ... 3. 3. 3.]' has dtype incompatible with int64, please explicitly cast to a compatible dtype first.\n",
      "  ss.loc[:, 'educ2'] = ss['educ2'].apply(lambda x: np.nan if x > 8 else x)\n",
      "C:\\Users\\Lenny\\AppData\\Local\\Temp\\ipykernel_25804\\2197652641.py:20: FutureWarning: Setting an item of incompatible dtype is deprecated and will raise in a future error of pandas. Value '[77. 59. 60. ... 18. 23. 50.]' has dtype incompatible with int64, please explicitly cast to a compatible dtype first.\n",
      "  ss.loc[:, 'age'] = ss['age'].apply(lambda x: np.nan if x > 98 else x)\n"
     ]
    }
   ],
   "source": [
    "# Create the DataFrame\n",
    "ss = s.loc[:, ['income', 'educ2', 'age']]\n",
    "\n",
    "# Ensure columns are numeric\n",
    "ss['income'] = pd.to_numeric(ss['income'], errors='coerce')\n",
    "ss['educ2'] = pd.to_numeric(ss['educ2'], errors='coerce')\n",
    "ss['age'] = pd.to_numeric(ss['age'], errors='coerce')\n",
    "\n",
    "# Create column sm_li\n",
    "ss.loc[:, 'sm_li'] = clean_sm(s['web1h'])\n",
    "\n",
    "# Create binary columns and convert to integers using .astype(int)\n",
    "ss.loc[:, 'female'] = (s['gender'] == 2).astype(int)\n",
    "ss.loc[:, 'married'] = (s['marital'] == 1).astype(int)\n",
    "ss.loc[:, 'parent'] = (s['par'] == 1).astype(int)\n",
    "\n",
    "# Handle missing values for income, educ2, and age\n",
    "ss.loc[:, 'income'] = ss['income'].apply(lambda x: np.nan if x > 9 else x)\n",
    "ss.loc[:, 'educ2'] = ss['educ2'].apply(lambda x: np.nan if x > 8 else x)\n",
    "ss.loc[:, 'age'] = ss['age'].apply(lambda x: np.nan if x > 98 else x)\n",
    "\n",
    "ss.dropna(inplace=True)\n",
    "\n",
    "print(ss)\n"
   ]
  },
  {
   "cell_type": "markdown",
   "id": "91b5d11a-2689-444a-be7e-c8279a77b4f4",
   "metadata": {},
   "source": [
    "# 3a) Exploratory analysis"
   ]
  },
  {
   "cell_type": "code",
   "execution_count": 182,
   "id": "0279f4e1-085a-4bd3-864e-2be94bb75900",
   "metadata": {},
   "outputs": [
    {
     "name": "stdout",
     "output_type": "stream",
     "text": [
      "            income        educ2          age        sm_li       female  \\\n",
      "count  1260.000000  1260.000000  1260.000000  1260.000000  1260.000000   \n",
      "mean      5.865873     5.203175    51.253968     0.333333     0.419841   \n",
      "std       2.474385     1.877501    18.403705     0.471592     0.493729   \n",
      "min       1.000000     1.000000    18.000000     0.000000     0.000000   \n",
      "25%       4.000000     4.000000    36.000000     0.000000     0.000000   \n",
      "50%       6.000000     5.000000    52.000000     0.000000     0.000000   \n",
      "75%       8.000000     6.000000    65.000000     1.000000     1.000000   \n",
      "max       9.000000     8.000000    97.000000     1.000000     1.000000   \n",
      "\n",
      "           married       parent  \n",
      "count  1260.000000  1260.000000  \n",
      "mean      0.483333     0.249206  \n",
      "std       0.499921     0.432725  \n",
      "min       0.000000     0.000000  \n",
      "25%       0.000000     0.000000  \n",
      "50%       0.000000     0.000000  \n",
      "75%       1.000000     0.000000  \n",
      "max       1.000000     1.000000  \n"
     ]
    },
    {
     "data": {
      "image/png": "[encoded data removed]",
      "text/plain": [
       "<Figure size 500x300 with 1 Axes>"
      ]
     },
     "metadata": {},
     "output_type": "display_data"
    }
   ],
   "source": [
    "#Statistics\n",
    "print(ss.describe())\n",
    "\n",
    "# Relationship between education and sm_li \n",
    "plt.figure(figsize=(5, 3)) \n",
    "sns.boxplot(x='sm_li', y='educ2', data=ss)\n",
    "plt.title('Education vs sm_li') \n",
    "plt.show()"
   ]
  },
  {
   "cell_type": "code",
   "execution_count": 185,
   "id": "bb7b5855-e471-4f54-9536-f80a97ebab79",
   "metadata": {},
   "outputs": [
    {
     "data": {
      "image/png": "[encoded data removed]",
      "text/plain": [
       "<Figure size 500x300 with 1 Axes>"
      ]
     },
     "metadata": {},
     "output_type": "display_data"
    }
   ],
   "source": [
    "# Relationship between age and sm_li \n",
    "plt.figure(figsize=(5, 3)) \n",
    "sns.boxplot(x='sm_li', y='age', data=ss)\n",
    "plt.title('Age vs sm_li') \n",
    "plt.show()"
   ]
  },
  {
   "cell_type": "code",
   "execution_count": 187,
   "id": "deb5745c-f040-4852-bc3e-0f723dc8cef4",
   "metadata": {},
   "outputs": [
    {
     "data": {
      "image/png": "[encoded data removed]",
      "text/plain": [
       "<Figure size 500x300 with 1 Axes>"
      ]
     },
     "metadata": {},
     "output_type": "display_data"
    }
   ],
   "source": [
    "# Relationship between income and sm_li \n",
    "plt.figure(figsize=(5, 3)) \n",
    "sns.boxplot(x='sm_li', y='income', data=ss)\n",
    "plt.title('Income vs sm_li') \n",
    "plt.show()"
   ]
  },
  {
   "cell_type": "code",
   "execution_count": 191,
   "id": "531ae0ae-1820-4664-8cbf-09502aa4816d",
   "metadata": {},
   "outputs": [
    {
     "data": {
      "text/html": [
       "\n",
       "<style>\n",
       "  #altair-viz-a4979321ef904a19b268257094205089.vega-embed {\n",
       "    width: 100%;\n",
       "    display: flex;\n",
       "  }\n",
       "\n",
       "  #altair-viz-a4979321ef904a19b268257094205089.vega-embed details,\n",
       "  #altair-viz-a4979321ef904a19b268257094205089.vega-embed details summary {\n",
       "    position: relative;\n",
       "  }\n",
       "</style>\n",
       "<div id=\"altair-viz-a4979321ef904a19b268257094205089\"></div>\n",
       "<script type=\"text/javascript\">\n",
       "  var VEGA_DEBUG = (typeof VEGA_DEBUG == \"undefined\") ? {} : VEGA_DEBUG;\n",
       "  (function(spec, embedOpt){\n",
       "    let outputDiv = document.currentScript.previousElementSibling;\n",
       "    if (outputDiv.id !== \"altair-viz-a4979321ef904a19b268257094205089\") {\n",
       "      outputDiv = document.getElementById(\"altair-viz-a4979321ef904a19b268257094205089\");\n",
       "    }\n",
       "    const paths = {\n",
       "      \"vega\": \"https://cdn.jsdelivr.net/npm/vega@5?noext\",\n",
       "      \"vega-lib\": \"https://cdn.jsdelivr.net/npm/vega-lib?noext\",\n",
       "      \"vega-lite\": \"https://cdn.jsdelivr.net/npm/vega-lite@5.8.0?noext\",\n",
       "      \"vega-embed\": \"https://cdn.jsdelivr.net/npm/vega-embed@6?noext\",\n",
       "    };\n",
       "\n",
       "    function maybeLoadScript(lib, version) {\n",
       "      var key = `${lib.replace(\"-\", \"\")}_version`;\n",
       "      return (VEGA_DEBUG[key] == version) ?\n",
       "        Promise.resolve(paths[lib]) :\n",
       "        new Promise(function(resolve, reject) {\n",
       "          var s = document.createElement('script');\n",
       "          document.getElementsByTagName(\"head\")[0].appendChild(s);\n",
       "          s.async = true;\n",
       "          s.onload = () => {\n",
       "            VEGA_DEBUG[key] = version;\n",
       "            return resolve(paths[lib]);\n",
       "          };\n",
       "          s.onerror = () => reject(`Error loading script: ${paths[lib]}`);\n",
       "          s.src = paths[lib];\n",
       "        });\n",
       "    }\n",
       "\n",
       "    function showError(err) {\n",
       "      outputDiv.innerHTML = `<div class=\"error\" style=\"color:red;\">${err}</div>`;\n",
       "      throw err;\n",
       "    }\n",
       "\n",
       "    function displayChart(vegaEmbed) {\n",
       "      vegaEmbed(outputDiv, spec, embedOpt)\n",
       "        .catch(err => showError(`Javascript Error: ${err.message}<br>This usually means there's a typo in your chart specification. See the javascript console for the full traceback.`));\n",
       "    }\n",
       "\n",
       "    if(typeof define === \"function\" && define.amd) {\n",
       "      requirejs.config({paths});\n",
       "      require([\"vega-embed\"], displayChart, err => showError(`Error loading script: ${err.message}`));\n",
       "    } else {\n",
       "      maybeLoadScript(\"vega\", \"5\")\n",
       "        .then(() => maybeLoadScript(\"vega-lite\", \"5.8.0\"))\n",
       "        .then(() => maybeLoadScript(\"vega-embed\", \"6\"))\n",
       "        .catch(showError)\n",
       "        .then(() => displayChart(vegaEmbed));\n",
       "    }\n",
       "  })({\"config\": {\"view\": {\"continuousWidth\": 300, \"continuousHeight\": 300}}, \"data\": {\"name\": \"data-dfb2a67f9b1a74247c09c1e3277fe4e2\"}, \"mark\": {\"type\": \"circle\"}, \"encoding\": {\"color\": {\"field\": \"sm_li\", \"scale\": {\"scheme\": \"greens\"}, \"type\": \"quantitative\"}, \"tooltip\": [{\"field\": \"parent\", \"type\": \"quantitative\"}, {\"field\": \"married\", \"type\": \"quantitative\"}, {\"field\": \"educ2\", \"type\": \"quantitative\"}, {\"field\": \"sm_li\", \"type\": \"quantitative\"}, {\"field\": \"female\", \"type\": \"quantitative\"}], \"x\": {\"field\": \"age\", \"type\": \"quantitative\"}, \"y\": {\"field\": \"income\", \"type\": \"quantitative\"}}, \"params\": [{\"name\": \"param_19\", \"select\": {\"type\": \"interval\", \"encodings\": [\"x\", \"y\"]}, \"bind\": \"scales\"}], \"title\": \"Age vs. Income dependent on Linkedin Usage\", \"$schema\": \"https://vega.github.io/schema/vega-lite/v5.8.0.json\", \"datasets\": {\"data-dfb2a67f9b1a74247c09c1e3277fe4e2\": [{\"income\": 6.0, \"educ2\": 4.0, \"age\": 77.0, \"sm_li\": 0, \"female\": 1, \"married\": 0, \"parent\": 0}, {\"income\": 5.0, \"educ2\": 3.0, \"age\": 59.0, \"sm_li\": 0, \"female\": 0, \"married\": 0, \"parent\": 0}, {\"income\": 8.0, \"educ2\": 4.0, \"age\": 60.0, \"sm_li\": 0, \"female\": 1, \"married\": 1, \"parent\": 0}, {\"income\": 8.0, \"educ2\": 8.0, \"age\": 73.0, \"sm_li\": 0, \"female\": 0, \"married\": 0, \"parent\": 0}, {\"income\": 7.0, \"educ2\": 8.0, \"age\": 65.0, \"sm_li\": 1, \"female\": 1, \"married\": 1, \"parent\": 0}, {\"income\": 7.0, \"educ2\": 6.0, \"age\": 62.0, \"sm_li\": 0, \"female\": 1, \"married\": 0, \"parent\": 0}, {\"income\": 7.0, \"educ2\": 4.0, \"age\": 70.0, \"sm_li\": 0, \"female\": 1, \"married\": 1, \"parent\": 0}, {\"income\": 3.0, \"educ2\": 6.0, \"age\": 94.0, \"sm_li\": 0, \"female\": 0, \"married\": 0, \"parent\": 0}, {\"income\": 3.0, \"educ2\": 3.0, \"age\": 65.0, \"sm_li\": 0, \"female\": 1, \"married\": 1, \"parent\": 0}, {\"income\": 9.0, \"educ2\": 8.0, \"age\": 55.0, \"sm_li\": 1, \"female\": 1, \"married\": 0, \"parent\": 0}, {\"income\": 6.0, \"educ2\": 8.0, \"age\": 80.0, \"sm_li\": 0, \"female\": 0, \"married\": 1, \"parent\": 0}, {\"income\": 6.0, \"educ2\": 8.0, \"age\": 68.0, \"sm_li\": 0, \"female\": 0, \"married\": 1, \"parent\": 0}, {\"income\": 4.0, \"educ2\": 8.0, \"age\": 79.0, \"sm_li\": 0, \"female\": 1, \"married\": 0, \"parent\": 0}, {\"income\": 7.0, \"educ2\": 6.0, \"age\": 49.0, \"sm_li\": 0, \"female\": 0, \"married\": 1, \"parent\": 1}, {\"income\": 3.0, \"educ2\": 3.0, \"age\": 77.0, \"sm_li\": 0, \"female\": 1, \"married\": 1, \"parent\": 0}, {\"income\": 9.0, \"educ2\": 8.0, \"age\": 75.0, \"sm_li\": 0, \"female\": 1, \"married\": 1, \"parent\": 0}, {\"income\": 3.0, \"educ2\": 3.0, \"age\": 55.0, \"sm_li\": 0, \"female\": 1, \"married\": 0, \"parent\": 0}, {\"income\": 6.0, \"educ2\": 6.0, \"age\": 39.0, \"sm_li\": 1, \"female\": 1, \"married\": 0, \"parent\": 1}, {\"income\": 8.0, \"educ2\": 6.0, \"age\": 65.0, \"sm_li\": 0, \"female\": 0, \"married\": 1, \"parent\": 0}, {\"income\": 6.0, \"educ2\": 3.0, \"age\": 70.0, \"sm_li\": 0, \"female\": 1, \"married\": 0, \"parent\": 0}, {\"income\": 6.0, \"educ2\": 5.0, \"age\": 63.0, \"sm_li\": 0, \"female\": 0, \"married\": 1, \"parent\": 0}, {\"income\": 4.0, \"educ2\": 3.0, \"age\": 74.0, \"sm_li\": 0, \"female\": 1, \"married\": 1, \"parent\": 0}, {\"income\": 7.0, \"educ2\": 6.0, \"age\": 83.0, \"sm_li\": 0, \"female\": 1, \"married\": 0, \"parent\": 0}, {\"income\": 9.0, \"educ2\": 8.0, \"age\": 75.0, \"sm_li\": 1, \"female\": 1, \"married\": 0, \"parent\": 0}, {\"income\": 1.0, \"educ2\": 2.0, \"age\": 86.0, \"sm_li\": 0, \"female\": 1, \"married\": 0, \"parent\": 0}, {\"income\": 7.0, \"educ2\": 6.0, \"age\": 70.0, \"sm_li\": 0, \"female\": 0, \"married\": 1, \"parent\": 0}, {\"income\": 2.0, \"educ2\": 6.0, \"age\": 83.0, \"sm_li\": 0, \"female\": 1, \"married\": 0, \"parent\": 0}, {\"income\": 8.0, \"educ2\": 8.0, \"age\": 64.0, \"sm_li\": 0, \"female\": 0, \"married\": 0, \"parent\": 0}, {\"income\": 4.0, \"educ2\": 7.0, \"age\": 82.0, \"sm_li\": 1, \"female\": 1, \"married\": 0, \"parent\": 0}, {\"income\": 3.0, \"educ2\": 3.0, \"age\": 71.0, \"sm_li\": 0, \"female\": 1, \"married\": 1, \"parent\": 0}, {\"income\": 3.0, \"educ2\": 3.0, \"age\": 79.0, \"sm_li\": 0, \"female\": 1, \"married\": 0, \"parent\": 0}, {\"income\": 6.0, \"educ2\": 6.0, \"age\": 74.0, \"sm_li\": 0, \"female\": 0, \"married\": 1, \"parent\": 1}, {\"income\": 7.0, \"educ2\": 6.0, \"age\": 73.0, \"sm_li\": 0, \"female\": 1, \"married\": 1, \"parent\": 0}, {\"income\": 5.0, \"educ2\": 8.0, \"age\": 87.0, \"sm_li\": 0, \"female\": 0, \"married\": 1, \"parent\": 0}, {\"income\": 8.0, \"educ2\": 4.0, \"age\": 70.0, \"sm_li\": 0, \"female\": 0, \"married\": 1, \"parent\": 0}, {\"income\": 3.0, \"educ2\": 8.0, \"age\": 69.0, \"sm_li\": 0, \"female\": 1, \"married\": 0, \"parent\": 0}, {\"income\": 8.0, \"educ2\": 6.0, \"age\": 55.0, \"sm_li\": 0, \"female\": 0, \"married\": 0, \"parent\": 0}, {\"income\": 9.0, \"educ2\": 3.0, \"age\": 81.0, \"sm_li\": 0, \"female\": 0, \"married\": 0, \"parent\": 0}, {\"income\": 9.0, \"educ2\": 7.0, \"age\": 75.0, \"sm_li\": 1, \"female\": 0, \"married\": 0, \"parent\": 0}, {\"income\": 9.0, \"educ2\": 7.0, \"age\": 39.0, \"sm_li\": 1, \"female\": 0, \"married\": 1, \"parent\": 1}, {\"income\": 5.0, \"educ2\": 5.0, \"age\": 75.0, \"sm_li\": 0, \"female\": 1, \"married\": 1, \"parent\": 0}, {\"income\": 4.0, \"educ2\": 3.0, \"age\": 84.0, \"sm_li\": 0, \"female\": 1, \"married\": 1, \"parent\": 0}, {\"income\": 6.0, \"educ2\": 3.0, \"age\": 73.0, \"sm_li\": 0, \"female\": 1, \"married\": 1, \"parent\": 0}, {\"income\": 4.0, \"educ2\": 6.0, \"age\": 65.0, \"sm_li\": 0, \"female\": 0, \"married\": 0, \"parent\": 0}, {\"income\": 7.0, \"educ2\": 8.0, \"age\": 75.0, \"sm_li\": 0, \"female\": 0, \"married\": 1, \"parent\": 0}, {\"income\": 5.0, \"educ2\": 4.0, \"age\": 68.0, \"sm_li\": 0, \"female\": 1, \"married\": 0, \"parent\": 0}, {\"income\": 5.0, \"educ2\": 3.0, \"age\": 66.0, \"sm_li\": 0, \"female\": 0, \"married\": 1, \"parent\": 0}, {\"income\": 7.0, \"educ2\": 5.0, \"age\": 60.0, \"sm_li\": 0, \"female\": 0, \"married\": 1, \"parent\": 0}, {\"income\": 4.0, \"educ2\": 4.0, \"age\": 65.0, \"sm_li\": 0, \"female\": 0, \"married\": 1, \"parent\": 0}, {\"income\": 7.0, \"educ2\": 6.0, \"age\": 61.0, \"sm_li\": 0, \"female\": 1, \"married\": 1, \"parent\": 0}, {\"income\": 8.0, \"educ2\": 3.0, \"age\": 86.0, \"sm_li\": 0, \"female\": 0, \"married\": 0, \"parent\": 0}, {\"income\": 4.0, \"educ2\": 3.0, \"age\": 70.0, \"sm_li\": 0, \"female\": 1, \"married\": 0, \"parent\": 0}, {\"income\": 9.0, \"educ2\": 6.0, \"age\": 60.0, \"sm_li\": 1, \"female\": 0, \"married\": 1, \"parent\": 0}, {\"income\": 7.0, \"educ2\": 4.0, \"age\": 64.0, \"sm_li\": 0, \"female\": 0, \"married\": 0, \"parent\": 0}, {\"income\": 8.0, \"educ2\": 8.0, \"age\": 69.0, \"sm_li\": 1, \"female\": 1, \"married\": 1, \"parent\": 0}, {\"income\": 7.0, \"educ2\": 4.0, \"age\": 62.0, \"sm_li\": 0, \"female\": 1, \"married\": 1, \"parent\": 0}, {\"income\": 9.0, \"educ2\": 6.0, \"age\": 57.0, \"sm_li\": 1, \"female\": 0, \"married\": 1, \"parent\": 1}, {\"income\": 6.0, \"educ2\": 8.0, \"age\": 86.0, \"sm_li\": 0, \"female\": 0, \"married\": 0, \"parent\": 0}, {\"income\": 2.0, \"educ2\": 3.0, \"age\": 82.0, \"sm_li\": 0, \"female\": 1, \"married\": 0, \"parent\": 0}, {\"income\": 9.0, \"educ2\": 6.0, \"age\": 60.0, \"sm_li\": 0, \"female\": 0, \"married\": 0, \"parent\": 0}, {\"income\": 3.0, \"educ2\": 6.0, \"age\": 83.0, \"sm_li\": 1, \"female\": 1, \"married\": 0, \"parent\": 0}, {\"income\": 5.0, \"educ2\": 4.0, \"age\": 83.0, \"sm_li\": 0, \"female\": 1, \"married\": 0, \"parent\": 0}, {\"income\": 4.0, \"educ2\": 6.0, \"age\": 50.0, \"sm_li\": 0, \"female\": 1, \"married\": 0, \"parent\": 0}, {\"income\": 7.0, \"educ2\": 6.0, \"age\": 31.0, \"sm_li\": 0, \"female\": 0, \"married\": 0, \"parent\": 0}, {\"income\": 9.0, \"educ2\": 8.0, \"age\": 53.0, \"sm_li\": 0, \"female\": 0, \"married\": 1, \"parent\": 1}, {\"income\": 9.0, \"educ2\": 6.0, \"age\": 60.0, \"sm_li\": 1, \"female\": 1, \"married\": 0, \"parent\": 0}, {\"income\": 5.0, \"educ2\": 5.0, \"age\": 55.0, \"sm_li\": 0, \"female\": 1, \"married\": 1, \"parent\": 0}, {\"income\": 9.0, \"educ2\": 6.0, \"age\": 73.0, \"sm_li\": 1, \"female\": 0, \"married\": 0, \"parent\": 0}, {\"income\": 9.0, \"educ2\": 5.0, \"age\": 78.0, \"sm_li\": 0, \"female\": 1, \"married\": 0, \"parent\": 0}, {\"income\": 7.0, \"educ2\": 5.0, \"age\": 68.0, \"sm_li\": 0, \"female\": 0, \"married\": 1, \"parent\": 0}, {\"income\": 4.0, \"educ2\": 4.0, \"age\": 79.0, \"sm_li\": 0, \"female\": 0, \"married\": 1, \"parent\": 0}, {\"income\": 3.0, \"educ2\": 4.0, \"age\": 27.0, \"sm_li\": 0, \"female\": 1, \"married\": 0, \"parent\": 0}, {\"income\": 7.0, \"educ2\": 8.0, \"age\": 64.0, \"sm_li\": 0, \"female\": 1, \"married\": 0, \"parent\": 0}, {\"income\": 9.0, \"educ2\": 8.0, \"age\": 68.0, \"sm_li\": 0, \"female\": 1, \"married\": 1, \"parent\": 0}, {\"income\": 8.0, \"educ2\": 7.0, \"age\": 71.0, \"sm_li\": 1, \"female\": 1, \"married\": 1, \"parent\": 0}, {\"income\": 1.0, \"educ2\": 5.0, \"age\": 79.0, \"sm_li\": 0, \"female\": 1, \"married\": 0, \"parent\": 0}, {\"income\": 9.0, \"educ2\": 6.0, \"age\": 44.0, \"sm_li\": 1, \"female\": 0, \"married\": 1, \"parent\": 1}, {\"income\": 3.0, \"educ2\": 3.0, \"age\": 82.0, \"sm_li\": 0, \"female\": 0, \"married\": 0, \"parent\": 0}, {\"income\": 4.0, \"educ2\": 8.0, \"age\": 71.0, \"sm_li\": 0, \"female\": 1, \"married\": 0, \"parent\": 0}, {\"income\": 9.0, \"educ2\": 4.0, \"age\": 81.0, \"sm_li\": 0, \"female\": 1, \"married\": 1, \"parent\": 0}, {\"income\": 7.0, \"educ2\": 6.0, \"age\": 76.0, \"sm_li\": 0, \"female\": 0, \"married\": 1, \"parent\": 1}, {\"income\": 2.0, \"educ2\": 4.0, \"age\": 82.0, \"sm_li\": 0, \"female\": 1, \"married\": 0, \"parent\": 0}, {\"income\": 2.0, \"educ2\": 4.0, \"age\": 73.0, \"sm_li\": 0, \"female\": 1, \"married\": 0, \"parent\": 0}, {\"income\": 9.0, \"educ2\": 4.0, \"age\": 74.0, \"sm_li\": 0, \"female\": 0, \"married\": 0, \"parent\": 0}, {\"income\": 9.0, \"educ2\": 3.0, \"age\": 71.0, \"sm_li\": 0, \"female\": 0, \"married\": 1, \"parent\": 0}, {\"income\": 6.0, \"educ2\": 8.0, \"age\": 87.0, \"sm_li\": 0, \"female\": 0, \"married\": 1, \"parent\": 0}, {\"income\": 3.0, \"educ2\": 3.0, \"age\": 60.0, \"sm_li\": 0, \"female\": 0, \"married\": 0, \"parent\": 0}, {\"income\": 6.0, \"educ2\": 4.0, \"age\": 77.0, \"sm_li\": 0, \"female\": 1, \"married\": 0, \"parent\": 0}, {\"income\": 3.0, \"educ2\": 6.0, \"age\": 40.0, \"sm_li\": 0, \"female\": 1, \"married\": 0, \"parent\": 0}, {\"income\": 8.0, \"educ2\": 8.0, \"age\": 37.0, \"sm_li\": 1, \"female\": 1, \"married\": 1, \"parent\": 1}, {\"income\": 9.0, \"educ2\": 6.0, \"age\": 63.0, \"sm_li\": 1, \"female\": 1, \"married\": 0, \"parent\": 0}, {\"income\": 7.0, \"educ2\": 5.0, \"age\": 57.0, \"sm_li\": 0, \"female\": 1, \"married\": 0, \"parent\": 0}, {\"income\": 2.0, \"educ2\": 2.0, \"age\": 70.0, \"sm_li\": 0, \"female\": 0, \"married\": 0, \"parent\": 0}, {\"income\": 2.0, \"educ2\": 8.0, \"age\": 88.0, \"sm_li\": 0, \"female\": 0, \"married\": 1, \"parent\": 0}, {\"income\": 9.0, \"educ2\": 7.0, \"age\": 55.0, \"sm_li\": 0, \"female\": 0, \"married\": 1, \"parent\": 0}, {\"income\": 5.0, \"educ2\": 3.0, \"age\": 53.0, \"sm_li\": 0, \"female\": 0, \"married\": 1, \"parent\": 0}, {\"income\": 9.0, \"educ2\": 8.0, \"age\": 42.0, \"sm_li\": 1, \"female\": 0, \"married\": 0, \"parent\": 0}, {\"income\": 4.0, \"educ2\": 4.0, \"age\": 89.0, \"sm_li\": 0, \"female\": 0, \"married\": 1, \"parent\": 0}, {\"income\": 1.0, \"educ2\": 4.0, \"age\": 54.0, \"sm_li\": 0, \"female\": 0, \"married\": 0, \"parent\": 0}, {\"income\": 7.0, \"educ2\": 6.0, \"age\": 72.0, \"sm_li\": 1, \"female\": 0, \"married\": 1, \"parent\": 0}, {\"income\": 9.0, \"educ2\": 6.0, \"age\": 64.0, \"sm_li\": 0, \"female\": 1, \"married\": 1, \"parent\": 0}, {\"income\": 7.0, \"educ2\": 8.0, \"age\": 62.0, \"sm_li\": 0, \"female\": 1, \"married\": 1, \"parent\": 0}, {\"income\": 4.0, \"educ2\": 3.0, \"age\": 77.0, \"sm_li\": 0, \"female\": 0, \"married\": 1, \"parent\": 0}, {\"income\": 5.0, \"educ2\": 6.0, \"age\": 70.0, \"sm_li\": 0, \"female\": 0, \"married\": 0, \"parent\": 0}, {\"income\": 3.0, \"educ2\": 8.0, \"age\": 83.0, \"sm_li\": 0, \"female\": 0, \"married\": 0, \"parent\": 0}, {\"income\": 9.0, \"educ2\": 6.0, \"age\": 78.0, \"sm_li\": 0, \"female\": 1, \"married\": 0, \"parent\": 0}, {\"income\": 9.0, \"educ2\": 8.0, \"age\": 70.0, \"sm_li\": 0, \"female\": 1, \"married\": 1, \"parent\": 0}, {\"income\": 6.0, \"educ2\": 5.0, \"age\": 94.0, \"sm_li\": 0, \"female\": 1, \"married\": 0, \"parent\": 0}, {\"income\": 4.0, \"educ2\": 4.0, \"age\": 65.0, \"sm_li\": 0, \"female\": 1, \"married\": 0, \"parent\": 0}, {\"income\": 8.0, \"educ2\": 5.0, \"age\": 70.0, \"sm_li\": 0, \"female\": 0, \"married\": 1, \"parent\": 0}, {\"income\": 9.0, \"educ2\": 6.0, \"age\": 61.0, \"sm_li\": 1, \"female\": 0, \"married\": 1, \"parent\": 0}, {\"income\": 9.0, \"educ2\": 4.0, \"age\": 71.0, \"sm_li\": 1, \"female\": 0, \"married\": 1, \"parent\": 0}, {\"income\": 9.0, \"educ2\": 6.0, \"age\": 66.0, \"sm_li\": 1, \"female\": 1, \"married\": 0, \"parent\": 0}, {\"income\": 6.0, \"educ2\": 8.0, \"age\": 64.0, \"sm_li\": 0, \"female\": 0, \"married\": 0, \"parent\": 0}, {\"income\": 3.0, \"educ2\": 8.0, \"age\": 62.0, \"sm_li\": 0, \"female\": 0, \"married\": 0, \"parent\": 0}, {\"income\": 4.0, \"educ2\": 8.0, \"age\": 84.0, \"sm_li\": 0, \"female\": 1, \"married\": 0, \"parent\": 0}, {\"income\": 7.0, \"educ2\": 8.0, \"age\": 74.0, \"sm_li\": 0, \"female\": 1, \"married\": 1, \"parent\": 0}, {\"income\": 8.0, \"educ2\": 4.0, \"age\": 62.0, \"sm_li\": 0, \"female\": 0, \"married\": 0, \"parent\": 0}, {\"income\": 1.0, \"educ2\": 2.0, \"age\": 87.0, \"sm_li\": 0, \"female\": 1, \"married\": 0, \"parent\": 0}, {\"income\": 5.0, \"educ2\": 7.0, \"age\": 74.0, \"sm_li\": 0, \"female\": 1, \"married\": 0, \"parent\": 0}, {\"income\": 3.0, \"educ2\": 5.0, \"age\": 76.0, \"sm_li\": 0, \"female\": 1, \"married\": 0, \"parent\": 0}, {\"income\": 2.0, \"educ2\": 3.0, \"age\": 86.0, \"sm_li\": 0, \"female\": 0, \"married\": 1, \"parent\": 0}, {\"income\": 7.0, \"educ2\": 8.0, \"age\": 44.0, \"sm_li\": 1, \"female\": 0, \"married\": 0, \"parent\": 0}, {\"income\": 8.0, \"educ2\": 5.0, \"age\": 71.0, \"sm_li\": 0, \"female\": 1, \"married\": 1, \"parent\": 0}, {\"income\": 5.0, \"educ2\": 5.0, \"age\": 69.0, \"sm_li\": 0, \"female\": 1, \"married\": 0, \"parent\": 0}, {\"income\": 8.0, \"educ2\": 8.0, \"age\": 86.0, \"sm_li\": 0, \"female\": 0, \"married\": 1, \"parent\": 0}, {\"income\": 2.0, \"educ2\": 4.0, \"age\": 97.0, \"sm_li\": 0, \"female\": 0, \"married\": 0, \"parent\": 0}, {\"income\": 8.0, \"educ2\": 6.0, \"age\": 58.0, \"sm_li\": 1, \"female\": 0, \"married\": 1, \"parent\": 0}, {\"income\": 3.0, \"educ2\": 3.0, \"age\": 73.0, \"sm_li\": 0, \"female\": 0, \"married\": 0, \"parent\": 0}, {\"income\": 5.0, \"educ2\": 4.0, \"age\": 70.0, \"sm_li\": 1, \"female\": 1, \"married\": 0, \"parent\": 0}, {\"income\": 2.0, \"educ2\": 3.0, \"age\": 74.0, \"sm_li\": 0, \"female\": 0, \"married\": 0, \"parent\": 0}, {\"income\": 9.0, \"educ2\": 8.0, \"age\": 35.0, \"sm_li\": 1, \"female\": 0, \"married\": 1, \"parent\": 0}, {\"income\": 6.0, \"educ2\": 4.0, \"age\": 80.0, \"sm_li\": 0, \"female\": 1, \"married\": 0, \"parent\": 0}, {\"income\": 5.0, \"educ2\": 4.0, \"age\": 61.0, \"sm_li\": 0, \"female\": 0, \"married\": 0, \"parent\": 0}, {\"income\": 8.0, \"educ2\": 7.0, \"age\": 66.0, \"sm_li\": 0, \"female\": 1, \"married\": 1, \"parent\": 0}, {\"income\": 8.0, \"educ2\": 8.0, \"age\": 76.0, \"sm_li\": 1, \"female\": 0, \"married\": 1, \"parent\": 0}, {\"income\": 5.0, \"educ2\": 4.0, \"age\": 63.0, \"sm_li\": 0, \"female\": 1, \"married\": 0, \"parent\": 0}, {\"income\": 9.0, \"educ2\": 8.0, \"age\": 62.0, \"sm_li\": 1, \"female\": 1, \"married\": 1, \"parent\": 0}, {\"income\": 6.0, \"educ2\": 6.0, \"age\": 69.0, \"sm_li\": 0, \"female\": 1, \"married\": 1, \"parent\": 0}, {\"income\": 8.0, \"educ2\": 6.0, \"age\": 75.0, \"sm_li\": 1, \"female\": 0, \"married\": 1, \"parent\": 0}, {\"income\": 4.0, \"educ2\": 4.0, \"age\": 79.0, \"sm_li\": 0, \"female\": 1, \"married\": 0, \"parent\": 0}, {\"income\": 9.0, \"educ2\": 4.0, \"age\": 39.0, \"sm_li\": 1, \"female\": 1, \"married\": 1, \"parent\": 1}, {\"income\": 4.0, \"educ2\": 8.0, \"age\": 62.0, \"sm_li\": 0, \"female\": 1, \"married\": 1, \"parent\": 0}, {\"income\": 5.0, \"educ2\": 6.0, \"age\": 70.0, \"sm_li\": 0, \"female\": 1, \"married\": 1, \"parent\": 0}, {\"income\": 2.0, \"educ2\": 5.0, \"age\": 66.0, \"sm_li\": 0, \"female\": 1, \"married\": 0, \"parent\": 0}, {\"income\": 5.0, \"educ2\": 2.0, \"age\": 72.0, \"sm_li\": 0, \"female\": 0, \"married\": 1, \"parent\": 0}, {\"income\": 6.0, \"educ2\": 5.0, \"age\": 93.0, \"sm_li\": 0, \"female\": 0, \"married\": 0, \"parent\": 0}, {\"income\": 8.0, \"educ2\": 6.0, \"age\": 61.0, \"sm_li\": 0, \"female\": 0, \"married\": 1, \"parent\": 0}, {\"income\": 6.0, \"educ2\": 6.0, \"age\": 65.0, \"sm_li\": 0, \"female\": 1, \"married\": 0, \"parent\": 0}, {\"income\": 9.0, \"educ2\": 6.0, \"age\": 72.0, \"sm_li\": 0, \"female\": 1, \"married\": 0, \"parent\": 0}, {\"income\": 3.0, \"educ2\": 5.0, \"age\": 81.0, \"sm_li\": 0, \"female\": 1, \"married\": 0, \"parent\": 0}, {\"income\": 6.0, \"educ2\": 4.0, \"age\": 61.0, \"sm_li\": 0, \"female\": 0, \"married\": 0, \"parent\": 0}, {\"income\": 7.0, \"educ2\": 8.0, \"age\": 84.0, \"sm_li\": 0, \"female\": 0, \"married\": 1, \"parent\": 0}, {\"income\": 9.0, \"educ2\": 6.0, \"age\": 67.0, \"sm_li\": 0, \"female\": 1, \"married\": 1, \"parent\": 0}, {\"income\": 5.0, \"educ2\": 3.0, \"age\": 36.0, \"sm_li\": 0, \"female\": 0, \"married\": 1, \"parent\": 1}, {\"income\": 8.0, \"educ2\": 6.0, \"age\": 57.0, \"sm_li\": 0, \"female\": 0, \"married\": 1, \"parent\": 0}, {\"income\": 7.0, \"educ2\": 4.0, \"age\": 59.0, \"sm_li\": 1, \"female\": 0, \"married\": 1, \"parent\": 0}, {\"income\": 4.0, \"educ2\": 4.0, \"age\": 70.0, \"sm_li\": 0, \"female\": 1, \"married\": 0, \"parent\": 0}, {\"income\": 9.0, \"educ2\": 5.0, \"age\": 77.0, \"sm_li\": 1, \"female\": 1, \"married\": 0, \"parent\": 0}, {\"income\": 9.0, \"educ2\": 8.0, \"age\": 57.0, \"sm_li\": 1, \"female\": 0, \"married\": 0, \"parent\": 1}, {\"income\": 7.0, \"educ2\": 5.0, \"age\": 80.0, \"sm_li\": 0, \"female\": 1, \"married\": 1, \"parent\": 0}, {\"income\": 8.0, \"educ2\": 6.0, \"age\": 45.0, \"sm_li\": 0, \"female\": 1, \"married\": 1, \"parent\": 1}, {\"income\": 1.0, \"educ2\": 3.0, \"age\": 73.0, \"sm_li\": 0, \"female\": 0, \"married\": 0, \"parent\": 0}, {\"income\": 7.0, \"educ2\": 6.0, \"age\": 62.0, \"sm_li\": 0, \"female\": 1, \"married\": 1, \"parent\": 0}, {\"income\": 8.0, \"educ2\": 8.0, \"age\": 71.0, \"sm_li\": 1, \"female\": 0, \"married\": 1, \"parent\": 0}, {\"income\": 5.0, \"educ2\": 6.0, \"age\": 85.0, \"sm_li\": 0, \"female\": 1, \"married\": 0, \"parent\": 0}, {\"income\": 4.0, \"educ2\": 7.0, \"age\": 70.0, \"sm_li\": 0, \"female\": 1, \"married\": 0, \"parent\": 1}, {\"income\": 2.0, \"educ2\": 4.0, \"age\": 65.0, \"sm_li\": 0, \"female\": 0, \"married\": 0, \"parent\": 0}, {\"income\": 5.0, \"educ2\": 6.0, \"age\": 71.0, \"sm_li\": 0, \"female\": 0, \"married\": 1, \"parent\": 0}, {\"income\": 5.0, \"educ2\": 3.0, \"age\": 83.0, \"sm_li\": 0, \"female\": 1, \"married\": 0, \"parent\": 0}, {\"income\": 6.0, \"educ2\": 6.0, \"age\": 59.0, \"sm_li\": 0, \"female\": 1, \"married\": 1, \"parent\": 0}, {\"income\": 8.0, \"educ2\": 8.0, \"age\": 69.0, \"sm_li\": 1, \"female\": 0, \"married\": 0, \"parent\": 0}, {\"income\": 6.0, \"educ2\": 7.0, \"age\": 77.0, \"sm_li\": 0, \"female\": 1, \"married\": 1, \"parent\": 0}, {\"income\": 9.0, \"educ2\": 8.0, \"age\": 70.0, \"sm_li\": 0, \"female\": 1, \"married\": 1, \"parent\": 0}, {\"income\": 4.0, \"educ2\": 5.0, \"age\": 80.0, \"sm_li\": 0, \"female\": 1, \"married\": 0, \"parent\": 0}, {\"income\": 2.0, \"educ2\": 2.0, \"age\": 60.0, \"sm_li\": 0, \"female\": 1, \"married\": 0, \"parent\": 0}, {\"income\": 4.0, \"educ2\": 4.0, \"age\": 84.0, \"sm_li\": 0, \"female\": 1, \"married\": 0, \"parent\": 0}, {\"income\": 1.0, \"educ2\": 2.0, \"age\": 54.0, \"sm_li\": 0, \"female\": 1, \"married\": 0, \"parent\": 0}, {\"income\": 6.0, \"educ2\": 6.0, \"age\": 80.0, \"sm_li\": 0, \"female\": 0, \"married\": 1, \"parent\": 0}, {\"income\": 4.0, \"educ2\": 3.0, \"age\": 67.0, \"sm_li\": 0, \"female\": 1, \"married\": 1, \"parent\": 0}, {\"income\": 6.0, \"educ2\": 4.0, \"age\": 70.0, \"sm_li\": 0, \"female\": 0, \"married\": 1, \"parent\": 0}, {\"income\": 5.0, \"educ2\": 6.0, \"age\": 80.0, \"sm_li\": 0, \"female\": 1, \"married\": 1, \"parent\": 0}, {\"income\": 8.0, \"educ2\": 8.0, \"age\": 65.0, \"sm_li\": 0, \"female\": 1, \"married\": 1, \"parent\": 0}, {\"income\": 7.0, \"educ2\": 7.0, \"age\": 65.0, \"sm_li\": 0, \"female\": 1, \"married\": 1, \"parent\": 0}, {\"income\": 3.0, \"educ2\": 6.0, \"age\": 81.0, \"sm_li\": 0, \"female\": 1, \"married\": 1, \"parent\": 0}, {\"income\": 9.0, \"educ2\": 8.0, \"age\": 43.0, \"sm_li\": 1, \"female\": 1, \"married\": 1, \"parent\": 1}, {\"income\": 9.0, \"educ2\": 6.0, \"age\": 66.0, \"sm_li\": 0, \"female\": 1, \"married\": 1, \"parent\": 0}, {\"income\": 5.0, \"educ2\": 3.0, \"age\": 80.0, \"sm_li\": 0, \"female\": 0, \"married\": 0, \"parent\": 0}, {\"income\": 6.0, \"educ2\": 4.0, \"age\": 83.0, \"sm_li\": 0, \"female\": 1, \"married\": 0, \"parent\": 0}, {\"income\": 8.0, \"educ2\": 6.0, \"age\": 55.0, \"sm_li\": 0, \"female\": 1, \"married\": 0, \"parent\": 0}, {\"income\": 7.0, \"educ2\": 6.0, \"age\": 49.0, \"sm_li\": 1, \"female\": 0, \"married\": 1, \"parent\": 1}, {\"income\": 9.0, \"educ2\": 3.0, \"age\": 55.0, \"sm_li\": 1, \"female\": 0, \"married\": 1, \"parent\": 0}, {\"income\": 6.0, \"educ2\": 4.0, \"age\": 64.0, \"sm_li\": 0, \"female\": 1, \"married\": 1, \"parent\": 0}, {\"income\": 7.0, \"educ2\": 6.0, \"age\": 70.0, \"sm_li\": 0, \"female\": 0, \"married\": 1, \"parent\": 0}, {\"income\": 8.0, \"educ2\": 6.0, \"age\": 64.0, \"sm_li\": 0, \"female\": 1, \"married\": 1, \"parent\": 0}, {\"income\": 6.0, \"educ2\": 8.0, \"age\": 75.0, \"sm_li\": 1, \"female\": 1, \"married\": 0, \"parent\": 0}, {\"income\": 4.0, \"educ2\": 6.0, \"age\": 60.0, \"sm_li\": 1, \"female\": 0, \"married\": 0, \"parent\": 0}, {\"income\": 7.0, \"educ2\": 5.0, \"age\": 50.0, \"sm_li\": 1, \"female\": 1, \"married\": 1, \"parent\": 1}, {\"income\": 7.0, \"educ2\": 6.0, \"age\": 71.0, \"sm_li\": 0, \"female\": 1, \"married\": 0, \"parent\": 0}, {\"income\": 9.0, \"educ2\": 8.0, \"age\": 63.0, \"sm_li\": 1, \"female\": 0, \"married\": 1, \"parent\": 0}, {\"income\": 2.0, \"educ2\": 8.0, \"age\": 76.0, \"sm_li\": 0, \"female\": 1, \"married\": 1, \"parent\": 0}, {\"income\": 7.0, \"educ2\": 3.0, \"age\": 61.0, \"sm_li\": 0, \"female\": 0, \"married\": 1, \"parent\": 0}, {\"income\": 8.0, \"educ2\": 8.0, \"age\": 67.0, \"sm_li\": 0, \"female\": 1, \"married\": 1, \"parent\": 0}, {\"income\": 7.0, \"educ2\": 3.0, \"age\": 70.0, \"sm_li\": 0, \"female\": 0, \"married\": 1, \"parent\": 0}, {\"income\": 2.0, \"educ2\": 4.0, \"age\": 46.0, \"sm_li\": 1, \"female\": 1, \"married\": 1, \"parent\": 0}, {\"income\": 8.0, \"educ2\": 6.0, \"age\": 66.0, \"sm_li\": 0, \"female\": 1, \"married\": 0, \"parent\": 0}, {\"income\": 3.0, \"educ2\": 3.0, \"age\": 67.0, \"sm_li\": 0, \"female\": 0, \"married\": 1, \"parent\": 0}, {\"income\": 6.0, \"educ2\": 5.0, \"age\": 74.0, \"sm_li\": 0, \"female\": 0, \"married\": 1, \"parent\": 0}, {\"income\": 1.0, \"educ2\": 6.0, \"age\": 53.0, \"sm_li\": 0, \"female\": 0, \"married\": 0, \"parent\": 0}, {\"income\": 6.0, \"educ2\": 8.0, \"age\": 67.0, \"sm_li\": 0, \"female\": 0, \"married\": 1, \"parent\": 0}, {\"income\": 5.0, \"educ2\": 6.0, \"age\": 80.0, \"sm_li\": 0, \"female\": 1, \"married\": 0, \"parent\": 0}, {\"income\": 5.0, \"educ2\": 8.0, \"age\": 62.0, \"sm_li\": 0, \"female\": 0, \"married\": 0, \"parent\": 0}, {\"income\": 7.0, \"educ2\": 4.0, \"age\": 70.0, \"sm_li\": 0, \"female\": 1, \"married\": 1, \"parent\": 0}, {\"income\": 9.0, \"educ2\": 8.0, \"age\": 80.0, \"sm_li\": 0, \"female\": 0, \"married\": 1, \"parent\": 0}, {\"income\": 2.0, \"educ2\": 8.0, \"age\": 84.0, \"sm_li\": 0, \"female\": 1, \"married\": 0, \"parent\": 0}, {\"income\": 6.0, \"educ2\": 4.0, \"age\": 65.0, \"sm_li\": 0, \"female\": 1, \"married\": 1, \"parent\": 0}, {\"income\": 6.0, \"educ2\": 8.0, \"age\": 74.0, \"sm_li\": 0, \"female\": 0, \"married\": 1, \"parent\": 0}, {\"income\": 1.0, \"educ2\": 4.0, \"age\": 37.0, \"sm_li\": 0, \"female\": 1, \"married\": 0, \"parent\": 0}, {\"income\": 3.0, \"educ2\": 4.0, \"age\": 62.0, \"sm_li\": 1, \"female\": 1, \"married\": 0, \"parent\": 0}, {\"income\": 7.0, \"educ2\": 3.0, \"age\": 63.0, \"sm_li\": 0, \"female\": 0, \"married\": 0, \"parent\": 0}, {\"income\": 9.0, \"educ2\": 6.0, \"age\": 65.0, \"sm_li\": 1, \"female\": 0, \"married\": 1, \"parent\": 0}, {\"income\": 5.0, \"educ2\": 4.0, \"age\": 61.0, \"sm_li\": 0, \"female\": 0, \"married\": 1, \"parent\": 0}, {\"income\": 7.0, \"educ2\": 8.0, \"age\": 82.0, \"sm_li\": 1, \"female\": 1, \"married\": 0, \"parent\": 0}, {\"income\": 6.0, \"educ2\": 8.0, \"age\": 70.0, \"sm_li\": 0, \"female\": 1, \"married\": 0, \"parent\": 0}, {\"income\": 7.0, \"educ2\": 5.0, \"age\": 78.0, \"sm_li\": 0, \"female\": 1, \"married\": 1, \"parent\": 0}, {\"income\": 7.0, \"educ2\": 3.0, \"age\": 65.0, \"sm_li\": 1, \"female\": 1, \"married\": 0, \"parent\": 0}, {\"income\": 5.0, \"educ2\": 6.0, \"age\": 64.0, \"sm_li\": 1, \"female\": 0, \"married\": 1, \"parent\": 0}, {\"income\": 6.0, \"educ2\": 6.0, \"age\": 50.0, \"sm_li\": 0, \"female\": 1, \"married\": 1, \"parent\": 0}, {\"income\": 6.0, \"educ2\": 3.0, \"age\": 54.0, \"sm_li\": 0, \"female\": 1, \"married\": 0, \"parent\": 0}, {\"income\": 9.0, \"educ2\": 8.0, \"age\": 63.0, \"sm_li\": 1, \"female\": 0, \"married\": 0, \"parent\": 0}, {\"income\": 4.0, \"educ2\": 3.0, \"age\": 53.0, \"sm_li\": 0, \"female\": 1, \"married\": 1, \"parent\": 1}, {\"income\": 7.0, \"educ2\": 4.0, \"age\": 66.0, \"sm_li\": 0, \"female\": 0, \"married\": 1, \"parent\": 0}, {\"income\": 7.0, \"educ2\": 6.0, \"age\": 24.0, \"sm_li\": 1, \"female\": 1, \"married\": 0, \"parent\": 0}, {\"income\": 6.0, \"educ2\": 4.0, \"age\": 43.0, \"sm_li\": 0, \"female\": 0, \"married\": 1, \"parent\": 1}, {\"income\": 9.0, \"educ2\": 8.0, \"age\": 47.0, \"sm_li\": 0, \"female\": 1, \"married\": 1, \"parent\": 1}, {\"income\": 7.0, \"educ2\": 6.0, \"age\": 49.0, \"sm_li\": 1, \"female\": 1, \"married\": 1, \"parent\": 1}, {\"income\": 7.0, \"educ2\": 6.0, \"age\": 78.0, \"sm_li\": 0, \"female\": 1, \"married\": 1, \"parent\": 0}, {\"income\": 6.0, \"educ2\": 6.0, \"age\": 52.0, \"sm_li\": 0, \"female\": 1, \"married\": 0, \"parent\": 0}, {\"income\": 8.0, \"educ2\": 6.0, \"age\": 49.0, \"sm_li\": 0, \"female\": 0, \"married\": 1, \"parent\": 1}, {\"income\": 7.0, \"educ2\": 6.0, \"age\": 28.0, \"sm_li\": 0, \"female\": 1, \"married\": 0, \"parent\": 1}, {\"income\": 3.0, \"educ2\": 5.0, \"age\": 42.0, \"sm_li\": 1, \"female\": 1, \"married\": 1, \"parent\": 1}, {\"income\": 5.0, \"educ2\": 4.0, \"age\": 72.0, \"sm_li\": 0, \"female\": 0, \"married\": 1, \"parent\": 0}, {\"income\": 9.0, \"educ2\": 6.0, \"age\": 44.0, \"sm_li\": 1, \"female\": 1, \"married\": 0, \"parent\": 0}, {\"income\": 9.0, \"educ2\": 4.0, \"age\": 19.0, \"sm_li\": 0, \"female\": 1, \"married\": 0, \"parent\": 0}, {\"income\": 4.0, \"educ2\": 5.0, \"age\": 74.0, \"sm_li\": 0, \"female\": 1, \"married\": 1, \"parent\": 0}, {\"income\": 8.0, \"educ2\": 8.0, \"age\": 38.0, \"sm_li\": 1, \"female\": 0, \"married\": 1, \"parent\": 1}, {\"income\": 4.0, \"educ2\": 5.0, \"age\": 22.0, \"sm_li\": 0, \"female\": 0, \"married\": 0, \"parent\": 0}, {\"income\": 8.0, \"educ2\": 3.0, \"age\": 20.0, \"sm_li\": 0, \"female\": 0, \"married\": 0, \"parent\": 0}, {\"income\": 4.0, \"educ2\": 6.0, \"age\": 23.0, \"sm_li\": 1, \"female\": 0, \"married\": 0, \"parent\": 0}, {\"income\": 3.0, \"educ2\": 4.0, \"age\": 48.0, \"sm_li\": 0, \"female\": 1, \"married\": 0, \"parent\": 0}, {\"income\": 6.0, \"educ2\": 5.0, \"age\": 72.0, \"sm_li\": 0, \"female\": 1, \"married\": 0, \"parent\": 0}, {\"income\": 8.0, \"educ2\": 3.0, \"age\": 48.0, \"sm_li\": 0, \"female\": 0, \"married\": 1, \"parent\": 0}, {\"income\": 8.0, \"educ2\": 8.0, \"age\": 26.0, \"sm_li\": 0, \"female\": 1, \"married\": 1, \"parent\": 0}, {\"income\": 5.0, \"educ2\": 7.0, \"age\": 26.0, \"sm_li\": 0, \"female\": 1, \"married\": 0, \"parent\": 0}, {\"income\": 8.0, \"educ2\": 8.0, \"age\": 58.0, \"sm_li\": 1, \"female\": 0, \"married\": 1, \"parent\": 0}, {\"income\": 7.0, \"educ2\": 8.0, \"age\": 49.0, \"sm_li\": 1, \"female\": 1, \"married\": 1, \"parent\": 1}, {\"income\": 4.0, \"educ2\": 5.0, \"age\": 35.0, \"sm_li\": 0, \"female\": 0, \"married\": 0, \"parent\": 1}, {\"income\": 8.0, \"educ2\": 4.0, \"age\": 45.0, \"sm_li\": 1, \"female\": 0, \"married\": 1, \"parent\": 1}, {\"income\": 8.0, \"educ2\": 5.0, \"age\": 50.0, \"sm_li\": 1, \"female\": 1, \"married\": 0, \"parent\": 0}, {\"income\": 7.0, \"educ2\": 4.0, \"age\": 39.0, \"sm_li\": 0, \"female\": 0, \"married\": 0, \"parent\": 0}, {\"income\": 2.0, \"educ2\": 8.0, \"age\": 38.0, \"sm_li\": 1, \"female\": 1, \"married\": 0, \"parent\": 1}, {\"income\": 3.0, \"educ2\": 5.0, \"age\": 42.0, \"sm_li\": 0, \"female\": 0, \"married\": 0, \"parent\": 0}, {\"income\": 2.0, \"educ2\": 2.0, \"age\": 60.0, \"sm_li\": 0, \"female\": 0, \"married\": 1, \"parent\": 0}, {\"income\": 8.0, \"educ2\": 6.0, \"age\": 65.0, \"sm_li\": 1, \"female\": 1, \"married\": 1, \"parent\": 0}, {\"income\": 9.0, \"educ2\": 6.0, \"age\": 24.0, \"sm_li\": 1, \"female\": 0, \"married\": 0, \"parent\": 0}, {\"income\": 9.0, \"educ2\": 3.0, \"age\": 43.0, \"sm_li\": 0, \"female\": 0, \"married\": 0, \"parent\": 1}, {\"income\": 9.0, \"educ2\": 4.0, \"age\": 52.0, \"sm_li\": 1, \"female\": 1, \"married\": 1, \"parent\": 1}, {\"income\": 3.0, \"educ2\": 4.0, \"age\": 59.0, \"sm_li\": 0, \"female\": 0, \"married\": 0, \"parent\": 0}, {\"income\": 4.0, \"educ2\": 4.0, \"age\": 56.0, \"sm_li\": 0, \"female\": 1, \"married\": 0, \"parent\": 0}, {\"income\": 6.0, \"educ2\": 3.0, \"age\": 36.0, \"sm_li\": 0, \"female\": 0, \"married\": 0, \"parent\": 0}, {\"income\": 2.0, \"educ2\": 6.0, \"age\": 60.0, \"sm_li\": 0, \"female\": 0, \"married\": 0, \"parent\": 0}, {\"income\": 3.0, \"educ2\": 1.0, \"age\": 68.0, \"sm_li\": 0, \"female\": 0, \"married\": 0, \"parent\": 0}, {\"income\": 8.0, \"educ2\": 8.0, \"age\": 70.0, \"sm_li\": 0, \"female\": 1, \"married\": 0, \"parent\": 0}, {\"income\": 6.0, \"educ2\": 4.0, \"age\": 21.0, \"sm_li\": 0, \"female\": 0, \"married\": 0, \"parent\": 0}, {\"income\": 6.0, \"educ2\": 6.0, \"age\": 41.0, \"sm_li\": 0, \"female\": 1, \"married\": 0, \"parent\": 1}, {\"income\": 4.0, \"educ2\": 4.0, \"age\": 40.0, \"sm_li\": 1, \"female\": 0, \"married\": 0, \"parent\": 1}, {\"income\": 9.0, \"educ2\": 2.0, \"age\": 24.0, \"sm_li\": 0, \"female\": 0, \"married\": 0, \"parent\": 0}, {\"income\": 9.0, \"educ2\": 5.0, \"age\": 60.0, \"sm_li\": 0, \"female\": 0, \"married\": 1, \"parent\": 0}, {\"income\": 2.0, \"educ2\": 3.0, \"age\": 51.0, \"sm_li\": 0, \"female\": 0, \"married\": 0, \"parent\": 0}, {\"income\": 9.0, \"educ2\": 8.0, \"age\": 49.0, \"sm_li\": 1, \"female\": 0, \"married\": 1, \"parent\": 1}, {\"income\": 8.0, \"educ2\": 8.0, \"age\": 56.0, \"sm_li\": 1, \"female\": 1, \"married\": 0, \"parent\": 0}, {\"income\": 4.0, \"educ2\": 3.0, \"age\": 66.0, \"sm_li\": 0, \"female\": 0, \"married\": 0, \"parent\": 0}, {\"income\": 9.0, \"educ2\": 8.0, \"age\": 40.0, \"sm_li\": 1, \"female\": 0, \"married\": 1, \"parent\": 1}, {\"income\": 6.0, \"educ2\": 5.0, \"age\": 48.0, \"sm_li\": 1, \"female\": 1, \"married\": 0, \"parent\": 1}, {\"income\": 1.0, \"educ2\": 2.0, \"age\": 70.0, \"sm_li\": 0, \"female\": 1, \"married\": 0, \"parent\": 0}, {\"income\": 2.0, \"educ2\": 3.0, \"age\": 68.0, \"sm_li\": 0, \"female\": 0, \"married\": 0, \"parent\": 0}, {\"income\": 8.0, \"educ2\": 4.0, \"age\": 45.0, \"sm_li\": 0, \"female\": 1, \"married\": 1, \"parent\": 0}, {\"income\": 4.0, \"educ2\": 2.0, \"age\": 58.0, \"sm_li\": 0, \"female\": 1, \"married\": 0, \"parent\": 1}, {\"income\": 9.0, \"educ2\": 3.0, \"age\": 56.0, \"sm_li\": 1, \"female\": 0, \"married\": 1, \"parent\": 0}, {\"income\": 9.0, \"educ2\": 3.0, \"age\": 18.0, \"sm_li\": 0, \"female\": 0, \"married\": 0, \"parent\": 0}, {\"income\": 9.0, \"educ2\": 8.0, \"age\": 67.0, \"sm_li\": 1, \"female\": 0, \"married\": 1, \"parent\": 0}, {\"income\": 3.0, \"educ2\": 3.0, \"age\": 72.0, \"sm_li\": 0, \"female\": 0, \"married\": 0, \"parent\": 0}, {\"income\": 9.0, \"educ2\": 4.0, \"age\": 37.0, \"sm_li\": 0, \"female\": 0, \"married\": 1, \"parent\": 1}, {\"income\": 7.0, \"educ2\": 6.0, \"age\": 34.0, \"sm_li\": 1, \"female\": 1, \"married\": 0, \"parent\": 0}, {\"income\": 2.0, \"educ2\": 3.0, \"age\": 35.0, \"sm_li\": 0, \"female\": 1, \"married\": 0, \"parent\": 1}, {\"income\": 2.0, \"educ2\": 3.0, \"age\": 30.0, \"sm_li\": 1, \"female\": 1, \"married\": 0, \"parent\": 1}, {\"income\": 8.0, \"educ2\": 3.0, \"age\": 18.0, \"sm_li\": 0, \"female\": 0, \"married\": 0, \"parent\": 0}, {\"income\": 6.0, \"educ2\": 6.0, \"age\": 38.0, \"sm_li\": 1, \"female\": 1, \"married\": 0, \"parent\": 0}, {\"income\": 2.0, \"educ2\": 3.0, \"age\": 62.0, \"sm_li\": 0, \"female\": 0, \"married\": 0, \"parent\": 0}, {\"income\": 3.0, \"educ2\": 6.0, \"age\": 70.0, \"sm_li\": 0, \"female\": 1, \"married\": 0, \"parent\": 0}, {\"income\": 6.0, \"educ2\": 6.0, \"age\": 33.0, \"sm_li\": 0, \"female\": 0, \"married\": 1, \"parent\": 0}, {\"income\": 3.0, \"educ2\": 5.0, \"age\": 66.0, \"sm_li\": 0, \"female\": 0, \"married\": 0, \"parent\": 0}, {\"income\": 9.0, \"educ2\": 7.0, \"age\": 54.0, \"sm_li\": 1, \"female\": 0, \"married\": 1, \"parent\": 0}, {\"income\": 6.0, \"educ2\": 5.0, \"age\": 24.0, \"sm_li\": 0, \"female\": 0, \"married\": 0, \"parent\": 0}, {\"income\": 6.0, \"educ2\": 4.0, \"age\": 62.0, \"sm_li\": 0, \"female\": 0, \"married\": 1, \"parent\": 0}, {\"income\": 6.0, \"educ2\": 3.0, \"age\": 39.0, \"sm_li\": 0, \"female\": 0, \"married\": 1, \"parent\": 1}, {\"income\": 1.0, \"educ2\": 3.0, \"age\": 56.0, \"sm_li\": 0, \"female\": 1, \"married\": 0, \"parent\": 0}, {\"income\": 9.0, \"educ2\": 4.0, \"age\": 47.0, \"sm_li\": 0, \"female\": 0, \"married\": 0, \"parent\": 0}, {\"income\": 9.0, \"educ2\": 8.0, \"age\": 73.0, \"sm_li\": 0, \"female\": 1, \"married\": 1, \"parent\": 0}, {\"income\": 7.0, \"educ2\": 6.0, \"age\": 67.0, \"sm_li\": 0, \"female\": 1, \"married\": 1, \"parent\": 0}, {\"income\": 3.0, \"educ2\": 3.0, \"age\": 55.0, \"sm_li\": 0, \"female\": 1, \"married\": 0, \"parent\": 0}, {\"income\": 6.0, \"educ2\": 8.0, \"age\": 56.0, \"sm_li\": 1, \"female\": 1, \"married\": 0, \"parent\": 0}, {\"income\": 9.0, \"educ2\": 8.0, \"age\": 48.0, \"sm_li\": 0, \"female\": 0, \"married\": 0, \"parent\": 1}, {\"income\": 8.0, \"educ2\": 6.0, \"age\": 69.0, \"sm_li\": 1, \"female\": 0, \"married\": 1, \"parent\": 0}, {\"income\": 9.0, \"educ2\": 8.0, \"age\": 30.0, \"sm_li\": 1, \"female\": 1, \"married\": 1, \"parent\": 1}, {\"income\": 7.0, \"educ2\": 6.0, \"age\": 64.0, \"sm_li\": 0, \"female\": 1, \"married\": 1, \"parent\": 0}, {\"income\": 4.0, \"educ2\": 6.0, \"age\": 58.0, \"sm_li\": 1, \"female\": 1, \"married\": 0, \"parent\": 0}, {\"income\": 7.0, \"educ2\": 8.0, \"age\": 71.0, \"sm_li\": 0, \"female\": 1, \"married\": 1, \"parent\": 1}, {\"income\": 3.0, \"educ2\": 3.0, \"age\": 49.0, \"sm_li\": 0, \"female\": 1, \"married\": 0, \"parent\": 0}, {\"income\": 3.0, \"educ2\": 4.0, \"age\": 44.0, \"sm_li\": 1, \"female\": 0, \"married\": 0, \"parent\": 1}, {\"income\": 7.0, \"educ2\": 4.0, \"age\": 49.0, \"sm_li\": 1, \"female\": 0, \"married\": 1, \"parent\": 1}, {\"income\": 2.0, \"educ2\": 5.0, \"age\": 63.0, \"sm_li\": 0, \"female\": 0, \"married\": 0, \"parent\": 0}, {\"income\": 6.0, \"educ2\": 4.0, \"age\": 20.0, \"sm_li\": 0, \"female\": 0, \"married\": 0, \"parent\": 0}, {\"income\": 2.0, \"educ2\": 5.0, \"age\": 32.0, \"sm_li\": 0, \"female\": 0, \"married\": 0, \"parent\": 0}, {\"income\": 4.0, \"educ2\": 8.0, \"age\": 79.0, \"sm_li\": 1, \"female\": 0, \"married\": 0, \"parent\": 0}, {\"income\": 3.0, \"educ2\": 1.0, \"age\": 39.0, \"sm_li\": 0, \"female\": 0, \"married\": 0, \"parent\": 0}, {\"income\": 7.0, \"educ2\": 4.0, \"age\": 30.0, \"sm_li\": 0, \"female\": 1, \"married\": 1, \"parent\": 1}, {\"income\": 7.0, \"educ2\": 8.0, \"age\": 73.0, \"sm_li\": 0, \"female\": 0, \"married\": 1, \"parent\": 0}, {\"income\": 9.0, \"educ2\": 3.0, \"age\": 18.0, \"sm_li\": 0, \"female\": 1, \"married\": 0, \"parent\": 0}, {\"income\": 9.0, \"educ2\": 6.0, \"age\": 45.0, \"sm_li\": 1, \"female\": 0, \"married\": 1, \"parent\": 1}, {\"income\": 6.0, \"educ2\": 3.0, \"age\": 60.0, \"sm_li\": 0, \"female\": 0, \"married\": 1, \"parent\": 0}, {\"income\": 1.0, \"educ2\": 4.0, \"age\": 53.0, \"sm_li\": 0, \"female\": 0, \"married\": 0, \"parent\": 0}, {\"income\": 7.0, \"educ2\": 6.0, \"age\": 53.0, \"sm_li\": 1, \"female\": 0, \"married\": 0, \"parent\": 1}, {\"income\": 8.0, \"educ2\": 4.0, \"age\": 60.0, \"sm_li\": 1, \"female\": 0, \"married\": 1, \"parent\": 0}, {\"income\": 4.0, \"educ2\": 8.0, \"age\": 26.0, \"sm_li\": 0, \"female\": 0, \"married\": 0, \"parent\": 0}, {\"income\": 8.0, \"educ2\": 3.0, \"age\": 61.0, \"sm_li\": 0, \"female\": 0, \"married\": 1, \"parent\": 0}, {\"income\": 5.0, \"educ2\": 3.0, \"age\": 73.0, \"sm_li\": 0, \"female\": 0, \"married\": 1, \"parent\": 0}, {\"income\": 8.0, \"educ2\": 8.0, \"age\": 72.0, \"sm_li\": 1, \"female\": 1, \"married\": 0, \"parent\": 0}, {\"income\": 3.0, \"educ2\": 6.0, \"age\": 72.0, \"sm_li\": 0, \"female\": 0, \"married\": 0, \"parent\": 0}, {\"income\": 4.0, \"educ2\": 6.0, \"age\": 23.0, \"sm_li\": 1, \"female\": 0, \"married\": 0, \"parent\": 0}, {\"income\": 8.0, \"educ2\": 7.0, \"age\": 59.0, \"sm_li\": 1, \"female\": 0, \"married\": 0, \"parent\": 0}, {\"income\": 6.0, \"educ2\": 5.0, \"age\": 23.0, \"sm_li\": 0, \"female\": 0, \"married\": 0, \"parent\": 0}, {\"income\": 9.0, \"educ2\": 6.0, \"age\": 72.0, \"sm_li\": 1, \"female\": 1, \"married\": 1, \"parent\": 0}, {\"income\": 2.0, \"educ2\": 5.0, \"age\": 78.0, \"sm_li\": 0, \"female\": 0, \"married\": 0, \"parent\": 0}, {\"income\": 7.0, \"educ2\": 6.0, \"age\": 34.0, \"sm_li\": 0, \"female\": 1, \"married\": 1, \"parent\": 1}, {\"income\": 9.0, \"educ2\": 3.0, \"age\": 21.0, \"sm_li\": 1, \"female\": 0, \"married\": 0, \"parent\": 0}, {\"income\": 9.0, \"educ2\": 8.0, \"age\": 46.0, \"sm_li\": 0, \"female\": 1, \"married\": 1, \"parent\": 1}, {\"income\": 6.0, \"educ2\": 6.0, \"age\": 40.0, \"sm_li\": 0, \"female\": 1, \"married\": 1, \"parent\": 1}, {\"income\": 8.0, \"educ2\": 3.0, \"age\": 23.0, \"sm_li\": 1, \"female\": 1, \"married\": 1, \"parent\": 0}, {\"income\": 8.0, \"educ2\": 8.0, \"age\": 73.0, \"sm_li\": 1, \"female\": 0, \"married\": 1, \"parent\": 0}, {\"income\": 3.0, \"educ2\": 4.0, \"age\": 79.0, \"sm_li\": 0, \"female\": 1, \"married\": 0, \"parent\": 0}, {\"income\": 6.0, \"educ2\": 4.0, \"age\": 18.0, \"sm_li\": 0, \"female\": 0, \"married\": 0, \"parent\": 0}, {\"income\": 3.0, \"educ2\": 3.0, \"age\": 55.0, \"sm_li\": 0, \"female\": 0, \"married\": 0, \"parent\": 0}, {\"income\": 9.0, \"educ2\": 6.0, \"age\": 77.0, \"sm_li\": 0, \"female\": 0, \"married\": 0, \"parent\": 0}, {\"income\": 1.0, \"educ2\": 3.0, \"age\": 25.0, \"sm_li\": 0, \"female\": 0, \"married\": 0, \"parent\": 0}, {\"income\": 6.0, \"educ2\": 3.0, \"age\": 31.0, \"sm_li\": 0, \"female\": 0, \"married\": 1, \"parent\": 1}, {\"income\": 6.0, \"educ2\": 3.0, \"age\": 29.0, \"sm_li\": 0, \"female\": 0, \"married\": 0, \"parent\": 1}, {\"income\": 5.0, \"educ2\": 3.0, \"age\": 73.0, \"sm_li\": 0, \"female\": 0, \"married\": 1, \"parent\": 0}, {\"income\": 4.0, \"educ2\": 4.0, \"age\": 73.0, \"sm_li\": 1, \"female\": 0, \"married\": 1, \"parent\": 0}, {\"income\": 4.0, \"educ2\": 6.0, \"age\": 28.0, \"sm_li\": 0, \"female\": 1, \"married\": 0, \"parent\": 0}, {\"income\": 9.0, \"educ2\": 6.0, \"age\": 58.0, \"sm_li\": 1, \"female\": 0, \"married\": 1, \"parent\": 0}, {\"income\": 4.0, \"educ2\": 3.0, \"age\": 21.0, \"sm_li\": 0, \"female\": 0, \"married\": 0, \"parent\": 0}, {\"income\": 9.0, \"educ2\": 8.0, \"age\": 68.0, \"sm_li\": 1, \"female\": 0, \"married\": 1, \"parent\": 0}, {\"income\": 8.0, \"educ2\": 5.0, \"age\": 35.0, \"sm_li\": 0, \"female\": 0, \"married\": 0, \"parent\": 1}, {\"income\": 7.0, \"educ2\": 6.0, \"age\": 75.0, \"sm_li\": 1, \"female\": 0, \"married\": 1, \"parent\": 0}, {\"income\": 4.0, \"educ2\": 8.0, \"age\": 45.0, \"sm_li\": 1, \"female\": 1, \"married\": 1, \"parent\": 0}, {\"income\": 4.0, \"educ2\": 3.0, \"age\": 40.0, \"sm_li\": 0, \"female\": 1, \"married\": 1, \"parent\": 0}, {\"income\": 4.0, \"educ2\": 5.0, \"age\": 47.0, \"sm_li\": 1, \"female\": 1, \"married\": 0, \"parent\": 1}, {\"income\": 2.0, \"educ2\": 2.0, \"age\": 59.0, \"sm_li\": 0, \"female\": 0, \"married\": 0, \"parent\": 0}, {\"income\": 8.0, \"educ2\": 5.0, \"age\": 61.0, \"sm_li\": 1, \"female\": 0, \"married\": 1, \"parent\": 1}, {\"income\": 7.0, \"educ2\": 6.0, \"age\": 60.0, \"sm_li\": 1, \"female\": 0, \"married\": 1, \"parent\": 0}, {\"income\": 4.0, \"educ2\": 8.0, \"age\": 62.0, \"sm_li\": 0, \"female\": 1, \"married\": 1, \"parent\": 0}, {\"income\": 6.0, \"educ2\": 8.0, \"age\": 41.0, \"sm_li\": 0, \"female\": 1, \"married\": 0, \"parent\": 0}, {\"income\": 3.0, \"educ2\": 3.0, \"age\": 24.0, \"sm_li\": 0, \"female\": 0, \"married\": 0, \"parent\": 1}, {\"income\": 7.0, \"educ2\": 8.0, \"age\": 56.0, \"sm_li\": 0, \"female\": 1, \"married\": 0, \"parent\": 1}, {\"income\": 7.0, \"educ2\": 6.0, \"age\": 44.0, \"sm_li\": 1, \"female\": 0, \"married\": 0, \"parent\": 0}, {\"income\": 6.0, \"educ2\": 3.0, \"age\": 51.0, \"sm_li\": 0, \"female\": 0, \"married\": 1, \"parent\": 1}, {\"income\": 7.0, \"educ2\": 4.0, \"age\": 42.0, \"sm_li\": 0, \"female\": 0, \"married\": 1, \"parent\": 0}, {\"income\": 8.0, \"educ2\": 4.0, \"age\": 40.0, \"sm_li\": 1, \"female\": 0, \"married\": 1, \"parent\": 1}, {\"income\": 2.0, \"educ2\": 4.0, \"age\": 64.0, \"sm_li\": 0, \"female\": 1, \"married\": 0, \"parent\": 0}, {\"income\": 1.0, \"educ2\": 8.0, \"age\": 65.0, \"sm_li\": 0, \"female\": 0, \"married\": 0, \"parent\": 0}, {\"income\": 9.0, \"educ2\": 4.0, \"age\": 20.0, \"sm_li\": 1, \"female\": 0, \"married\": 0, \"parent\": 0}, {\"income\": 7.0, \"educ2\": 8.0, \"age\": 24.0, \"sm_li\": 1, \"female\": 0, \"married\": 0, \"parent\": 1}, {\"income\": 6.0, \"educ2\": 3.0, \"age\": 84.0, \"sm_li\": 0, \"female\": 1, \"married\": 1, \"parent\": 0}, {\"income\": 8.0, \"educ2\": 8.0, \"age\": 61.0, \"sm_li\": 1, \"female\": 1, \"married\": 1, \"parent\": 0}, {\"income\": 7.0, \"educ2\": 6.0, \"age\": 49.0, \"sm_li\": 1, \"female\": 1, \"married\": 1, \"parent\": 0}, {\"income\": 8.0, \"educ2\": 8.0, \"age\": 73.0, \"sm_li\": 0, \"female\": 0, \"married\": 1, \"parent\": 0}, {\"income\": 8.0, \"educ2\": 8.0, \"age\": 71.0, \"sm_li\": 0, \"female\": 0, \"married\": 1, \"parent\": 0}, {\"income\": 4.0, \"educ2\": 3.0, \"age\": 20.0, \"sm_li\": 0, \"female\": 1, \"married\": 0, \"parent\": 0}, {\"income\": 1.0, \"educ2\": 3.0, \"age\": 62.0, \"sm_li\": 0, \"female\": 0, \"married\": 0, \"parent\": 0}, {\"income\": 9.0, \"educ2\": 8.0, \"age\": 53.0, \"sm_li\": 1, \"female\": 0, \"married\": 1, \"parent\": 0}, {\"income\": 8.0, \"educ2\": 3.0, \"age\": 62.0, \"sm_li\": 0, \"female\": 0, \"married\": 1, \"parent\": 0}, {\"income\": 6.0, \"educ2\": 6.0, \"age\": 23.0, \"sm_li\": 1, \"female\": 0, \"married\": 0, \"parent\": 0}, {\"income\": 6.0, \"educ2\": 6.0, \"age\": 46.0, \"sm_li\": 0, \"female\": 1, \"married\": 1, \"parent\": 0}, {\"income\": 5.0, \"educ2\": 8.0, \"age\": 57.0, \"sm_li\": 1, \"female\": 0, \"married\": 1, \"parent\": 1}, {\"income\": 2.0, \"educ2\": 6.0, \"age\": 48.0, \"sm_li\": 0, \"female\": 0, \"married\": 0, \"parent\": 0}, {\"income\": 6.0, \"educ2\": 3.0, \"age\": 34.0, \"sm_li\": 0, \"female\": 0, \"married\": 0, \"parent\": 0}, {\"income\": 6.0, \"educ2\": 7.0, \"age\": 58.0, \"sm_li\": 1, \"female\": 1, \"married\": 1, \"parent\": 0}, {\"income\": 5.0, \"educ2\": 6.0, \"age\": 30.0, \"sm_li\": 0, \"female\": 0, \"married\": 1, \"parent\": 1}, {\"income\": 2.0, \"educ2\": 8.0, \"age\": 34.0, \"sm_li\": 1, \"female\": 0, \"married\": 0, \"parent\": 1}, {\"income\": 7.0, \"educ2\": 8.0, \"age\": 40.0, \"sm_li\": 1, \"female\": 0, \"married\": 1, \"parent\": 1}, {\"income\": 7.0, \"educ2\": 4.0, \"age\": 36.0, \"sm_li\": 0, \"female\": 0, \"married\": 1, \"parent\": 0}, {\"income\": 3.0, \"educ2\": 4.0, \"age\": 42.0, \"sm_li\": 0, \"female\": 0, \"married\": 1, \"parent\": 1}, {\"income\": 6.0, \"educ2\": 3.0, \"age\": 18.0, \"sm_li\": 0, \"female\": 0, \"married\": 0, \"parent\": 0}, {\"income\": 6.0, \"educ2\": 3.0, \"age\": 63.0, \"sm_li\": 0, \"female\": 0, \"married\": 0, \"parent\": 0}, {\"income\": 3.0, \"educ2\": 2.0, \"age\": 62.0, \"sm_li\": 1, \"female\": 0, \"married\": 0, \"parent\": 0}, {\"income\": 9.0, \"educ2\": 8.0, \"age\": 61.0, \"sm_li\": 1, \"female\": 1, \"married\": 1, \"parent\": 0}, {\"income\": 3.0, \"educ2\": 5.0, \"age\": 61.0, \"sm_li\": 1, \"female\": 0, \"married\": 1, \"parent\": 0}, {\"income\": 9.0, \"educ2\": 7.0, \"age\": 59.0, \"sm_li\": 1, \"female\": 1, \"married\": 1, \"parent\": 0}, {\"income\": 6.0, \"educ2\": 3.0, \"age\": 35.0, \"sm_li\": 0, \"female\": 1, \"married\": 0, \"parent\": 1}, {\"income\": 1.0, \"educ2\": 4.0, \"age\": 69.0, \"sm_li\": 0, \"female\": 1, \"married\": 0, \"parent\": 0}, {\"income\": 7.0, \"educ2\": 4.0, \"age\": 51.0, \"sm_li\": 1, \"female\": 0, \"married\": 1, \"parent\": 1}, {\"income\": 9.0, \"educ2\": 8.0, \"age\": 46.0, \"sm_li\": 0, \"female\": 0, \"married\": 1, \"parent\": 1}, {\"income\": 4.0, \"educ2\": 3.0, \"age\": 51.0, \"sm_li\": 0, \"female\": 0, \"married\": 1, \"parent\": 1}, {\"income\": 3.0, \"educ2\": 8.0, \"age\": 79.0, \"sm_li\": 0, \"female\": 0, \"married\": 1, \"parent\": 1}, {\"income\": 6.0, \"educ2\": 5.0, \"age\": 64.0, \"sm_li\": 0, \"female\": 1, \"married\": 0, \"parent\": 0}, {\"income\": 4.0, \"educ2\": 3.0, \"age\": 73.0, \"sm_li\": 0, \"female\": 0, \"married\": 0, \"parent\": 0}, {\"income\": 8.0, \"educ2\": 6.0, \"age\": 50.0, \"sm_li\": 1, \"female\": 1, \"married\": 1, \"parent\": 0}, {\"income\": 8.0, \"educ2\": 4.0, \"age\": 82.0, \"sm_li\": 0, \"female\": 0, \"married\": 0, \"parent\": 0}, {\"income\": 6.0, \"educ2\": 5.0, \"age\": 45.0, \"sm_li\": 0, \"female\": 1, \"married\": 0, \"parent\": 0}, {\"income\": 3.0, \"educ2\": 3.0, \"age\": 61.0, \"sm_li\": 0, \"female\": 1, \"married\": 1, \"parent\": 0}, {\"income\": 4.0, \"educ2\": 3.0, \"age\": 22.0, \"sm_li\": 0, \"female\": 1, \"married\": 0, \"parent\": 0}, {\"income\": 1.0, \"educ2\": 3.0, \"age\": 70.0, \"sm_li\": 0, \"female\": 0, \"married\": 0, \"parent\": 0}, {\"income\": 4.0, \"educ2\": 6.0, \"age\": 44.0, \"sm_li\": 1, \"female\": 0, \"married\": 0, \"parent\": 1}, {\"income\": 6.0, \"educ2\": 8.0, \"age\": 25.0, \"sm_li\": 0, \"female\": 0, \"married\": 0, \"parent\": 0}, {\"income\": 8.0, \"educ2\": 8.0, \"age\": 23.0, \"sm_li\": 0, \"female\": 1, \"married\": 1, \"parent\": 0}, {\"income\": 7.0, \"educ2\": 4.0, \"age\": 30.0, \"sm_li\": 1, \"female\": 0, \"married\": 1, \"parent\": 1}, {\"income\": 7.0, \"educ2\": 6.0, \"age\": 33.0, \"sm_li\": 1, \"female\": 0, \"married\": 0, \"parent\": 0}, {\"income\": 7.0, \"educ2\": 8.0, \"age\": 46.0, \"sm_li\": 1, \"female\": 0, \"married\": 1, \"parent\": 1}, {\"income\": 5.0, \"educ2\": 3.0, \"age\": 46.0, \"sm_li\": 0, \"female\": 0, \"married\": 1, \"parent\": 1}, {\"income\": 6.0, \"educ2\": 5.0, \"age\": 31.0, \"sm_li\": 1, \"female\": 0, \"married\": 1, \"parent\": 0}, {\"income\": 7.0, \"educ2\": 6.0, \"age\": 27.0, \"sm_li\": 0, \"female\": 0, \"married\": 1, \"parent\": 0}, {\"income\": 9.0, \"educ2\": 8.0, \"age\": 72.0, \"sm_li\": 1, \"female\": 0, \"married\": 1, \"parent\": 0}, {\"income\": 2.0, \"educ2\": 4.0, \"age\": 23.0, \"sm_li\": 0, \"female\": 1, \"married\": 0, \"parent\": 1}, {\"income\": 7.0, \"educ2\": 5.0, \"age\": 47.0, \"sm_li\": 1, \"female\": 0, \"married\": 0, \"parent\": 0}, {\"income\": 6.0, \"educ2\": 8.0, \"age\": 37.0, \"sm_li\": 1, \"female\": 0, \"married\": 1, \"parent\": 1}, {\"income\": 6.0, \"educ2\": 5.0, \"age\": 85.0, \"sm_li\": 0, \"female\": 1, \"married\": 0, \"parent\": 0}, {\"income\": 9.0, \"educ2\": 8.0, \"age\": 70.0, \"sm_li\": 1, \"female\": 0, \"married\": 1, \"parent\": 0}, {\"income\": 8.0, \"educ2\": 8.0, \"age\": 49.0, \"sm_li\": 0, \"female\": 0, \"married\": 1, \"parent\": 0}, {\"income\": 3.0, \"educ2\": 5.0, \"age\": 72.0, \"sm_li\": 1, \"female\": 0, \"married\": 1, \"parent\": 0}, {\"income\": 8.0, \"educ2\": 8.0, \"age\": 70.0, \"sm_li\": 0, \"female\": 0, \"married\": 1, \"parent\": 0}, {\"income\": 7.0, \"educ2\": 8.0, \"age\": 66.0, \"sm_li\": 1, \"female\": 0, \"married\": 1, \"parent\": 0}, {\"income\": 5.0, \"educ2\": 3.0, \"age\": 30.0, \"sm_li\": 0, \"female\": 0, \"married\": 1, \"parent\": 1}, {\"income\": 1.0, \"educ2\": 2.0, \"age\": 36.0, \"sm_li\": 0, \"female\": 1, \"married\": 1, \"parent\": 0}, {\"income\": 7.0, \"educ2\": 4.0, \"age\": 64.0, \"sm_li\": 0, \"female\": 0, \"married\": 1, \"parent\": 0}, {\"income\": 6.0, \"educ2\": 8.0, \"age\": 50.0, \"sm_li\": 1, \"female\": 0, \"married\": 0, \"parent\": 0}, {\"income\": 7.0, \"educ2\": 8.0, \"age\": 33.0, \"sm_li\": 1, \"female\": 1, \"married\": 1, \"parent\": 0}, {\"income\": 5.0, \"educ2\": 6.0, \"age\": 42.0, \"sm_li\": 1, \"female\": 1, \"married\": 0, \"parent\": 0}, {\"income\": 4.0, \"educ2\": 4.0, \"age\": 37.0, \"sm_li\": 0, \"female\": 1, \"married\": 0, \"parent\": 1}, {\"income\": 9.0, \"educ2\": 8.0, \"age\": 57.0, \"sm_li\": 1, \"female\": 1, \"married\": 1, \"parent\": 1}, {\"income\": 8.0, \"educ2\": 6.0, \"age\": 56.0, \"sm_li\": 0, \"female\": 1, \"married\": 1, \"parent\": 0}, {\"income\": 5.0, \"educ2\": 7.0, \"age\": 28.0, \"sm_li\": 0, \"female\": 0, \"married\": 0, \"parent\": 0}, {\"income\": 9.0, \"educ2\": 6.0, \"age\": 32.0, \"sm_li\": 1, \"female\": 0, \"married\": 1, \"parent\": 0}, {\"income\": 8.0, \"educ2\": 8.0, \"age\": 43.0, \"sm_li\": 0, \"female\": 1, \"married\": 1, \"parent\": 1}, {\"income\": 2.0, \"educ2\": 2.0, \"age\": 38.0, \"sm_li\": 0, \"female\": 1, \"married\": 0, \"parent\": 0}, {\"income\": 6.0, \"educ2\": 6.0, \"age\": 38.0, \"sm_li\": 0, \"female\": 0, \"married\": 1, \"parent\": 1}, {\"income\": 9.0, \"educ2\": 6.0, \"age\": 40.0, \"sm_li\": 0, \"female\": 0, \"married\": 1, \"parent\": 1}, {\"income\": 9.0, \"educ2\": 6.0, \"age\": 54.0, \"sm_li\": 0, \"female\": 0, \"married\": 0, \"parent\": 0}, {\"income\": 3.0, \"educ2\": 3.0, \"age\": 36.0, \"sm_li\": 1, \"female\": 1, \"married\": 0, \"parent\": 0}, {\"income\": 7.0, \"educ2\": 8.0, \"age\": 67.0, \"sm_li\": 1, \"female\": 0, \"married\": 1, \"parent\": 0}, {\"income\": 5.0, \"educ2\": 2.0, \"age\": 18.0, \"sm_li\": 0, \"female\": 1, \"married\": 0, \"parent\": 0}, {\"income\": 8.0, \"educ2\": 6.0, \"age\": 61.0, \"sm_li\": 1, \"female\": 0, \"married\": 0, \"parent\": 0}, {\"income\": 5.0, \"educ2\": 6.0, \"age\": 78.0, \"sm_li\": 0, \"female\": 0, \"married\": 1, \"parent\": 0}, {\"income\": 2.0, \"educ2\": 3.0, \"age\": 63.0, \"sm_li\": 0, \"female\": 0, \"married\": 1, \"parent\": 1}, {\"income\": 5.0, \"educ2\": 8.0, \"age\": 58.0, \"sm_li\": 1, \"female\": 0, \"married\": 0, \"parent\": 0}, {\"income\": 8.0, \"educ2\": 5.0, \"age\": 58.0, \"sm_li\": 1, \"female\": 1, \"married\": 1, \"parent\": 0}, {\"income\": 7.0, \"educ2\": 8.0, \"age\": 65.0, \"sm_li\": 1, \"female\": 1, \"married\": 1, \"parent\": 1}, {\"income\": 7.0, \"educ2\": 3.0, \"age\": 19.0, \"sm_li\": 0, \"female\": 0, \"married\": 0, \"parent\": 0}, {\"income\": 9.0, \"educ2\": 6.0, \"age\": 68.0, \"sm_li\": 1, \"female\": 0, \"married\": 1, \"parent\": 0}, {\"income\": 6.0, \"educ2\": 5.0, \"age\": 36.0, \"sm_li\": 1, \"female\": 0, \"married\": 0, \"parent\": 0}, {\"income\": 9.0, \"educ2\": 3.0, \"age\": 19.0, \"sm_li\": 0, \"female\": 0, \"married\": 0, \"parent\": 0}, {\"income\": 6.0, \"educ2\": 8.0, \"age\": 44.0, \"sm_li\": 0, \"female\": 1, \"married\": 0, \"parent\": 1}, {\"income\": 5.0, \"educ2\": 5.0, \"age\": 67.0, \"sm_li\": 1, \"female\": 1, \"married\": 0, \"parent\": 0}, {\"income\": 9.0, \"educ2\": 8.0, \"age\": 53.0, \"sm_li\": 1, \"female\": 1, \"married\": 1, \"parent\": 1}, {\"income\": 1.0, \"educ2\": 8.0, \"age\": 74.0, \"sm_li\": 0, \"female\": 0, \"married\": 1, \"parent\": 0}, {\"income\": 8.0, \"educ2\": 4.0, \"age\": 66.0, \"sm_li\": 0, \"female\": 0, \"married\": 1, \"parent\": 0}, {\"income\": 9.0, \"educ2\": 5.0, \"age\": 78.0, \"sm_li\": 0, \"female\": 1, \"married\": 0, \"parent\": 0}, {\"income\": 9.0, \"educ2\": 4.0, \"age\": 63.0, \"sm_li\": 0, \"female\": 0, \"married\": 1, \"parent\": 0}, {\"income\": 9.0, \"educ2\": 6.0, \"age\": 71.0, \"sm_li\": 0, \"female\": 0, \"married\": 1, \"parent\": 0}, {\"income\": 1.0, \"educ2\": 4.0, \"age\": 47.0, \"sm_li\": 0, \"female\": 1, \"married\": 0, \"parent\": 0}, {\"income\": 6.0, \"educ2\": 3.0, \"age\": 61.0, \"sm_li\": 0, \"female\": 1, \"married\": 1, \"parent\": 0}, {\"income\": 7.0, \"educ2\": 6.0, \"age\": 52.0, \"sm_li\": 0, \"female\": 1, \"married\": 1, \"parent\": 0}, {\"income\": 1.0, \"educ2\": 5.0, \"age\": 37.0, \"sm_li\": 0, \"female\": 0, \"married\": 0, \"parent\": 0}, {\"income\": 7.0, \"educ2\": 6.0, \"age\": 45.0, \"sm_li\": 1, \"female\": 0, \"married\": 0, \"parent\": 0}, {\"income\": 6.0, \"educ2\": 6.0, \"age\": 31.0, \"sm_li\": 0, \"female\": 0, \"married\": 0, \"parent\": 0}, {\"income\": 5.0, \"educ2\": 6.0, \"age\": 30.0, \"sm_li\": 0, \"female\": 0, \"married\": 0, \"parent\": 0}, {\"income\": 6.0, \"educ2\": 8.0, \"age\": 28.0, \"sm_li\": 1, \"female\": 0, \"married\": 0, \"parent\": 0}, {\"income\": 3.0, \"educ2\": 3.0, \"age\": 46.0, \"sm_li\": 0, \"female\": 0, \"married\": 0, \"parent\": 0}, {\"income\": 4.0, \"educ2\": 4.0, \"age\": 32.0, \"sm_li\": 1, \"female\": 0, \"married\": 1, \"parent\": 1}, {\"income\": 2.0, \"educ2\": 4.0, \"age\": 26.0, \"sm_li\": 0, \"female\": 0, \"married\": 0, \"parent\": 0}, {\"income\": 8.0, \"educ2\": 6.0, \"age\": 55.0, \"sm_li\": 0, \"female\": 1, \"married\": 1, \"parent\": 1}, {\"income\": 9.0, \"educ2\": 8.0, \"age\": 33.0, \"sm_li\": 1, \"female\": 1, \"married\": 1, \"parent\": 1}, {\"income\": 9.0, \"educ2\": 6.0, \"age\": 81.0, \"sm_li\": 0, \"female\": 1, \"married\": 1, \"parent\": 0}, {\"income\": 6.0, \"educ2\": 3.0, \"age\": 40.0, \"sm_li\": 0, \"female\": 0, \"married\": 1, \"parent\": 1}, {\"income\": 4.0, \"educ2\": 3.0, \"age\": 39.0, \"sm_li\": 0, \"female\": 0, \"married\": 1, \"parent\": 0}, {\"income\": 2.0, \"educ2\": 4.0, \"age\": 73.0, \"sm_li\": 0, \"female\": 0, \"married\": 0, \"parent\": 0}, {\"income\": 1.0, \"educ2\": 3.0, \"age\": 39.0, \"sm_li\": 0, \"female\": 0, \"married\": 0, \"parent\": 0}, {\"income\": 6.0, \"educ2\": 5.0, \"age\": 62.0, \"sm_li\": 0, \"female\": 0, \"married\": 1, \"parent\": 0}, {\"income\": 2.0, \"educ2\": 6.0, \"age\": 32.0, \"sm_li\": 0, \"female\": 0, \"married\": 0, \"parent\": 0}, {\"income\": 8.0, \"educ2\": 6.0, \"age\": 47.0, \"sm_li\": 0, \"female\": 0, \"married\": 1, \"parent\": 1}, {\"income\": 3.0, \"educ2\": 4.0, \"age\": 60.0, \"sm_li\": 0, \"female\": 1, \"married\": 0, \"parent\": 0}, {\"income\": 4.0, \"educ2\": 5.0, \"age\": 36.0, \"sm_li\": 1, \"female\": 0, \"married\": 1, \"parent\": 1}, {\"income\": 7.0, \"educ2\": 8.0, \"age\": 42.0, \"sm_li\": 1, \"female\": 0, \"married\": 1, \"parent\": 1}, {\"income\": 8.0, \"educ2\": 6.0, \"age\": 59.0, \"sm_li\": 1, \"female\": 1, \"married\": 1, \"parent\": 0}, {\"income\": 1.0, \"educ2\": 2.0, \"age\": 32.0, \"sm_li\": 0, \"female\": 1, \"married\": 0, \"parent\": 0}, {\"income\": 1.0, \"educ2\": 3.0, \"age\": 33.0, \"sm_li\": 0, \"female\": 0, \"married\": 0, \"parent\": 0}, {\"income\": 3.0, \"educ2\": 4.0, \"age\": 72.0, \"sm_li\": 0, \"female\": 1, \"married\": 0, \"parent\": 0}, {\"income\": 9.0, \"educ2\": 3.0, \"age\": 30.0, \"sm_li\": 0, \"female\": 0, \"married\": 0, \"parent\": 0}, {\"income\": 6.0, \"educ2\": 3.0, \"age\": 69.0, \"sm_li\": 0, \"female\": 0, \"married\": 0, \"parent\": 1}, {\"income\": 9.0, \"educ2\": 6.0, \"age\": 36.0, \"sm_li\": 1, \"female\": 0, \"married\": 1, \"parent\": 1}, {\"income\": 8.0, \"educ2\": 6.0, \"age\": 24.0, \"sm_li\": 1, \"female\": 0, \"married\": 0, \"parent\": 0}, {\"income\": 9.0, \"educ2\": 8.0, \"age\": 59.0, \"sm_li\": 1, \"female\": 0, \"married\": 1, \"parent\": 0}, {\"income\": 2.0, \"educ2\": 4.0, \"age\": 66.0, \"sm_li\": 0, \"female\": 1, \"married\": 0, \"parent\": 0}, {\"income\": 2.0, \"educ2\": 5.0, \"age\": 27.0, \"sm_li\": 0, \"female\": 1, \"married\": 0, \"parent\": 0}, {\"income\": 4.0, \"educ2\": 4.0, \"age\": 22.0, \"sm_li\": 1, \"female\": 0, \"married\": 0, \"parent\": 0}, {\"income\": 2.0, \"educ2\": 8.0, \"age\": 57.0, \"sm_li\": 1, \"female\": 1, \"married\": 0, \"parent\": 0}, {\"income\": 8.0, \"educ2\": 8.0, \"age\": 60.0, \"sm_li\": 0, \"female\": 0, \"married\": 1, \"parent\": 1}, {\"income\": 9.0, \"educ2\": 6.0, \"age\": 58.0, \"sm_li\": 1, \"female\": 0, \"married\": 1, \"parent\": 0}, {\"income\": 8.0, \"educ2\": 6.0, \"age\": 61.0, \"sm_li\": 1, \"female\": 1, \"married\": 0, \"parent\": 0}, {\"income\": 4.0, \"educ2\": 4.0, \"age\": 23.0, \"sm_li\": 1, \"female\": 0, \"married\": 1, \"parent\": 0}, {\"income\": 9.0, \"educ2\": 5.0, \"age\": 61.0, \"sm_li\": 1, \"female\": 0, \"married\": 1, \"parent\": 1}, {\"income\": 1.0, \"educ2\": 2.0, \"age\": 28.0, \"sm_li\": 0, \"female\": 1, \"married\": 1, \"parent\": 1}, {\"income\": 9.0, \"educ2\": 8.0, \"age\": 59.0, \"sm_li\": 0, \"female\": 0, \"married\": 1, \"parent\": 0}, {\"income\": 4.0, \"educ2\": 6.0, \"age\": 84.0, \"sm_li\": 0, \"female\": 0, \"married\": 1, \"parent\": 0}, {\"income\": 6.0, \"educ2\": 5.0, \"age\": 32.0, \"sm_li\": 1, \"female\": 1, \"married\": 0, \"parent\": 0}, {\"income\": 8.0, \"educ2\": 5.0, \"age\": 41.0, \"sm_li\": 1, \"female\": 0, \"married\": 1, \"parent\": 1}, {\"income\": 9.0, \"educ2\": 8.0, \"age\": 63.0, \"sm_li\": 0, \"female\": 0, \"married\": 0, \"parent\": 0}, {\"income\": 4.0, \"educ2\": 2.0, \"age\": 18.0, \"sm_li\": 0, \"female\": 1, \"married\": 0, \"parent\": 0}, {\"income\": 1.0, \"educ2\": 3.0, \"age\": 60.0, \"sm_li\": 0, \"female\": 0, \"married\": 0, \"parent\": 0}, {\"income\": 4.0, \"educ2\": 6.0, \"age\": 30.0, \"sm_li\": 0, \"female\": 0, \"married\": 0, \"parent\": 0}, {\"income\": 7.0, \"educ2\": 3.0, \"age\": 73.0, \"sm_li\": 0, \"female\": 0, \"married\": 1, \"parent\": 0}, {\"income\": 8.0, \"educ2\": 4.0, \"age\": 19.0, \"sm_li\": 0, \"female\": 0, \"married\": 0, \"parent\": 0}, {\"income\": 6.0, \"educ2\": 6.0, \"age\": 25.0, \"sm_li\": 0, \"female\": 1, \"married\": 1, \"parent\": 0}, {\"income\": 9.0, \"educ2\": 6.0, \"age\": 26.0, \"sm_li\": 1, \"female\": 0, \"married\": 0, \"parent\": 0}, {\"income\": 7.0, \"educ2\": 8.0, \"age\": 59.0, \"sm_li\": 0, \"female\": 1, \"married\": 1, \"parent\": 0}, {\"income\": 6.0, \"educ2\": 3.0, \"age\": 36.0, \"sm_li\": 0, \"female\": 0, \"married\": 0, \"parent\": 0}, {\"income\": 4.0, \"educ2\": 5.0, \"age\": 81.0, \"sm_li\": 0, \"female\": 0, \"married\": 1, \"parent\": 0}, {\"income\": 9.0, \"educ2\": 6.0, \"age\": 52.0, \"sm_li\": 0, \"female\": 1, \"married\": 1, \"parent\": 0}, {\"income\": 5.0, \"educ2\": 6.0, \"age\": 38.0, \"sm_li\": 0, \"female\": 1, \"married\": 1, \"parent\": 0}, {\"income\": 8.0, \"educ2\": 6.0, \"age\": 37.0, \"sm_li\": 1, \"female\": 1, \"married\": 1, \"parent\": 0}, {\"income\": 8.0, \"educ2\": 8.0, \"age\": 38.0, \"sm_li\": 1, \"female\": 0, \"married\": 0, \"parent\": 0}, {\"income\": 4.0, \"educ2\": 6.0, \"age\": 63.0, \"sm_li\": 0, \"female\": 1, \"married\": 0, \"parent\": 0}, {\"income\": 1.0, \"educ2\": 3.0, \"age\": 32.0, \"sm_li\": 0, \"female\": 1, \"married\": 0, \"parent\": 1}, {\"income\": 9.0, \"educ2\": 4.0, \"age\": 61.0, \"sm_li\": 1, \"female\": 0, \"married\": 1, \"parent\": 0}, {\"income\": 9.0, \"educ2\": 8.0, \"age\": 81.0, \"sm_li\": 0, \"female\": 0, \"married\": 0, \"parent\": 0}, {\"income\": 2.0, \"educ2\": 3.0, \"age\": 22.0, \"sm_li\": 0, \"female\": 1, \"married\": 0, \"parent\": 0}, {\"income\": 9.0, \"educ2\": 7.0, \"age\": 39.0, \"sm_li\": 1, \"female\": 1, \"married\": 1, \"parent\": 1}, {\"income\": 6.0, \"educ2\": 3.0, \"age\": 46.0, \"sm_li\": 0, \"female\": 1, \"married\": 0, \"parent\": 1}, {\"income\": 6.0, \"educ2\": 8.0, \"age\": 54.0, \"sm_li\": 1, \"female\": 0, \"married\": 1, \"parent\": 0}, {\"income\": 7.0, \"educ2\": 6.0, \"age\": 66.0, \"sm_li\": 0, \"female\": 1, \"married\": 0, \"parent\": 0}, {\"income\": 6.0, \"educ2\": 3.0, \"age\": 62.0, \"sm_li\": 1, \"female\": 1, \"married\": 0, \"parent\": 0}, {\"income\": 5.0, \"educ2\": 5.0, \"age\": 65.0, \"sm_li\": 0, \"female\": 0, \"married\": 1, \"parent\": 0}, {\"income\": 8.0, \"educ2\": 5.0, \"age\": 48.0, \"sm_li\": 0, \"female\": 0, \"married\": 1, \"parent\": 0}, {\"income\": 9.0, \"educ2\": 6.0, \"age\": 55.0, \"sm_li\": 1, \"female\": 1, \"married\": 1, \"parent\": 0}, {\"income\": 9.0, \"educ2\": 6.0, \"age\": 49.0, \"sm_li\": 0, \"female\": 1, \"married\": 1, \"parent\": 1}, {\"income\": 8.0, \"educ2\": 6.0, \"age\": 53.0, \"sm_li\": 0, \"female\": 0, \"married\": 1, \"parent\": 0}, {\"income\": 9.0, \"educ2\": 6.0, \"age\": 62.0, \"sm_li\": 1, \"female\": 0, \"married\": 1, \"parent\": 0}, {\"income\": 7.0, \"educ2\": 8.0, \"age\": 42.0, \"sm_li\": 0, \"female\": 1, \"married\": 1, \"parent\": 1}, {\"income\": 6.0, \"educ2\": 3.0, \"age\": 54.0, \"sm_li\": 0, \"female\": 0, \"married\": 1, \"parent\": 0}, {\"income\": 5.0, \"educ2\": 6.0, \"age\": 60.0, \"sm_li\": 0, \"female\": 0, \"married\": 1, \"parent\": 0}, {\"income\": 7.0, \"educ2\": 3.0, \"age\": 32.0, \"sm_li\": 0, \"female\": 0, \"married\": 1, \"parent\": 1}, {\"income\": 6.0, \"educ2\": 6.0, \"age\": 48.0, \"sm_li\": 0, \"female\": 0, \"married\": 1, \"parent\": 1}, {\"income\": 7.0, \"educ2\": 6.0, \"age\": 31.0, \"sm_li\": 0, \"female\": 1, \"married\": 1, \"parent\": 0}, {\"income\": 9.0, \"educ2\": 6.0, \"age\": 37.0, \"sm_li\": 1, \"female\": 0, \"married\": 0, \"parent\": 0}, {\"income\": 9.0, \"educ2\": 6.0, \"age\": 64.0, \"sm_li\": 1, \"female\": 0, \"married\": 1, \"parent\": 1}, {\"income\": 8.0, \"educ2\": 3.0, \"age\": 32.0, \"sm_li\": 0, \"female\": 1, \"married\": 0, \"parent\": 1}, {\"income\": 6.0, \"educ2\": 6.0, \"age\": 34.0, \"sm_li\": 1, \"female\": 0, \"married\": 1, \"parent\": 1}, {\"income\": 9.0, \"educ2\": 8.0, \"age\": 46.0, \"sm_li\": 1, \"female\": 1, \"married\": 1, \"parent\": 1}, {\"income\": 1.0, \"educ2\": 3.0, \"age\": 63.0, \"sm_li\": 0, \"female\": 0, \"married\": 0, \"parent\": 0}, {\"income\": 7.0, \"educ2\": 6.0, \"age\": 37.0, \"sm_li\": 0, \"female\": 1, \"married\": 0, \"parent\": 0}, {\"income\": 6.0, \"educ2\": 3.0, \"age\": 54.0, \"sm_li\": 1, \"female\": 0, \"married\": 1, \"parent\": 0}, {\"income\": 5.0, \"educ2\": 6.0, \"age\": 40.0, \"sm_li\": 1, \"female\": 1, \"married\": 0, \"parent\": 0}, {\"income\": 8.0, \"educ2\": 6.0, \"age\": 60.0, \"sm_li\": 1, \"female\": 0, \"married\": 0, \"parent\": 1}, {\"income\": 5.0, \"educ2\": 3.0, \"age\": 46.0, \"sm_li\": 1, \"female\": 1, \"married\": 1, \"parent\": 1}, {\"income\": 9.0, \"educ2\": 4.0, \"age\": 50.0, \"sm_li\": 1, \"female\": 0, \"married\": 1, \"parent\": 1}, {\"income\": 6.0, \"educ2\": 6.0, \"age\": 51.0, \"sm_li\": 0, \"female\": 0, \"married\": 0, \"parent\": 0}, {\"income\": 3.0, \"educ2\": 4.0, \"age\": 68.0, \"sm_li\": 1, \"female\": 0, \"married\": 0, \"parent\": 0}, {\"income\": 9.0, \"educ2\": 6.0, \"age\": 70.0, \"sm_li\": 0, \"female\": 0, \"married\": 0, \"parent\": 0}, {\"income\": 5.0, \"educ2\": 6.0, \"age\": 53.0, \"sm_li\": 1, \"female\": 1, \"married\": 0, \"parent\": 1}, {\"income\": 7.0, \"educ2\": 4.0, \"age\": 56.0, \"sm_li\": 0, \"female\": 0, \"married\": 1, \"parent\": 0}, {\"income\": 1.0, \"educ2\": 8.0, \"age\": 32.0, \"sm_li\": 0, \"female\": 1, \"married\": 0, \"parent\": 0}, {\"income\": 2.0, \"educ2\": 6.0, \"age\": 56.0, \"sm_li\": 0, \"female\": 1, \"married\": 0, \"parent\": 0}, {\"income\": 2.0, \"educ2\": 3.0, \"age\": 84.0, \"sm_li\": 0, \"female\": 1, \"married\": 0, \"parent\": 1}, {\"income\": 7.0, \"educ2\": 6.0, \"age\": 24.0, \"sm_li\": 1, \"female\": 1, \"married\": 0, \"parent\": 0}, {\"income\": 1.0, \"educ2\": 3.0, \"age\": 32.0, \"sm_li\": 0, \"female\": 0, \"married\": 0, \"parent\": 1}, {\"income\": 2.0, \"educ2\": 1.0, \"age\": 85.0, \"sm_li\": 0, \"female\": 0, \"married\": 1, \"parent\": 0}, {\"income\": 7.0, \"educ2\": 4.0, \"age\": 48.0, \"sm_li\": 0, \"female\": 0, \"married\": 0, \"parent\": 0}, {\"income\": 3.0, \"educ2\": 3.0, \"age\": 88.0, \"sm_li\": 0, \"female\": 1, \"married\": 0, \"parent\": 0}, {\"income\": 5.0, \"educ2\": 6.0, \"age\": 24.0, \"sm_li\": 1, \"female\": 1, \"married\": 0, \"parent\": 0}, {\"income\": 2.0, \"educ2\": 6.0, \"age\": 43.0, \"sm_li\": 1, \"female\": 0, \"married\": 0, \"parent\": 0}, {\"income\": 3.0, \"educ2\": 4.0, \"age\": 26.0, \"sm_li\": 1, \"female\": 0, \"married\": 0, \"parent\": 0}, {\"income\": 3.0, \"educ2\": 4.0, \"age\": 47.0, \"sm_li\": 1, \"female\": 0, \"married\": 0, \"parent\": 0}, {\"income\": 8.0, \"educ2\": 6.0, \"age\": 42.0, \"sm_li\": 0, \"female\": 1, \"married\": 0, \"parent\": 0}, {\"income\": 7.0, \"educ2\": 6.0, \"age\": 31.0, \"sm_li\": 1, \"female\": 1, \"married\": 1, \"parent\": 1}, {\"income\": 9.0, \"educ2\": 8.0, \"age\": 65.0, \"sm_li\": 1, \"female\": 0, \"married\": 1, \"parent\": 0}, {\"income\": 7.0, \"educ2\": 8.0, \"age\": 52.0, \"sm_li\": 1, \"female\": 1, \"married\": 0, \"parent\": 1}, {\"income\": 9.0, \"educ2\": 5.0, \"age\": 58.0, \"sm_li\": 0, \"female\": 1, \"married\": 1, \"parent\": 0}, {\"income\": 3.0, \"educ2\": 5.0, \"age\": 36.0, \"sm_li\": 0, \"female\": 0, \"married\": 0, \"parent\": 0}, {\"income\": 5.0, \"educ2\": 4.0, \"age\": 73.0, \"sm_li\": 0, \"female\": 1, \"married\": 1, \"parent\": 0}, {\"income\": 7.0, \"educ2\": 6.0, \"age\": 66.0, \"sm_li\": 0, \"female\": 0, \"married\": 1, \"parent\": 0}, {\"income\": 8.0, \"educ2\": 6.0, \"age\": 47.0, \"sm_li\": 1, \"female\": 1, \"married\": 1, \"parent\": 1}, {\"income\": 7.0, \"educ2\": 7.0, \"age\": 30.0, \"sm_li\": 1, \"female\": 0, \"married\": 1, \"parent\": 1}, {\"income\": 7.0, \"educ2\": 4.0, \"age\": 30.0, \"sm_li\": 0, \"female\": 1, \"married\": 1, \"parent\": 1}, {\"income\": 1.0, \"educ2\": 3.0, \"age\": 52.0, \"sm_li\": 0, \"female\": 0, \"married\": 1, \"parent\": 0}, {\"income\": 6.0, \"educ2\": 6.0, \"age\": 67.0, \"sm_li\": 0, \"female\": 0, \"married\": 0, \"parent\": 0}, {\"income\": 9.0, \"educ2\": 6.0, \"age\": 50.0, \"sm_li\": 1, \"female\": 0, \"married\": 0, \"parent\": 0}, {\"income\": 8.0, \"educ2\": 3.0, \"age\": 18.0, \"sm_li\": 0, \"female\": 0, \"married\": 0, \"parent\": 0}, {\"income\": 4.0, \"educ2\": 6.0, \"age\": 75.0, \"sm_li\": 1, \"female\": 1, \"married\": 0, \"parent\": 0}, {\"income\": 4.0, \"educ2\": 3.0, \"age\": 68.0, \"sm_li\": 0, \"female\": 1, \"married\": 0, \"parent\": 0}, {\"income\": 3.0, \"educ2\": 3.0, \"age\": 70.0, \"sm_li\": 0, \"female\": 0, \"married\": 0, \"parent\": 0}, {\"income\": 5.0, \"educ2\": 8.0, \"age\": 27.0, \"sm_li\": 0, \"female\": 1, \"married\": 0, \"parent\": 0}, {\"income\": 7.0, \"educ2\": 8.0, \"age\": 73.0, \"sm_li\": 0, \"female\": 0, \"married\": 1, \"parent\": 0}, {\"income\": 8.0, \"educ2\": 6.0, \"age\": 50.0, \"sm_li\": 1, \"female\": 0, \"married\": 1, \"parent\": 0}, {\"income\": 5.0, \"educ2\": 6.0, \"age\": 28.0, \"sm_li\": 1, \"female\": 0, \"married\": 0, \"parent\": 0}, {\"income\": 6.0, \"educ2\": 8.0, \"age\": 42.0, \"sm_li\": 0, \"female\": 0, \"married\": 1, \"parent\": 0}, {\"income\": 5.0, \"educ2\": 3.0, \"age\": 72.0, \"sm_li\": 0, \"female\": 0, \"married\": 1, \"parent\": 0}, {\"income\": 9.0, \"educ2\": 8.0, \"age\": 60.0, \"sm_li\": 1, \"female\": 0, \"married\": 1, \"parent\": 1}, {\"income\": 6.0, \"educ2\": 4.0, \"age\": 24.0, \"sm_li\": 0, \"female\": 0, \"married\": 0, \"parent\": 0}, {\"income\": 9.0, \"educ2\": 8.0, \"age\": 69.0, \"sm_li\": 1, \"female\": 0, \"married\": 1, \"parent\": 0}, {\"income\": 7.0, \"educ2\": 4.0, \"age\": 53.0, \"sm_li\": 1, \"female\": 1, \"married\": 1, \"parent\": 0}, {\"income\": 9.0, \"educ2\": 8.0, \"age\": 35.0, \"sm_li\": 1, \"female\": 0, \"married\": 1, \"parent\": 1}, {\"income\": 2.0, \"educ2\": 3.0, \"age\": 28.0, \"sm_li\": 0, \"female\": 1, \"married\": 0, \"parent\": 0}, {\"income\": 3.0, \"educ2\": 4.0, \"age\": 75.0, \"sm_li\": 0, \"female\": 1, \"married\": 0, \"parent\": 0}, {\"income\": 5.0, \"educ2\": 3.0, \"age\": 75.0, \"sm_li\": 0, \"female\": 1, \"married\": 0, \"parent\": 0}, {\"income\": 6.0, \"educ2\": 4.0, \"age\": 22.0, \"sm_li\": 1, \"female\": 1, \"married\": 0, \"parent\": 0}, {\"income\": 8.0, \"educ2\": 8.0, \"age\": 46.0, \"sm_li\": 1, \"female\": 1, \"married\": 1, \"parent\": 1}, {\"income\": 4.0, \"educ2\": 6.0, \"age\": 34.0, \"sm_li\": 0, \"female\": 0, \"married\": 0, \"parent\": 0}, {\"income\": 8.0, \"educ2\": 6.0, \"age\": 44.0, \"sm_li\": 1, \"female\": 0, \"married\": 1, \"parent\": 0}, {\"income\": 9.0, \"educ2\": 8.0, \"age\": 49.0, \"sm_li\": 1, \"female\": 0, \"married\": 1, \"parent\": 1}, {\"income\": 9.0, \"educ2\": 6.0, \"age\": 42.0, \"sm_li\": 0, \"female\": 0, \"married\": 0, \"parent\": 0}, {\"income\": 7.0, \"educ2\": 4.0, \"age\": 34.0, \"sm_li\": 0, \"female\": 0, \"married\": 1, \"parent\": 1}, {\"income\": 9.0, \"educ2\": 6.0, \"age\": 30.0, \"sm_li\": 1, \"female\": 0, \"married\": 1, \"parent\": 0}, {\"income\": 8.0, \"educ2\": 6.0, \"age\": 49.0, \"sm_li\": 0, \"female\": 1, \"married\": 1, \"parent\": 0}, {\"income\": 2.0, \"educ2\": 4.0, \"age\": 56.0, \"sm_li\": 0, \"female\": 1, \"married\": 0, \"parent\": 0}, {\"income\": 9.0, \"educ2\": 6.0, \"age\": 28.0, \"sm_li\": 1, \"female\": 0, \"married\": 0, \"parent\": 0}, {\"income\": 9.0, \"educ2\": 8.0, \"age\": 57.0, \"sm_li\": 1, \"female\": 1, \"married\": 0, \"parent\": 0}, {\"income\": 6.0, \"educ2\": 3.0, \"age\": 60.0, \"sm_li\": 0, \"female\": 0, \"married\": 0, \"parent\": 0}, {\"income\": 8.0, \"educ2\": 8.0, \"age\": 38.0, \"sm_li\": 1, \"female\": 0, \"married\": 1, \"parent\": 1}, {\"income\": 1.0, \"educ2\": 1.0, \"age\": 35.0, \"sm_li\": 0, \"female\": 0, \"married\": 1, \"parent\": 1}, {\"income\": 4.0, \"educ2\": 3.0, \"age\": 33.0, \"sm_li\": 0, \"female\": 1, \"married\": 0, \"parent\": 1}, {\"income\": 1.0, \"educ2\": 7.0, \"age\": 62.0, \"sm_li\": 1, \"female\": 0, \"married\": 1, \"parent\": 0}, {\"income\": 3.0, \"educ2\": 6.0, \"age\": 67.0, \"sm_li\": 0, \"female\": 1, \"married\": 0, \"parent\": 1}, {\"income\": 4.0, \"educ2\": 6.0, \"age\": 43.0, \"sm_li\": 0, \"female\": 1, \"married\": 1, \"parent\": 1}, {\"income\": 3.0, \"educ2\": 5.0, \"age\": 65.0, \"sm_li\": 0, \"female\": 0, \"married\": 1, \"parent\": 0}, {\"income\": 7.0, \"educ2\": 6.0, \"age\": 24.0, \"sm_li\": 0, \"female\": 1, \"married\": 1, \"parent\": 0}, {\"income\": 3.0, \"educ2\": 4.0, \"age\": 78.0, \"sm_li\": 0, \"female\": 1, \"married\": 0, \"parent\": 0}, {\"income\": 6.0, \"educ2\": 5.0, \"age\": 75.0, \"sm_li\": 0, \"female\": 0, \"married\": 0, \"parent\": 0}, {\"income\": 3.0, \"educ2\": 3.0, \"age\": 20.0, \"sm_li\": 0, \"female\": 0, \"married\": 0, \"parent\": 0}, {\"income\": 6.0, \"educ2\": 4.0, \"age\": 21.0, \"sm_li\": 0, \"female\": 0, \"married\": 0, \"parent\": 0}, {\"income\": 8.0, \"educ2\": 8.0, \"age\": 56.0, \"sm_li\": 1, \"female\": 0, \"married\": 1, \"parent\": 0}, {\"income\": 6.0, \"educ2\": 6.0, \"age\": 71.0, \"sm_li\": 0, \"female\": 0, \"married\": 0, \"parent\": 0}, {\"income\": 7.0, \"educ2\": 5.0, \"age\": 40.0, \"sm_li\": 1, \"female\": 0, \"married\": 1, \"parent\": 0}, {\"income\": 1.0, \"educ2\": 8.0, \"age\": 30.0, \"sm_li\": 1, \"female\": 0, \"married\": 0, \"parent\": 0}, {\"income\": 7.0, \"educ2\": 8.0, \"age\": 35.0, \"sm_li\": 1, \"female\": 0, \"married\": 0, \"parent\": 1}, {\"income\": 9.0, \"educ2\": 6.0, \"age\": 45.0, \"sm_li\": 1, \"female\": 0, \"married\": 1, \"parent\": 0}, {\"income\": 7.0, \"educ2\": 3.0, \"age\": 73.0, \"sm_li\": 0, \"female\": 0, \"married\": 1, \"parent\": 0}, {\"income\": 7.0, \"educ2\": 4.0, \"age\": 28.0, \"sm_li\": 1, \"female\": 1, \"married\": 0, \"parent\": 0}, {\"income\": 8.0, \"educ2\": 4.0, \"age\": 39.0, \"sm_li\": 1, \"female\": 0, \"married\": 0, \"parent\": 0}, {\"income\": 6.0, \"educ2\": 3.0, \"age\": 48.0, \"sm_li\": 0, \"female\": 1, \"married\": 1, \"parent\": 0}, {\"income\": 6.0, \"educ2\": 4.0, \"age\": 33.0, \"sm_li\": 0, \"female\": 0, \"married\": 0, \"parent\": 1}, {\"income\": 6.0, \"educ2\": 3.0, \"age\": 56.0, \"sm_li\": 0, \"female\": 0, \"married\": 1, \"parent\": 0}, {\"income\": 9.0, \"educ2\": 8.0, \"age\": 54.0, \"sm_li\": 0, \"female\": 1, \"married\": 1, \"parent\": 0}, {\"income\": 3.0, \"educ2\": 3.0, \"age\": 30.0, \"sm_li\": 0, \"female\": 1, \"married\": 0, \"parent\": 1}, {\"income\": 8.0, \"educ2\": 6.0, \"age\": 24.0, \"sm_li\": 0, \"female\": 0, \"married\": 0, \"parent\": 0}, {\"income\": 9.0, \"educ2\": 8.0, \"age\": 38.0, \"sm_li\": 0, \"female\": 0, \"married\": 1, \"parent\": 1}, {\"income\": 4.0, \"educ2\": 5.0, \"age\": 40.0, \"sm_li\": 0, \"female\": 1, \"married\": 1, \"parent\": 1}, {\"income\": 9.0, \"educ2\": 8.0, \"age\": 64.0, \"sm_li\": 1, \"female\": 0, \"married\": 0, \"parent\": 0}, {\"income\": 4.0, \"educ2\": 5.0, \"age\": 79.0, \"sm_li\": 0, \"female\": 1, \"married\": 0, \"parent\": 0}, {\"income\": 2.0, \"educ2\": 3.0, \"age\": 24.0, \"sm_li\": 0, \"female\": 1, \"married\": 0, \"parent\": 1}, {\"income\": 7.0, \"educ2\": 8.0, \"age\": 65.0, \"sm_li\": 1, \"female\": 1, \"married\": 1, \"parent\": 0}, {\"income\": 9.0, \"educ2\": 3.0, \"age\": 63.0, \"sm_li\": 0, \"female\": 0, \"married\": 1, \"parent\": 0}, {\"income\": 9.0, \"educ2\": 3.0, \"age\": 21.0, \"sm_li\": 0, \"female\": 1, \"married\": 1, \"parent\": 1}, {\"income\": 7.0, \"educ2\": 8.0, \"age\": 68.0, \"sm_li\": 1, \"female\": 0, \"married\": 0, \"parent\": 0}, {\"income\": 2.0, \"educ2\": 4.0, \"age\": 81.0, \"sm_li\": 0, \"female\": 0, \"married\": 0, \"parent\": 0}, {\"income\": 4.0, \"educ2\": 3.0, \"age\": 20.0, \"sm_li\": 0, \"female\": 0, \"married\": 0, \"parent\": 0}, {\"income\": 9.0, \"educ2\": 8.0, \"age\": 50.0, \"sm_li\": 0, \"female\": 0, \"married\": 1, \"parent\": 1}, {\"income\": 6.0, \"educ2\": 6.0, \"age\": 23.0, \"sm_li\": 1, \"female\": 0, \"married\": 0, \"parent\": 0}, {\"income\": 1.0, \"educ2\": 1.0, \"age\": 22.0, \"sm_li\": 0, \"female\": 0, \"married\": 0, \"parent\": 0}, {\"income\": 6.0, \"educ2\": 8.0, \"age\": 37.0, \"sm_li\": 0, \"female\": 0, \"married\": 0, \"parent\": 0}, {\"income\": 3.0, \"educ2\": 3.0, \"age\": 73.0, \"sm_li\": 0, \"female\": 0, \"married\": 0, \"parent\": 0}, {\"income\": 6.0, \"educ2\": 3.0, \"age\": 22.0, \"sm_li\": 0, \"female\": 1, \"married\": 0, \"parent\": 0}, {\"income\": 7.0, \"educ2\": 3.0, \"age\": 35.0, \"sm_li\": 0, \"female\": 0, \"married\": 1, \"parent\": 1}, {\"income\": 6.0, \"educ2\": 6.0, \"age\": 34.0, \"sm_li\": 0, \"female\": 0, \"married\": 0, \"parent\": 0}, {\"income\": 4.0, \"educ2\": 4.0, \"age\": 22.0, \"sm_li\": 1, \"female\": 0, \"married\": 0, \"parent\": 0}, {\"income\": 9.0, \"educ2\": 8.0, \"age\": 40.0, \"sm_li\": 1, \"female\": 0, \"married\": 1, \"parent\": 1}, {\"income\": 6.0, \"educ2\": 6.0, \"age\": 51.0, \"sm_li\": 1, \"female\": 1, \"married\": 0, \"parent\": 0}, {\"income\": 1.0, \"educ2\": 4.0, \"age\": 60.0, \"sm_li\": 0, \"female\": 1, \"married\": 0, \"parent\": 0}, {\"income\": 8.0, \"educ2\": 4.0, \"age\": 41.0, \"sm_li\": 1, \"female\": 0, \"married\": 0, \"parent\": 1}, {\"income\": 1.0, \"educ2\": 4.0, \"age\": 24.0, \"sm_li\": 0, \"female\": 0, \"married\": 0, \"parent\": 0}, {\"income\": 4.0, \"educ2\": 3.0, \"age\": 58.0, \"sm_li\": 0, \"female\": 1, \"married\": 0, \"parent\": 1}, {\"income\": 7.0, \"educ2\": 6.0, \"age\": 65.0, \"sm_li\": 0, \"female\": 0, \"married\": 1, \"parent\": 0}, {\"income\": 8.0, \"educ2\": 8.0, \"age\": 47.0, \"sm_li\": 0, \"female\": 1, \"married\": 1, \"parent\": 1}, {\"income\": 9.0, \"educ2\": 6.0, \"age\": 48.0, \"sm_li\": 1, \"female\": 0, \"married\": 1, \"parent\": 1}, {\"income\": 6.0, \"educ2\": 6.0, \"age\": 44.0, \"sm_li\": 0, \"female\": 1, \"married\": 1, \"parent\": 1}, {\"income\": 9.0, \"educ2\": 8.0, \"age\": 50.0, \"sm_li\": 1, \"female\": 1, \"married\": 1, \"parent\": 1}, {\"income\": 7.0, \"educ2\": 7.0, \"age\": 25.0, \"sm_li\": 1, \"female\": 0, \"married\": 0, \"parent\": 0}, {\"income\": 2.0, \"educ2\": 2.0, \"age\": 82.0, \"sm_li\": 0, \"female\": 1, \"married\": 0, \"parent\": 1}, {\"income\": 3.0, \"educ2\": 5.0, \"age\": 26.0, \"sm_li\": 1, \"female\": 0, \"married\": 0, \"parent\": 0}, {\"income\": 8.0, \"educ2\": 8.0, \"age\": 77.0, \"sm_li\": 0, \"female\": 0, \"married\": 0, \"parent\": 0}, {\"income\": 3.0, \"educ2\": 3.0, \"age\": 24.0, \"sm_li\": 0, \"female\": 0, \"married\": 1, \"parent\": 0}, {\"income\": 2.0, \"educ2\": 3.0, \"age\": 59.0, \"sm_li\": 0, \"female\": 0, \"married\": 0, \"parent\": 0}, {\"income\": 7.0, \"educ2\": 6.0, \"age\": 55.0, \"sm_li\": 1, \"female\": 0, \"married\": 1, \"parent\": 0}, {\"income\": 8.0, \"educ2\": 6.0, \"age\": 22.0, \"sm_li\": 1, \"female\": 1, \"married\": 1, \"parent\": 0}, {\"income\": 2.0, \"educ2\": 5.0, \"age\": 27.0, \"sm_li\": 0, \"female\": 1, \"married\": 0, \"parent\": 0}, {\"income\": 9.0, \"educ2\": 6.0, \"age\": 44.0, \"sm_li\": 1, \"female\": 0, \"married\": 1, \"parent\": 1}, {\"income\": 4.0, \"educ2\": 4.0, \"age\": 68.0, \"sm_li\": 0, \"female\": 0, \"married\": 1, \"parent\": 0}, {\"income\": 7.0, \"educ2\": 2.0, \"age\": 18.0, \"sm_li\": 0, \"female\": 1, \"married\": 0, \"parent\": 0}, {\"income\": 7.0, \"educ2\": 6.0, \"age\": 49.0, \"sm_li\": 1, \"female\": 0, \"married\": 1, \"parent\": 1}, {\"income\": 2.0, \"educ2\": 2.0, \"age\": 85.0, \"sm_li\": 0, \"female\": 0, \"married\": 0, \"parent\": 0}, {\"income\": 1.0, \"educ2\": 2.0, \"age\": 20.0, \"sm_li\": 0, \"female\": 1, \"married\": 0, \"parent\": 0}, {\"income\": 8.0, \"educ2\": 8.0, \"age\": 73.0, \"sm_li\": 0, \"female\": 0, \"married\": 1, \"parent\": 0}, {\"income\": 9.0, \"educ2\": 8.0, \"age\": 60.0, \"sm_li\": 0, \"female\": 0, \"married\": 1, \"parent\": 0}, {\"income\": 2.0, \"educ2\": 6.0, \"age\": 65.0, \"sm_li\": 0, \"female\": 1, \"married\": 1, \"parent\": 0}, {\"income\": 8.0, \"educ2\": 8.0, \"age\": 31.0, \"sm_li\": 0, \"female\": 0, \"married\": 1, \"parent\": 0}, {\"income\": 5.0, \"educ2\": 1.0, \"age\": 27.0, \"sm_li\": 0, \"female\": 0, \"married\": 0, \"parent\": 0}, {\"income\": 6.0, \"educ2\": 8.0, \"age\": 42.0, \"sm_li\": 1, \"female\": 1, \"married\": 1, \"parent\": 1}, {\"income\": 5.0, \"educ2\": 6.0, \"age\": 36.0, \"sm_li\": 0, \"female\": 0, \"married\": 0, \"parent\": 0}, {\"income\": 5.0, \"educ2\": 5.0, \"age\": 40.0, \"sm_li\": 0, \"female\": 1, \"married\": 0, \"parent\": 1}, {\"income\": 8.0, \"educ2\": 8.0, \"age\": 30.0, \"sm_li\": 1, \"female\": 1, \"married\": 0, \"parent\": 0}, {\"income\": 5.0, \"educ2\": 8.0, \"age\": 51.0, \"sm_li\": 0, \"female\": 1, \"married\": 1, \"parent\": 1}, {\"income\": 1.0, \"educ2\": 3.0, \"age\": 25.0, \"sm_li\": 0, \"female\": 0, \"married\": 0, \"parent\": 0}, {\"income\": 9.0, \"educ2\": 6.0, \"age\": 40.0, \"sm_li\": 0, \"female\": 1, \"married\": 1, \"parent\": 1}, {\"income\": 1.0, \"educ2\": 3.0, \"age\": 19.0, \"sm_li\": 0, \"female\": 0, \"married\": 0, \"parent\": 0}, {\"income\": 8.0, \"educ2\": 6.0, \"age\": 38.0, \"sm_li\": 1, \"female\": 0, \"married\": 0, \"parent\": 1}, {\"income\": 6.0, \"educ2\": 7.0, \"age\": 27.0, \"sm_li\": 1, \"female\": 0, \"married\": 0, \"parent\": 0}, {\"income\": 8.0, \"educ2\": 3.0, \"age\": 34.0, \"sm_li\": 0, \"female\": 0, \"married\": 1, \"parent\": 1}, {\"income\": 9.0, \"educ2\": 6.0, \"age\": 30.0, \"sm_li\": 0, \"female\": 0, \"married\": 0, \"parent\": 0}, {\"income\": 4.0, \"educ2\": 5.0, \"age\": 42.0, \"sm_li\": 1, \"female\": 0, \"married\": 1, \"parent\": 1}, {\"income\": 9.0, \"educ2\": 8.0, \"age\": 84.0, \"sm_li\": 0, \"female\": 0, \"married\": 1, \"parent\": 0}, {\"income\": 2.0, \"educ2\": 4.0, \"age\": 48.0, \"sm_li\": 0, \"female\": 1, \"married\": 1, \"parent\": 0}, {\"income\": 4.0, \"educ2\": 4.0, \"age\": 40.0, \"sm_li\": 0, \"female\": 1, \"married\": 0, \"parent\": 1}, {\"income\": 6.0, \"educ2\": 6.0, \"age\": 40.0, \"sm_li\": 0, \"female\": 0, \"married\": 1, \"parent\": 1}, {\"income\": 7.0, \"educ2\": 3.0, \"age\": 43.0, \"sm_li\": 1, \"female\": 0, \"married\": 1, \"parent\": 1}, {\"income\": 3.0, \"educ2\": 2.0, \"age\": 31.0, \"sm_li\": 0, \"female\": 1, \"married\": 1, \"parent\": 1}, {\"income\": 9.0, \"educ2\": 6.0, \"age\": 60.0, \"sm_li\": 0, \"female\": 0, \"married\": 1, \"parent\": 0}, {\"income\": 2.0, \"educ2\": 3.0, \"age\": 31.0, \"sm_li\": 1, \"female\": 1, \"married\": 0, \"parent\": 1}, {\"income\": 8.0, \"educ2\": 4.0, \"age\": 75.0, \"sm_li\": 1, \"female\": 1, \"married\": 0, \"parent\": 0}, {\"income\": 2.0, \"educ2\": 4.0, \"age\": 36.0, \"sm_li\": 0, \"female\": 0, \"married\": 0, \"parent\": 0}, {\"income\": 9.0, \"educ2\": 8.0, \"age\": 44.0, \"sm_li\": 1, \"female\": 0, \"married\": 1, \"parent\": 1}, {\"income\": 9.0, \"educ2\": 4.0, \"age\": 52.0, \"sm_li\": 1, \"female\": 1, \"married\": 1, \"parent\": 1}, {\"income\": 8.0, \"educ2\": 7.0, \"age\": 40.0, \"sm_li\": 0, \"female\": 0, \"married\": 1, \"parent\": 1}, {\"income\": 7.0, \"educ2\": 8.0, \"age\": 65.0, \"sm_li\": 1, \"female\": 0, \"married\": 1, \"parent\": 0}, {\"income\": 9.0, \"educ2\": 8.0, \"age\": 38.0, \"sm_li\": 1, \"female\": 0, \"married\": 1, \"parent\": 1}, {\"income\": 6.0, \"educ2\": 8.0, \"age\": 32.0, \"sm_li\": 0, \"female\": 1, \"married\": 0, \"parent\": 0}, {\"income\": 7.0, \"educ2\": 3.0, \"age\": 29.0, \"sm_li\": 0, \"female\": 0, \"married\": 0, \"parent\": 0}, {\"income\": 8.0, \"educ2\": 6.0, \"age\": 34.0, \"sm_li\": 1, \"female\": 0, \"married\": 1, \"parent\": 0}, {\"income\": 6.0, \"educ2\": 3.0, \"age\": 65.0, \"sm_li\": 0, \"female\": 1, \"married\": 1, \"parent\": 0}, {\"income\": 8.0, \"educ2\": 8.0, \"age\": 31.0, \"sm_li\": 1, \"female\": 0, \"married\": 1, \"parent\": 0}, {\"income\": 8.0, \"educ2\": 8.0, \"age\": 64.0, \"sm_li\": 0, \"female\": 1, \"married\": 1, \"parent\": 0}, {\"income\": 6.0, \"educ2\": 6.0, \"age\": 33.0, \"sm_li\": 1, \"female\": 0, \"married\": 1, \"parent\": 0}, {\"income\": 5.0, \"educ2\": 6.0, \"age\": 30.0, \"sm_li\": 0, \"female\": 0, \"married\": 0, \"parent\": 0}, {\"income\": 8.0, \"educ2\": 8.0, \"age\": 51.0, \"sm_li\": 0, \"female\": 1, \"married\": 1, \"parent\": 1}, {\"income\": 9.0, \"educ2\": 6.0, \"age\": 21.0, \"sm_li\": 1, \"female\": 1, \"married\": 0, \"parent\": 0}, {\"income\": 3.0, \"educ2\": 3.0, \"age\": 65.0, \"sm_li\": 0, \"female\": 0, \"married\": 1, \"parent\": 0}, {\"income\": 4.0, \"educ2\": 4.0, \"age\": 32.0, \"sm_li\": 0, \"female\": 1, \"married\": 0, \"parent\": 0}, {\"income\": 3.0, \"educ2\": 4.0, \"age\": 18.0, \"sm_li\": 0, \"female\": 1, \"married\": 0, \"parent\": 0}, {\"income\": 6.0, \"educ2\": 3.0, \"age\": 63.0, \"sm_li\": 0, \"female\": 1, \"married\": 1, \"parent\": 0}, {\"income\": 1.0, \"educ2\": 3.0, \"age\": 62.0, \"sm_li\": 0, \"female\": 0, \"married\": 0, \"parent\": 0}, {\"income\": 3.0, \"educ2\": 6.0, \"age\": 31.0, \"sm_li\": 0, \"female\": 0, \"married\": 0, \"parent\": 0}, {\"income\": 5.0, \"educ2\": 3.0, \"age\": 90.0, \"sm_li\": 0, \"female\": 0, \"married\": 0, \"parent\": 0}, {\"income\": 8.0, \"educ2\": 6.0, \"age\": 34.0, \"sm_li\": 1, \"female\": 0, \"married\": 0, \"parent\": 0}, {\"income\": 2.0, \"educ2\": 3.0, \"age\": 19.0, \"sm_li\": 0, \"female\": 0, \"married\": 0, \"parent\": 0}, {\"income\": 6.0, \"educ2\": 6.0, \"age\": 58.0, \"sm_li\": 1, \"female\": 1, \"married\": 0, \"parent\": 0}, {\"income\": 6.0, \"educ2\": 5.0, \"age\": 60.0, \"sm_li\": 0, \"female\": 0, \"married\": 0, \"parent\": 0}, {\"income\": 4.0, \"educ2\": 1.0, \"age\": 67.0, \"sm_li\": 0, \"female\": 0, \"married\": 1, \"parent\": 1}, {\"income\": 8.0, \"educ2\": 6.0, \"age\": 33.0, \"sm_li\": 1, \"female\": 1, \"married\": 1, \"parent\": 0}, {\"income\": 3.0, \"educ2\": 5.0, \"age\": 35.0, \"sm_li\": 0, \"female\": 1, \"married\": 0, \"parent\": 1}, {\"income\": 7.0, \"educ2\": 3.0, \"age\": 51.0, \"sm_li\": 1, \"female\": 0, \"married\": 1, \"parent\": 0}, {\"income\": 3.0, \"educ2\": 4.0, \"age\": 38.0, \"sm_li\": 0, \"female\": 1, \"married\": 0, \"parent\": 0}, {\"income\": 8.0, \"educ2\": 6.0, \"age\": 60.0, \"sm_li\": 0, \"female\": 0, \"married\": 0, \"parent\": 0}, {\"income\": 6.0, \"educ2\": 5.0, \"age\": 37.0, \"sm_li\": 0, \"female\": 1, \"married\": 0, \"parent\": 1}, {\"income\": 8.0, \"educ2\": 8.0, \"age\": 51.0, \"sm_li\": 0, \"female\": 1, \"married\": 1, \"parent\": 0}, {\"income\": 5.0, \"educ2\": 5.0, \"age\": 63.0, \"sm_li\": 0, \"female\": 0, \"married\": 0, \"parent\": 0}, {\"income\": 4.0, \"educ2\": 4.0, \"age\": 59.0, \"sm_li\": 0, \"female\": 0, \"married\": 0, \"parent\": 0}, {\"income\": 7.0, \"educ2\": 6.0, \"age\": 56.0, \"sm_li\": 1, \"female\": 0, \"married\": 1, \"parent\": 1}, {\"income\": 9.0, \"educ2\": 8.0, \"age\": 65.0, \"sm_li\": 1, \"female\": 0, \"married\": 1, \"parent\": 0}, {\"income\": 5.0, \"educ2\": 1.0, \"age\": 60.0, \"sm_li\": 0, \"female\": 0, \"married\": 1, \"parent\": 0}, {\"income\": 6.0, \"educ2\": 8.0, \"age\": 54.0, \"sm_li\": 1, \"female\": 1, \"married\": 0, \"parent\": 0}, {\"income\": 6.0, \"educ2\": 3.0, \"age\": 40.0, \"sm_li\": 0, \"female\": 0, \"married\": 0, \"parent\": 0}, {\"income\": 6.0, \"educ2\": 6.0, \"age\": 22.0, \"sm_li\": 1, \"female\": 0, \"married\": 0, \"parent\": 0}, {\"income\": 6.0, \"educ2\": 5.0, \"age\": 68.0, \"sm_li\": 0, \"female\": 1, \"married\": 1, \"parent\": 0}, {\"income\": 7.0, \"educ2\": 6.0, \"age\": 72.0, \"sm_li\": 1, \"female\": 1, \"married\": 0, \"parent\": 0}, {\"income\": 7.0, \"educ2\": 6.0, \"age\": 67.0, \"sm_li\": 0, \"female\": 0, \"married\": 1, \"parent\": 0}, {\"income\": 7.0, \"educ2\": 4.0, \"age\": 62.0, \"sm_li\": 0, \"female\": 0, \"married\": 1, \"parent\": 0}, {\"income\": 5.0, \"educ2\": 4.0, \"age\": 35.0, \"sm_li\": 1, \"female\": 1, \"married\": 0, \"parent\": 1}, {\"income\": 9.0, \"educ2\": 6.0, \"age\": 63.0, \"sm_li\": 0, \"female\": 0, \"married\": 1, \"parent\": 0}, {\"income\": 2.0, \"educ2\": 4.0, \"age\": 25.0, \"sm_li\": 0, \"female\": 1, \"married\": 1, \"parent\": 1}, {\"income\": 9.0, \"educ2\": 8.0, \"age\": 45.0, \"sm_li\": 0, \"female\": 0, \"married\": 1, \"parent\": 1}, {\"income\": 1.0, \"educ2\": 3.0, \"age\": 23.0, \"sm_li\": 0, \"female\": 0, \"married\": 0, \"parent\": 0}, {\"income\": 9.0, \"educ2\": 6.0, \"age\": 57.0, \"sm_li\": 0, \"female\": 0, \"married\": 0, \"parent\": 0}, {\"income\": 8.0, \"educ2\": 5.0, \"age\": 65.0, \"sm_li\": 0, \"female\": 1, \"married\": 1, \"parent\": 0}, {\"income\": 3.0, \"educ2\": 3.0, \"age\": 47.0, \"sm_li\": 0, \"female\": 0, \"married\": 1, \"parent\": 1}, {\"income\": 6.0, \"educ2\": 6.0, \"age\": 22.0, \"sm_li\": 1, \"female\": 0, \"married\": 0, \"parent\": 0}, {\"income\": 9.0, \"educ2\": 8.0, \"age\": 48.0, \"sm_li\": 0, \"female\": 0, \"married\": 1, \"parent\": 1}, {\"income\": 7.0, \"educ2\": 8.0, \"age\": 33.0, \"sm_li\": 1, \"female\": 0, \"married\": 0, \"parent\": 0}, {\"income\": 8.0, \"educ2\": 8.0, \"age\": 34.0, \"sm_li\": 0, \"female\": 1, \"married\": 1, \"parent\": 1}, {\"income\": 4.0, \"educ2\": 6.0, \"age\": 68.0, \"sm_li\": 0, \"female\": 1, \"married\": 0, \"parent\": 0}, {\"income\": 9.0, \"educ2\": 3.0, \"age\": 32.0, \"sm_li\": 0, \"female\": 0, \"married\": 1, \"parent\": 0}, {\"income\": 3.0, \"educ2\": 6.0, \"age\": 23.0, \"sm_li\": 0, \"female\": 0, \"married\": 0, \"parent\": 0}, {\"income\": 9.0, \"educ2\": 6.0, \"age\": 54.0, \"sm_li\": 0, \"female\": 1, \"married\": 1, \"parent\": 0}, {\"income\": 8.0, \"educ2\": 8.0, \"age\": 38.0, \"sm_li\": 1, \"female\": 0, \"married\": 0, \"parent\": 0}, {\"income\": 9.0, \"educ2\": 6.0, \"age\": 69.0, \"sm_li\": 1, \"female\": 1, \"married\": 1, \"parent\": 0}, {\"income\": 6.0, \"educ2\": 6.0, \"age\": 28.0, \"sm_li\": 0, \"female\": 0, \"married\": 0, \"parent\": 1}, {\"income\": 4.0, \"educ2\": 4.0, \"age\": 24.0, \"sm_li\": 0, \"female\": 0, \"married\": 1, \"parent\": 0}, {\"income\": 4.0, \"educ2\": 6.0, \"age\": 25.0, \"sm_li\": 0, \"female\": 0, \"married\": 0, \"parent\": 0}, {\"income\": 1.0, \"educ2\": 3.0, \"age\": 43.0, \"sm_li\": 0, \"female\": 1, \"married\": 0, \"parent\": 0}, {\"income\": 9.0, \"educ2\": 8.0, \"age\": 58.0, \"sm_li\": 1, \"female\": 0, \"married\": 1, \"parent\": 0}, {\"income\": 8.0, \"educ2\": 8.0, \"age\": 45.0, \"sm_li\": 0, \"female\": 0, \"married\": 1, \"parent\": 1}, {\"income\": 1.0, \"educ2\": 4.0, \"age\": 55.0, \"sm_li\": 0, \"female\": 1, \"married\": 0, \"parent\": 0}, {\"income\": 8.0, \"educ2\": 6.0, \"age\": 40.0, \"sm_li\": 1, \"female\": 1, \"married\": 1, \"parent\": 0}, {\"income\": 7.0, \"educ2\": 6.0, \"age\": 49.0, \"sm_li\": 1, \"female\": 1, \"married\": 0, \"parent\": 0}, {\"income\": 1.0, \"educ2\": 2.0, \"age\": 52.0, \"sm_li\": 0, \"female\": 0, \"married\": 0, \"parent\": 0}, {\"income\": 8.0, \"educ2\": 6.0, \"age\": 46.0, \"sm_li\": 1, \"female\": 1, \"married\": 1, \"parent\": 1}, {\"income\": 3.0, \"educ2\": 8.0, \"age\": 74.0, \"sm_li\": 0, \"female\": 1, \"married\": 0, \"parent\": 0}, {\"income\": 3.0, \"educ2\": 6.0, \"age\": 32.0, \"sm_li\": 0, \"female\": 0, \"married\": 0, \"parent\": 0}, {\"income\": 1.0, \"educ2\": 6.0, \"age\": 23.0, \"sm_li\": 1, \"female\": 0, \"married\": 0, \"parent\": 0}, {\"income\": 6.0, \"educ2\": 8.0, \"age\": 62.0, \"sm_li\": 0, \"female\": 0, \"married\": 1, \"parent\": 0}, {\"income\": 3.0, \"educ2\": 3.0, \"age\": 62.0, \"sm_li\": 0, \"female\": 0, \"married\": 0, \"parent\": 0}, {\"income\": 8.0, \"educ2\": 7.0, \"age\": 43.0, \"sm_li\": 1, \"female\": 0, \"married\": 1, \"parent\": 1}, {\"income\": 9.0, \"educ2\": 6.0, \"age\": 52.0, \"sm_li\": 1, \"female\": 1, \"married\": 1, \"parent\": 1}, {\"income\": 7.0, \"educ2\": 6.0, \"age\": 66.0, \"sm_li\": 0, \"female\": 1, \"married\": 0, \"parent\": 0}, {\"income\": 6.0, \"educ2\": 5.0, \"age\": 31.0, \"sm_li\": 1, \"female\": 0, \"married\": 0, \"parent\": 0}, {\"income\": 9.0, \"educ2\": 8.0, \"age\": 70.0, \"sm_li\": 0, \"female\": 0, \"married\": 1, \"parent\": 1}, {\"income\": 2.0, \"educ2\": 3.0, \"age\": 23.0, \"sm_li\": 0, \"female\": 0, \"married\": 0, \"parent\": 1}, {\"income\": 8.0, \"educ2\": 3.0, \"age\": 74.0, \"sm_li\": 0, \"female\": 0, \"married\": 1, \"parent\": 0}, {\"income\": 8.0, \"educ2\": 8.0, \"age\": 35.0, \"sm_li\": 1, \"female\": 0, \"married\": 1, \"parent\": 1}, {\"income\": 8.0, \"educ2\": 6.0, \"age\": 29.0, \"sm_li\": 0, \"female\": 0, \"married\": 0, \"parent\": 0}, {\"income\": 4.0, \"educ2\": 3.0, \"age\": 50.0, \"sm_li\": 0, \"female\": 1, \"married\": 0, \"parent\": 0}, {\"income\": 7.0, \"educ2\": 6.0, \"age\": 42.0, \"sm_li\": 1, \"female\": 1, \"married\": 1, \"parent\": 1}, {\"income\": 7.0, \"educ2\": 6.0, \"age\": 33.0, \"sm_li\": 1, \"female\": 0, \"married\": 0, \"parent\": 0}, {\"income\": 9.0, \"educ2\": 8.0, \"age\": 65.0, \"sm_li\": 1, \"female\": 0, \"married\": 1, \"parent\": 0}, {\"income\": 9.0, \"educ2\": 3.0, \"age\": 19.0, \"sm_li\": 0, \"female\": 0, \"married\": 0, \"parent\": 0}, {\"income\": 2.0, \"educ2\": 3.0, \"age\": 64.0, \"sm_li\": 0, \"female\": 0, \"married\": 0, \"parent\": 0}, {\"income\": 6.0, \"educ2\": 5.0, \"age\": 68.0, \"sm_li\": 0, \"female\": 0, \"married\": 0, \"parent\": 0}, {\"income\": 2.0, \"educ2\": 6.0, \"age\": 62.0, \"sm_li\": 1, \"female\": 1, \"married\": 0, \"parent\": 0}, {\"income\": 8.0, \"educ2\": 5.0, \"age\": 32.0, \"sm_li\": 0, \"female\": 0, \"married\": 1, \"parent\": 0}, {\"income\": 7.0, \"educ2\": 6.0, \"age\": 43.0, \"sm_li\": 0, \"female\": 1, \"married\": 1, \"parent\": 1}, {\"income\": 8.0, \"educ2\": 7.0, \"age\": 52.0, \"sm_li\": 0, \"female\": 1, \"married\": 1, \"parent\": 1}, {\"income\": 8.0, \"educ2\": 8.0, \"age\": 35.0, \"sm_li\": 0, \"female\": 1, \"married\": 1, \"parent\": 1}, {\"income\": 6.0, \"educ2\": 5.0, \"age\": 31.0, \"sm_li\": 0, \"female\": 0, \"married\": 1, \"parent\": 1}, {\"income\": 7.0, \"educ2\": 6.0, \"age\": 64.0, \"sm_li\": 0, \"female\": 1, \"married\": 1, \"parent\": 0}, {\"income\": 1.0, \"educ2\": 2.0, \"age\": 29.0, \"sm_li\": 0, \"female\": 0, \"married\": 0, \"parent\": 0}, {\"income\": 4.0, \"educ2\": 4.0, \"age\": 40.0, \"sm_li\": 0, \"female\": 1, \"married\": 1, \"parent\": 1}, {\"income\": 3.0, \"educ2\": 3.0, \"age\": 48.0, \"sm_li\": 0, \"female\": 0, \"married\": 0, \"parent\": 0}, {\"income\": 8.0, \"educ2\": 8.0, \"age\": 40.0, \"sm_li\": 0, \"female\": 1, \"married\": 1, \"parent\": 1}, {\"income\": 6.0, \"educ2\": 4.0, \"age\": 73.0, \"sm_li\": 0, \"female\": 0, \"married\": 0, \"parent\": 0}, {\"income\": 9.0, \"educ2\": 4.0, \"age\": 19.0, \"sm_li\": 1, \"female\": 1, \"married\": 0, \"parent\": 0}, {\"income\": 8.0, \"educ2\": 3.0, \"age\": 52.0, \"sm_li\": 1, \"female\": 0, \"married\": 0, \"parent\": 1}, {\"income\": 8.0, \"educ2\": 5.0, \"age\": 64.0, \"sm_li\": 1, \"female\": 1, \"married\": 0, \"parent\": 0}, {\"income\": 8.0, \"educ2\": 5.0, \"age\": 54.0, \"sm_li\": 1, \"female\": 0, \"married\": 0, \"parent\": 0}, {\"income\": 8.0, \"educ2\": 8.0, \"age\": 75.0, \"sm_li\": 1, \"female\": 1, \"married\": 1, \"parent\": 0}, {\"income\": 7.0, \"educ2\": 3.0, \"age\": 25.0, \"sm_li\": 0, \"female\": 0, \"married\": 0, \"parent\": 0}, {\"income\": 2.0, \"educ2\": 6.0, \"age\": 33.0, \"sm_li\": 0, \"female\": 1, \"married\": 1, \"parent\": 1}, {\"income\": 8.0, \"educ2\": 7.0, \"age\": 43.0, \"sm_li\": 0, \"female\": 1, \"married\": 1, \"parent\": 1}, {\"income\": 6.0, \"educ2\": 4.0, \"age\": 37.0, \"sm_li\": 0, \"female\": 0, \"married\": 1, \"parent\": 0}, {\"income\": 8.0, \"educ2\": 5.0, \"age\": 45.0, \"sm_li\": 0, \"female\": 1, \"married\": 1, \"parent\": 1}, {\"income\": 4.0, \"educ2\": 3.0, \"age\": 70.0, \"sm_li\": 0, \"female\": 1, \"married\": 1, \"parent\": 0}, {\"income\": 8.0, \"educ2\": 4.0, \"age\": 30.0, \"sm_li\": 0, \"female\": 1, \"married\": 1, \"parent\": 1}, {\"income\": 4.0, \"educ2\": 3.0, \"age\": 19.0, \"sm_li\": 1, \"female\": 0, \"married\": 0, \"parent\": 1}, {\"income\": 5.0, \"educ2\": 6.0, \"age\": 45.0, \"sm_li\": 0, \"female\": 1, \"married\": 0, \"parent\": 1}, {\"income\": 1.0, \"educ2\": 4.0, \"age\": 18.0, \"sm_li\": 0, \"female\": 1, \"married\": 0, \"parent\": 0}, {\"income\": 2.0, \"educ2\": 5.0, \"age\": 64.0, \"sm_li\": 1, \"female\": 0, \"married\": 0, \"parent\": 0}, {\"income\": 7.0, \"educ2\": 3.0, \"age\": 20.0, \"sm_li\": 1, \"female\": 0, \"married\": 0, \"parent\": 0}, {\"income\": 6.0, \"educ2\": 5.0, \"age\": 48.0, \"sm_li\": 1, \"female\": 1, \"married\": 1, \"parent\": 0}, {\"income\": 8.0, \"educ2\": 5.0, \"age\": 59.0, \"sm_li\": 1, \"female\": 0, \"married\": 1, \"parent\": 0}, {\"income\": 6.0, \"educ2\": 5.0, \"age\": 65.0, \"sm_li\": 0, \"female\": 0, \"married\": 0, \"parent\": 1}, {\"income\": 6.0, \"educ2\": 6.0, \"age\": 69.0, \"sm_li\": 0, \"female\": 0, \"married\": 1, \"parent\": 0}, {\"income\": 5.0, \"educ2\": 4.0, \"age\": 65.0, \"sm_li\": 1, \"female\": 0, \"married\": 0, \"parent\": 0}, {\"income\": 6.0, \"educ2\": 4.0, \"age\": 36.0, \"sm_li\": 1, \"female\": 0, \"married\": 0, \"parent\": 1}, {\"income\": 9.0, \"educ2\": 8.0, \"age\": 75.0, \"sm_li\": 0, \"female\": 0, \"married\": 1, \"parent\": 0}, {\"income\": 4.0, \"educ2\": 4.0, \"age\": 31.0, \"sm_li\": 0, \"female\": 1, \"married\": 1, \"parent\": 0}, {\"income\": 7.0, \"educ2\": 6.0, \"age\": 60.0, \"sm_li\": 0, \"female\": 0, \"married\": 0, \"parent\": 0}, {\"income\": 8.0, \"educ2\": 8.0, \"age\": 59.0, \"sm_li\": 0, \"female\": 0, \"married\": 0, \"parent\": 0}, {\"income\": 7.0, \"educ2\": 4.0, \"age\": 42.0, \"sm_li\": 1, \"female\": 0, \"married\": 0, \"parent\": 1}, {\"income\": 7.0, \"educ2\": 5.0, \"age\": 38.0, \"sm_li\": 0, \"female\": 0, \"married\": 1, \"parent\": 1}, {\"income\": 6.0, \"educ2\": 4.0, \"age\": 19.0, \"sm_li\": 0, \"female\": 0, \"married\": 0, \"parent\": 0}, {\"income\": 5.0, \"educ2\": 4.0, \"age\": 38.0, \"sm_li\": 0, \"female\": 0, \"married\": 0, \"parent\": 1}, {\"income\": 7.0, \"educ2\": 5.0, \"age\": 53.0, \"sm_li\": 0, \"female\": 0, \"married\": 0, \"parent\": 0}, {\"income\": 2.0, \"educ2\": 4.0, \"age\": 50.0, \"sm_li\": 0, \"female\": 1, \"married\": 0, \"parent\": 0}, {\"income\": 2.0, \"educ2\": 3.0, \"age\": 34.0, \"sm_li\": 0, \"female\": 0, \"married\": 0, \"parent\": 0}, {\"income\": 7.0, \"educ2\": 8.0, \"age\": 75.0, \"sm_li\": 0, \"female\": 1, \"married\": 1, \"parent\": 0}, {\"income\": 7.0, \"educ2\": 4.0, \"age\": 45.0, \"sm_li\": 0, \"female\": 1, \"married\": 1, \"parent\": 1}, {\"income\": 5.0, \"educ2\": 6.0, \"age\": 28.0, \"sm_li\": 0, \"female\": 0, \"married\": 1, \"parent\": 1}, {\"income\": 8.0, \"educ2\": 6.0, \"age\": 69.0, \"sm_li\": 1, \"female\": 0, \"married\": 1, \"parent\": 0}, {\"income\": 9.0, \"educ2\": 6.0, \"age\": 61.0, \"sm_li\": 1, \"female\": 0, \"married\": 1, \"parent\": 0}, {\"income\": 6.0, \"educ2\": 6.0, \"age\": 78.0, \"sm_li\": 0, \"female\": 1, \"married\": 1, \"parent\": 1}, {\"income\": 7.0, \"educ2\": 5.0, \"age\": 21.0, \"sm_li\": 1, \"female\": 0, \"married\": 0, \"parent\": 0}, {\"income\": 7.0, \"educ2\": 3.0, \"age\": 36.0, \"sm_li\": 1, \"female\": 0, \"married\": 1, \"parent\": 1}, {\"income\": 9.0, \"educ2\": 3.0, \"age\": 54.0, \"sm_li\": 1, \"female\": 0, \"married\": 1, \"parent\": 1}, {\"income\": 1.0, \"educ2\": 2.0, \"age\": 47.0, \"sm_li\": 0, \"female\": 1, \"married\": 0, \"parent\": 0}, {\"income\": 2.0, \"educ2\": 3.0, \"age\": 40.0, \"sm_li\": 0, \"female\": 0, \"married\": 0, \"parent\": 0}, {\"income\": 7.0, \"educ2\": 5.0, \"age\": 47.0, \"sm_li\": 1, \"female\": 1, \"married\": 0, \"parent\": 1}, {\"income\": 3.0, \"educ2\": 2.0, \"age\": 40.0, \"sm_li\": 0, \"female\": 0, \"married\": 0, \"parent\": 1}, {\"income\": 1.0, \"educ2\": 6.0, \"age\": 23.0, \"sm_li\": 1, \"female\": 0, \"married\": 0, \"parent\": 0}, {\"income\": 8.0, \"educ2\": 6.0, \"age\": 49.0, \"sm_li\": 0, \"female\": 0, \"married\": 0, \"parent\": 0}, {\"income\": 4.0, \"educ2\": 2.0, \"age\": 65.0, \"sm_li\": 0, \"female\": 1, \"married\": 1, \"parent\": 0}, {\"income\": 8.0, \"educ2\": 8.0, \"age\": 35.0, \"sm_li\": 0, \"female\": 1, \"married\": 1, \"parent\": 0}, {\"income\": 7.0, \"educ2\": 3.0, \"age\": 50.0, \"sm_li\": 1, \"female\": 1, \"married\": 1, \"parent\": 0}, {\"income\": 1.0, \"educ2\": 3.0, \"age\": 62.0, \"sm_li\": 0, \"female\": 0, \"married\": 0, \"parent\": 0}, {\"income\": 9.0, \"educ2\": 8.0, \"age\": 67.0, \"sm_li\": 0, \"female\": 0, \"married\": 1, \"parent\": 0}, {\"income\": 7.0, \"educ2\": 6.0, \"age\": 35.0, \"sm_li\": 1, \"female\": 1, \"married\": 1, \"parent\": 0}, {\"income\": 3.0, \"educ2\": 6.0, \"age\": 26.0, \"sm_li\": 0, \"female\": 0, \"married\": 0, \"parent\": 0}, {\"income\": 7.0, \"educ2\": 8.0, \"age\": 24.0, \"sm_li\": 1, \"female\": 1, \"married\": 0, \"parent\": 0}, {\"income\": 6.0, \"educ2\": 4.0, \"age\": 41.0, \"sm_li\": 0, \"female\": 1, \"married\": 0, \"parent\": 0}, {\"income\": 9.0, \"educ2\": 8.0, \"age\": 65.0, \"sm_li\": 0, \"female\": 1, \"married\": 1, \"parent\": 0}, {\"income\": 9.0, \"educ2\": 6.0, \"age\": 27.0, \"sm_li\": 1, \"female\": 1, \"married\": 0, \"parent\": 0}, {\"income\": 7.0, \"educ2\": 8.0, \"age\": 40.0, \"sm_li\": 0, \"female\": 0, \"married\": 1, \"parent\": 1}, {\"income\": 7.0, \"educ2\": 8.0, \"age\": 36.0, \"sm_li\": 1, \"female\": 1, \"married\": 0, \"parent\": 1}, {\"income\": 1.0, \"educ2\": 3.0, \"age\": 28.0, \"sm_li\": 0, \"female\": 0, \"married\": 1, \"parent\": 0}, {\"income\": 8.0, \"educ2\": 4.0, \"age\": 50.0, \"sm_li\": 0, \"female\": 0, \"married\": 1, \"parent\": 1}, {\"income\": 9.0, \"educ2\": 6.0, \"age\": 67.0, \"sm_li\": 1, \"female\": 0, \"married\": 1, \"parent\": 0}, {\"income\": 3.0, \"educ2\": 3.0, \"age\": 62.0, \"sm_li\": 0, \"female\": 1, \"married\": 0, \"parent\": 0}, {\"income\": 7.0, \"educ2\": 6.0, \"age\": 59.0, \"sm_li\": 1, \"female\": 1, \"married\": 1, \"parent\": 0}, {\"income\": 8.0, \"educ2\": 8.0, \"age\": 44.0, \"sm_li\": 0, \"female\": 1, \"married\": 1, \"parent\": 1}, {\"income\": 9.0, \"educ2\": 6.0, \"age\": 64.0, \"sm_li\": 1, \"female\": 1, \"married\": 0, \"parent\": 0}, {\"income\": 9.0, \"educ2\": 6.0, \"age\": 55.0, \"sm_li\": 1, \"female\": 0, \"married\": 1, \"parent\": 0}, {\"income\": 5.0, \"educ2\": 6.0, \"age\": 47.0, \"sm_li\": 1, \"female\": 0, \"married\": 1, \"parent\": 1}, {\"income\": 6.0, \"educ2\": 6.0, \"age\": 43.0, \"sm_li\": 0, \"female\": 1, \"married\": 1, \"parent\": 1}, {\"income\": 9.0, \"educ2\": 6.0, \"age\": 47.0, \"sm_li\": 0, \"female\": 0, \"married\": 0, \"parent\": 1}, {\"income\": 6.0, \"educ2\": 4.0, \"age\": 35.0, \"sm_li\": 0, \"female\": 0, \"married\": 0, \"parent\": 0}, {\"income\": 3.0, \"educ2\": 5.0, \"age\": 57.0, \"sm_li\": 0, \"female\": 0, \"married\": 0, \"parent\": 0}, {\"income\": 8.0, \"educ2\": 5.0, \"age\": 34.0, \"sm_li\": 0, \"female\": 0, \"married\": 1, \"parent\": 1}, {\"income\": 4.0, \"educ2\": 3.0, \"age\": 74.0, \"sm_li\": 0, \"female\": 1, \"married\": 0, \"parent\": 0}, {\"income\": 8.0, \"educ2\": 6.0, \"age\": 32.0, \"sm_li\": 1, \"female\": 0, \"married\": 0, \"parent\": 0}, {\"income\": 7.0, \"educ2\": 8.0, \"age\": 67.0, \"sm_li\": 0, \"female\": 1, \"married\": 1, \"parent\": 0}, {\"income\": 6.0, \"educ2\": 3.0, \"age\": 48.0, \"sm_li\": 0, \"female\": 0, \"married\": 1, \"parent\": 1}, {\"income\": 2.0, \"educ2\": 3.0, \"age\": 47.0, \"sm_li\": 0, \"female\": 1, \"married\": 0, \"parent\": 0}, {\"income\": 6.0, \"educ2\": 3.0, \"age\": 25.0, \"sm_li\": 0, \"female\": 0, \"married\": 1, \"parent\": 1}, {\"income\": 9.0, \"educ2\": 4.0, \"age\": 18.0, \"sm_li\": 1, \"female\": 0, \"married\": 0, \"parent\": 0}, {\"income\": 1.0, \"educ2\": 6.0, \"age\": 29.0, \"sm_li\": 0, \"female\": 0, \"married\": 0, \"parent\": 0}, {\"income\": 6.0, \"educ2\": 4.0, \"age\": 36.0, \"sm_li\": 1, \"female\": 1, \"married\": 1, \"parent\": 0}, {\"income\": 8.0, \"educ2\": 6.0, \"age\": 37.0, \"sm_li\": 1, \"female\": 0, \"married\": 1, \"parent\": 1}, {\"income\": 1.0, \"educ2\": 3.0, \"age\": 18.0, \"sm_li\": 0, \"female\": 1, \"married\": 0, \"parent\": 0}, {\"income\": 7.0, \"educ2\": 8.0, \"age\": 37.0, \"sm_li\": 0, \"female\": 1, \"married\": 1, \"parent\": 1}, {\"income\": 6.0, \"educ2\": 5.0, \"age\": 65.0, \"sm_li\": 0, \"female\": 0, \"married\": 0, \"parent\": 0}, {\"income\": 6.0, \"educ2\": 2.0, \"age\": 74.0, \"sm_li\": 0, \"female\": 0, \"married\": 1, \"parent\": 0}, {\"income\": 1.0, \"educ2\": 2.0, \"age\": 58.0, \"sm_li\": 0, \"female\": 0, \"married\": 0, \"parent\": 0}, {\"income\": 9.0, \"educ2\": 3.0, \"age\": 20.0, \"sm_li\": 0, \"female\": 1, \"married\": 0, \"parent\": 0}, {\"income\": 1.0, \"educ2\": 6.0, \"age\": 42.0, \"sm_li\": 1, \"female\": 1, \"married\": 0, \"parent\": 0}, {\"income\": 4.0, \"educ2\": 4.0, \"age\": 77.0, \"sm_li\": 0, \"female\": 1, \"married\": 0, \"parent\": 0}, {\"income\": 9.0, \"educ2\": 7.0, \"age\": 52.0, \"sm_li\": 1, \"female\": 1, \"married\": 1, \"parent\": 1}, {\"income\": 7.0, \"educ2\": 8.0, \"age\": 75.0, \"sm_li\": 0, \"female\": 0, \"married\": 1, \"parent\": 0}, {\"income\": 6.0, \"educ2\": 3.0, \"age\": 78.0, \"sm_li\": 0, \"female\": 1, \"married\": 1, \"parent\": 0}, {\"income\": 3.0, \"educ2\": 8.0, \"age\": 50.0, \"sm_li\": 0, \"female\": 1, \"married\": 1, \"parent\": 1}, {\"income\": 1.0, \"educ2\": 4.0, \"age\": 62.0, \"sm_li\": 0, \"female\": 1, \"married\": 0, \"parent\": 0}, {\"income\": 4.0, \"educ2\": 6.0, \"age\": 25.0, \"sm_li\": 1, \"female\": 0, \"married\": 0, \"parent\": 0}, {\"income\": 9.0, \"educ2\": 8.0, \"age\": 58.0, \"sm_li\": 0, \"female\": 1, \"married\": 1, \"parent\": 0}, {\"income\": 5.0, \"educ2\": 4.0, \"age\": 41.0, \"sm_li\": 0, \"female\": 1, \"married\": 0, \"parent\": 1}, {\"income\": 7.0, \"educ2\": 6.0, \"age\": 28.0, \"sm_li\": 1, \"female\": 0, \"married\": 1, \"parent\": 1}, {\"income\": 5.0, \"educ2\": 4.0, \"age\": 81.0, \"sm_li\": 0, \"female\": 0, \"married\": 0, \"parent\": 0}, {\"income\": 3.0, \"educ2\": 4.0, \"age\": 28.0, \"sm_li\": 0, \"female\": 0, \"married\": 0, \"parent\": 0}, {\"income\": 9.0, \"educ2\": 3.0, \"age\": 37.0, \"sm_li\": 0, \"female\": 0, \"married\": 1, \"parent\": 1}, {\"income\": 3.0, \"educ2\": 4.0, \"age\": 22.0, \"sm_li\": 0, \"female\": 0, \"married\": 0, \"parent\": 1}, {\"income\": 5.0, \"educ2\": 4.0, \"age\": 62.0, \"sm_li\": 0, \"female\": 1, \"married\": 0, \"parent\": 0}, {\"income\": 6.0, \"educ2\": 6.0, \"age\": 33.0, \"sm_li\": 0, \"female\": 1, \"married\": 0, \"parent\": 1}, {\"income\": 6.0, \"educ2\": 6.0, \"age\": 34.0, \"sm_li\": 0, \"female\": 0, \"married\": 1, \"parent\": 0}, {\"income\": 9.0, \"educ2\": 8.0, \"age\": 51.0, \"sm_li\": 1, \"female\": 0, \"married\": 1, \"parent\": 0}, {\"income\": 7.0, \"educ2\": 7.0, \"age\": 25.0, \"sm_li\": 1, \"female\": 0, \"married\": 0, \"parent\": 0}, {\"income\": 9.0, \"educ2\": 6.0, \"age\": 59.0, \"sm_li\": 0, \"female\": 0, \"married\": 1, \"parent\": 0}, {\"income\": 7.0, \"educ2\": 5.0, \"age\": 61.0, \"sm_li\": 1, \"female\": 1, \"married\": 0, \"parent\": 0}, {\"income\": 8.0, \"educ2\": 8.0, \"age\": 60.0, \"sm_li\": 1, \"female\": 0, \"married\": 1, \"parent\": 0}, {\"income\": 8.0, \"educ2\": 4.0, \"age\": 55.0, \"sm_li\": 1, \"female\": 0, \"married\": 1, \"parent\": 1}, {\"income\": 7.0, \"educ2\": 8.0, \"age\": 25.0, \"sm_li\": 1, \"female\": 0, \"married\": 0, \"parent\": 0}, {\"income\": 9.0, \"educ2\": 3.0, \"age\": 64.0, \"sm_li\": 1, \"female\": 0, \"married\": 1, \"parent\": 0}, {\"income\": 9.0, \"educ2\": 6.0, \"age\": 56.0, \"sm_li\": 0, \"female\": 0, \"married\": 1, \"parent\": 0}, {\"income\": 3.0, \"educ2\": 3.0, \"age\": 45.0, \"sm_li\": 0, \"female\": 0, \"married\": 1, \"parent\": 1}, {\"income\": 5.0, \"educ2\": 3.0, \"age\": 59.0, \"sm_li\": 1, \"female\": 1, \"married\": 0, \"parent\": 0}, {\"income\": 8.0, \"educ2\": 4.0, \"age\": 20.0, \"sm_li\": 1, \"female\": 0, \"married\": 0, \"parent\": 0}, {\"income\": 7.0, \"educ2\": 7.0, \"age\": 30.0, \"sm_li\": 0, \"female\": 1, \"married\": 1, \"parent\": 1}, {\"income\": 2.0, \"educ2\": 5.0, \"age\": 51.0, \"sm_li\": 0, \"female\": 0, \"married\": 0, \"parent\": 1}, {\"income\": 2.0, \"educ2\": 3.0, \"age\": 76.0, \"sm_li\": 0, \"female\": 1, \"married\": 0, \"parent\": 0}, {\"income\": 9.0, \"educ2\": 6.0, \"age\": 23.0, \"sm_li\": 1, \"female\": 0, \"married\": 0, \"parent\": 0}, {\"income\": 5.0, \"educ2\": 5.0, \"age\": 58.0, \"sm_li\": 0, \"female\": 0, \"married\": 1, \"parent\": 0}, {\"income\": 9.0, \"educ2\": 6.0, \"age\": 28.0, \"sm_li\": 1, \"female\": 0, \"married\": 0, \"parent\": 0}, {\"income\": 7.0, \"educ2\": 5.0, \"age\": 51.0, \"sm_li\": 0, \"female\": 0, \"married\": 1, \"parent\": 0}, {\"income\": 9.0, \"educ2\": 3.0, \"age\": 20.0, \"sm_li\": 0, \"female\": 0, \"married\": 0, \"parent\": 0}, {\"income\": 3.0, \"educ2\": 6.0, \"age\": 33.0, \"sm_li\": 0, \"female\": 0, \"married\": 0, \"parent\": 0}, {\"income\": 8.0, \"educ2\": 2.0, \"age\": 53.0, \"sm_li\": 0, \"female\": 0, \"married\": 1, \"parent\": 0}, {\"income\": 8.0, \"educ2\": 8.0, \"age\": 60.0, \"sm_li\": 0, \"female\": 1, \"married\": 0, \"parent\": 0}, {\"income\": 7.0, \"educ2\": 6.0, \"age\": 34.0, \"sm_li\": 1, \"female\": 0, \"married\": 0, \"parent\": 0}, {\"income\": 4.0, \"educ2\": 6.0, \"age\": 41.0, \"sm_li\": 1, \"female\": 1, \"married\": 0, \"parent\": 0}, {\"income\": 6.0, \"educ2\": 3.0, \"age\": 59.0, \"sm_li\": 0, \"female\": 1, \"married\": 0, \"parent\": 0}, {\"income\": 4.0, \"educ2\": 4.0, \"age\": 77.0, \"sm_li\": 0, \"female\": 1, \"married\": 0, \"parent\": 0}, {\"income\": 9.0, \"educ2\": 6.0, \"age\": 40.0, \"sm_li\": 1, \"female\": 0, \"married\": 1, \"parent\": 1}, {\"income\": 7.0, \"educ2\": 4.0, \"age\": 36.0, \"sm_li\": 1, \"female\": 0, \"married\": 1, \"parent\": 1}, {\"income\": 2.0, \"educ2\": 6.0, \"age\": 61.0, \"sm_li\": 0, \"female\": 1, \"married\": 0, \"parent\": 0}, {\"income\": 1.0, \"educ2\": 2.0, \"age\": 60.0, \"sm_li\": 0, \"female\": 0, \"married\": 0, \"parent\": 0}, {\"income\": 4.0, \"educ2\": 6.0, \"age\": 39.0, \"sm_li\": 0, \"female\": 1, \"married\": 0, \"parent\": 1}, {\"income\": 8.0, \"educ2\": 6.0, \"age\": 46.0, \"sm_li\": 1, \"female\": 1, \"married\": 1, \"parent\": 1}, {\"income\": 6.0, \"educ2\": 6.0, \"age\": 37.0, \"sm_li\": 0, \"female\": 0, \"married\": 1, \"parent\": 1}, {\"income\": 5.0, \"educ2\": 3.0, \"age\": 73.0, \"sm_li\": 0, \"female\": 0, \"married\": 1, \"parent\": 0}, {\"income\": 9.0, \"educ2\": 6.0, \"age\": 70.0, \"sm_li\": 0, \"female\": 0, \"married\": 1, \"parent\": 0}, {\"income\": 3.0, \"educ2\": 4.0, \"age\": 22.0, \"sm_li\": 0, \"female\": 1, \"married\": 0, \"parent\": 0}, {\"income\": 4.0, \"educ2\": 3.0, \"age\": 59.0, \"sm_li\": 0, \"female\": 1, \"married\": 0, \"parent\": 1}, {\"income\": 7.0, \"educ2\": 6.0, \"age\": 59.0, \"sm_li\": 0, \"female\": 1, \"married\": 0, \"parent\": 0}, {\"income\": 8.0, \"educ2\": 3.0, \"age\": 66.0, \"sm_li\": 0, \"female\": 0, \"married\": 1, \"parent\": 0}, {\"income\": 4.0, \"educ2\": 4.0, \"age\": 41.0, \"sm_li\": 0, \"female\": 0, \"married\": 0, \"parent\": 0}, {\"income\": 4.0, \"educ2\": 5.0, \"age\": 50.0, \"sm_li\": 1, \"female\": 1, \"married\": 0, \"parent\": 1}, {\"income\": 9.0, \"educ2\": 4.0, \"age\": 56.0, \"sm_li\": 1, \"female\": 1, \"married\": 1, \"parent\": 0}, {\"income\": 9.0, \"educ2\": 8.0, \"age\": 56.0, \"sm_li\": 1, \"female\": 0, \"married\": 1, \"parent\": 0}, {\"income\": 4.0, \"educ2\": 6.0, \"age\": 24.0, \"sm_li\": 1, \"female\": 1, \"married\": 0, \"parent\": 0}, {\"income\": 7.0, \"educ2\": 6.0, \"age\": 46.0, \"sm_li\": 1, \"female\": 1, \"married\": 1, \"parent\": 1}, {\"income\": 6.0, \"educ2\": 6.0, \"age\": 35.0, \"sm_li\": 0, \"female\": 1, \"married\": 1, \"parent\": 1}, {\"income\": 2.0, \"educ2\": 5.0, \"age\": 82.0, \"sm_li\": 0, \"female\": 1, \"married\": 0, \"parent\": 0}, {\"income\": 2.0, \"educ2\": 5.0, \"age\": 28.0, \"sm_li\": 0, \"female\": 1, \"married\": 0, \"parent\": 1}, {\"income\": 9.0, \"educ2\": 5.0, \"age\": 68.0, \"sm_li\": 0, \"female\": 1, \"married\": 1, \"parent\": 0}, {\"income\": 9.0, \"educ2\": 6.0, \"age\": 56.0, \"sm_li\": 1, \"female\": 0, \"married\": 1, \"parent\": 0}, {\"income\": 4.0, \"educ2\": 6.0, \"age\": 40.0, \"sm_li\": 0, \"female\": 1, \"married\": 1, \"parent\": 1}, {\"income\": 8.0, \"educ2\": 3.0, \"age\": 63.0, \"sm_li\": 1, \"female\": 0, \"married\": 1, \"parent\": 0}, {\"income\": 9.0, \"educ2\": 6.0, \"age\": 37.0, \"sm_li\": 1, \"female\": 1, \"married\": 1, \"parent\": 1}, {\"income\": 9.0, \"educ2\": 8.0, \"age\": 54.0, \"sm_li\": 0, \"female\": 1, \"married\": 1, \"parent\": 0}, {\"income\": 2.0, \"educ2\": 4.0, \"age\": 42.0, \"sm_li\": 0, \"female\": 1, \"married\": 0, \"parent\": 1}, {\"income\": 3.0, \"educ2\": 4.0, \"age\": 25.0, \"sm_li\": 0, \"female\": 0, \"married\": 0, \"parent\": 0}, {\"income\": 6.0, \"educ2\": 8.0, \"age\": 74.0, \"sm_li\": 0, \"female\": 0, \"married\": 0, \"parent\": 0}, {\"income\": 4.0, \"educ2\": 5.0, \"age\": 44.0, \"sm_li\": 0, \"female\": 0, \"married\": 1, \"parent\": 0}, {\"income\": 7.0, \"educ2\": 3.0, \"age\": 74.0, \"sm_li\": 0, \"female\": 0, \"married\": 1, \"parent\": 0}, {\"income\": 8.0, \"educ2\": 6.0, \"age\": 23.0, \"sm_li\": 0, \"female\": 0, \"married\": 0, \"parent\": 0}, {\"income\": 8.0, \"educ2\": 8.0, \"age\": 56.0, \"sm_li\": 0, \"female\": 0, \"married\": 1, \"parent\": 0}, {\"income\": 7.0, \"educ2\": 6.0, \"age\": 53.0, \"sm_li\": 1, \"female\": 0, \"married\": 1, \"parent\": 0}, {\"income\": 4.0, \"educ2\": 6.0, \"age\": 78.0, \"sm_li\": 0, \"female\": 1, \"married\": 0, \"parent\": 0}, {\"income\": 9.0, \"educ2\": 5.0, \"age\": 67.0, \"sm_li\": 0, \"female\": 1, \"married\": 1, \"parent\": 0}, {\"income\": 5.0, \"educ2\": 3.0, \"age\": 27.0, \"sm_li\": 0, \"female\": 0, \"married\": 0, \"parent\": 1}, {\"income\": 7.0, \"educ2\": 5.0, \"age\": 39.0, \"sm_li\": 0, \"female\": 1, \"married\": 1, \"parent\": 1}, {\"income\": 7.0, \"educ2\": 3.0, \"age\": 20.0, \"sm_li\": 1, \"female\": 0, \"married\": 0, \"parent\": 0}, {\"income\": 7.0, \"educ2\": 4.0, \"age\": 48.0, \"sm_li\": 0, \"female\": 0, \"married\": 0, \"parent\": 0}, {\"income\": 7.0, \"educ2\": 6.0, \"age\": 62.0, \"sm_li\": 0, \"female\": 0, \"married\": 1, \"parent\": 0}, {\"income\": 9.0, \"educ2\": 6.0, \"age\": 23.0, \"sm_li\": 1, \"female\": 0, \"married\": 0, \"parent\": 0}, {\"income\": 5.0, \"educ2\": 8.0, \"age\": 72.0, \"sm_li\": 1, \"female\": 0, \"married\": 0, \"parent\": 0}, {\"income\": 3.0, \"educ2\": 3.0, \"age\": 32.0, \"sm_li\": 0, \"female\": 1, \"married\": 0, \"parent\": 1}, {\"income\": 5.0, \"educ2\": 6.0, \"age\": 60.0, \"sm_li\": 0, \"female\": 1, \"married\": 1, \"parent\": 0}, {\"income\": 8.0, \"educ2\": 8.0, \"age\": 49.0, \"sm_li\": 1, \"female\": 1, \"married\": 1, \"parent\": 1}, {\"income\": 9.0, \"educ2\": 6.0, \"age\": 38.0, \"sm_li\": 1, \"female\": 0, \"married\": 0, \"parent\": 0}, {\"income\": 3.0, \"educ2\": 3.0, \"age\": 21.0, \"sm_li\": 0, \"female\": 0, \"married\": 0, \"parent\": 0}, {\"income\": 4.0, \"educ2\": 3.0, \"age\": 47.0, \"sm_li\": 0, \"female\": 0, \"married\": 1, \"parent\": 1}, {\"income\": 7.0, \"educ2\": 4.0, \"age\": 62.0, \"sm_li\": 0, \"female\": 1, \"married\": 1, \"parent\": 0}, {\"income\": 6.0, \"educ2\": 7.0, \"age\": 62.0, \"sm_li\": 1, \"female\": 1, \"married\": 0, \"parent\": 0}, {\"income\": 2.0, \"educ2\": 4.0, \"age\": 30.0, \"sm_li\": 0, \"female\": 1, \"married\": 1, \"parent\": 1}, {\"income\": 6.0, \"educ2\": 6.0, \"age\": 43.0, \"sm_li\": 0, \"female\": 0, \"married\": 0, \"parent\": 0}, {\"income\": 6.0, \"educ2\": 3.0, \"age\": 60.0, \"sm_li\": 0, \"female\": 0, \"married\": 1, \"parent\": 0}, {\"income\": 9.0, \"educ2\": 8.0, \"age\": 54.0, \"sm_li\": 1, \"female\": 0, \"married\": 1, \"parent\": 1}, {\"income\": 8.0, \"educ2\": 8.0, \"age\": 30.0, \"sm_li\": 1, \"female\": 1, \"married\": 1, \"parent\": 1}, {\"income\": 6.0, \"educ2\": 8.0, \"age\": 25.0, \"sm_li\": 1, \"female\": 0, \"married\": 0, \"parent\": 0}, {\"income\": 6.0, \"educ2\": 3.0, \"age\": 76.0, \"sm_li\": 0, \"female\": 1, \"married\": 0, \"parent\": 0}, {\"income\": 4.0, \"educ2\": 6.0, \"age\": 28.0, \"sm_li\": 0, \"female\": 1, \"married\": 0, \"parent\": 0}, {\"income\": 9.0, \"educ2\": 3.0, \"age\": 71.0, \"sm_li\": 0, \"female\": 1, \"married\": 1, \"parent\": 0}, {\"income\": 8.0, \"educ2\": 8.0, \"age\": 68.0, \"sm_li\": 1, \"female\": 0, \"married\": 0, \"parent\": 0}, {\"income\": 8.0, \"educ2\": 8.0, \"age\": 51.0, \"sm_li\": 1, \"female\": 0, \"married\": 1, \"parent\": 1}, {\"income\": 9.0, \"educ2\": 8.0, \"age\": 52.0, \"sm_li\": 1, \"female\": 0, \"married\": 1, \"parent\": 1}, {\"income\": 3.0, \"educ2\": 4.0, \"age\": 26.0, \"sm_li\": 1, \"female\": 0, \"married\": 0, \"parent\": 0}, {\"income\": 8.0, \"educ2\": 6.0, \"age\": 76.0, \"sm_li\": 1, \"female\": 0, \"married\": 1, \"parent\": 0}, {\"income\": 2.0, \"educ2\": 5.0, \"age\": 25.0, \"sm_li\": 1, \"female\": 0, \"married\": 0, \"parent\": 0}, {\"income\": 9.0, \"educ2\": 7.0, \"age\": 32.0, \"sm_li\": 0, \"female\": 1, \"married\": 1, \"parent\": 0}, {\"income\": 9.0, \"educ2\": 8.0, \"age\": 80.0, \"sm_li\": 0, \"female\": 0, \"married\": 1, \"parent\": 0}, {\"income\": 5.0, \"educ2\": 6.0, \"age\": 31.0, \"sm_li\": 0, \"female\": 0, \"married\": 0, \"parent\": 0}, {\"income\": 8.0, \"educ2\": 6.0, \"age\": 46.0, \"sm_li\": 0, \"female\": 0, \"married\": 1, \"parent\": 0}, {\"income\": 8.0, \"educ2\": 6.0, \"age\": 61.0, \"sm_li\": 1, \"female\": 0, \"married\": 0, \"parent\": 0}, {\"income\": 2.0, \"educ2\": 4.0, \"age\": 22.0, \"sm_li\": 0, \"female\": 1, \"married\": 0, \"parent\": 0}, {\"income\": 8.0, \"educ2\": 6.0, \"age\": 47.0, \"sm_li\": 1, \"female\": 1, \"married\": 1, \"parent\": 1}, {\"income\": 8.0, \"educ2\": 4.0, \"age\": 40.0, \"sm_li\": 0, \"female\": 0, \"married\": 1, \"parent\": 1}, {\"income\": 7.0, \"educ2\": 4.0, \"age\": 34.0, \"sm_li\": 0, \"female\": 0, \"married\": 1, \"parent\": 1}, {\"income\": 8.0, \"educ2\": 5.0, \"age\": 42.0, \"sm_li\": 0, \"female\": 1, \"married\": 0, \"parent\": 1}, {\"income\": 8.0, \"educ2\": 8.0, \"age\": 55.0, \"sm_li\": 1, \"female\": 0, \"married\": 0, \"parent\": 0}, {\"income\": 8.0, \"educ2\": 5.0, \"age\": 27.0, \"sm_li\": 1, \"female\": 0, \"married\": 0, \"parent\": 1}, {\"income\": 9.0, \"educ2\": 5.0, \"age\": 54.0, \"sm_li\": 1, \"female\": 1, \"married\": 1, \"parent\": 0}, {\"income\": 5.0, \"educ2\": 5.0, \"age\": 55.0, \"sm_li\": 0, \"female\": 0, \"married\": 1, \"parent\": 1}, {\"income\": 3.0, \"educ2\": 4.0, \"age\": 25.0, \"sm_li\": 0, \"female\": 0, \"married\": 0, \"parent\": 0}, {\"income\": 4.0, \"educ2\": 3.0, \"age\": 27.0, \"sm_li\": 1, \"female\": 0, \"married\": 0, \"parent\": 0}, {\"income\": 9.0, \"educ2\": 8.0, \"age\": 48.0, \"sm_li\": 0, \"female\": 1, \"married\": 0, \"parent\": 0}, {\"income\": 3.0, \"educ2\": 1.0, \"age\": 83.0, \"sm_li\": 0, \"female\": 0, \"married\": 0, \"parent\": 0}, {\"income\": 9.0, \"educ2\": 6.0, \"age\": 33.0, \"sm_li\": 1, \"female\": 0, \"married\": 1, \"parent\": 1}, {\"income\": 2.0, \"educ2\": 3.0, \"age\": 39.0, \"sm_li\": 0, \"female\": 1, \"married\": 0, \"parent\": 0}, {\"income\": 8.0, \"educ2\": 3.0, \"age\": 43.0, \"sm_li\": 0, \"female\": 0, \"married\": 1, \"parent\": 1}, {\"income\": 8.0, \"educ2\": 3.0, \"age\": 45.0, \"sm_li\": 1, \"female\": 0, \"married\": 1, \"parent\": 0}, {\"income\": 3.0, \"educ2\": 4.0, \"age\": 22.0, \"sm_li\": 0, \"female\": 0, \"married\": 0, \"parent\": 0}, {\"income\": 5.0, \"educ2\": 8.0, \"age\": 26.0, \"sm_li\": 1, \"female\": 1, \"married\": 0, \"parent\": 0}, {\"income\": 6.0, \"educ2\": 5.0, \"age\": 69.0, \"sm_li\": 0, \"female\": 1, \"married\": 1, \"parent\": 0}, {\"income\": 6.0, \"educ2\": 8.0, \"age\": 77.0, \"sm_li\": 0, \"female\": 0, \"married\": 0, \"parent\": 0}, {\"income\": 2.0, \"educ2\": 4.0, \"age\": 80.0, \"sm_li\": 0, \"female\": 0, \"married\": 0, \"parent\": 0}, {\"income\": 8.0, \"educ2\": 6.0, \"age\": 60.0, \"sm_li\": 0, \"female\": 1, \"married\": 1, \"parent\": 0}, {\"income\": 2.0, \"educ2\": 3.0, \"age\": 58.0, \"sm_li\": 0, \"female\": 0, \"married\": 0, \"parent\": 0}, {\"income\": 4.0, \"educ2\": 3.0, \"age\": 60.0, \"sm_li\": 0, \"female\": 0, \"married\": 1, \"parent\": 0}, {\"income\": 2.0, \"educ2\": 3.0, \"age\": 60.0, \"sm_li\": 0, \"female\": 0, \"married\": 0, \"parent\": 0}, {\"income\": 9.0, \"educ2\": 8.0, \"age\": 75.0, \"sm_li\": 0, \"female\": 0, \"married\": 1, \"parent\": 0}, {\"income\": 3.0, \"educ2\": 4.0, \"age\": 41.0, \"sm_li\": 1, \"female\": 0, \"married\": 0, \"parent\": 0}, {\"income\": 8.0, \"educ2\": 5.0, \"age\": 63.0, \"sm_li\": 0, \"female\": 0, \"married\": 1, \"parent\": 0}, {\"income\": 7.0, \"educ2\": 6.0, \"age\": 47.0, \"sm_li\": 1, \"female\": 1, \"married\": 1, \"parent\": 0}, {\"income\": 7.0, \"educ2\": 5.0, \"age\": 52.0, \"sm_li\": 1, \"female\": 0, \"married\": 1, \"parent\": 1}, {\"income\": 7.0, \"educ2\": 5.0, \"age\": 65.0, \"sm_li\": 0, \"female\": 1, \"married\": 0, \"parent\": 0}, {\"income\": 7.0, \"educ2\": 4.0, \"age\": 64.0, \"sm_li\": 1, \"female\": 0, \"married\": 1, \"parent\": 0}, {\"income\": 9.0, \"educ2\": 8.0, \"age\": 55.0, \"sm_li\": 0, \"female\": 1, \"married\": 1, \"parent\": 0}, {\"income\": 5.0, \"educ2\": 5.0, \"age\": 44.0, \"sm_li\": 0, \"female\": 1, \"married\": 1, \"parent\": 1}, {\"income\": 2.0, \"educ2\": 4.0, \"age\": 41.0, \"sm_li\": 0, \"female\": 1, \"married\": 0, \"parent\": 1}, {\"income\": 9.0, \"educ2\": 5.0, \"age\": 69.0, \"sm_li\": 0, \"female\": 0, \"married\": 1, \"parent\": 0}, {\"income\": 8.0, \"educ2\": 6.0, \"age\": 68.0, \"sm_li\": 1, \"female\": 0, \"married\": 0, \"parent\": 0}, {\"income\": 2.0, \"educ2\": 2.0, \"age\": 22.0, \"sm_li\": 0, \"female\": 0, \"married\": 0, \"parent\": 0}, {\"income\": 6.0, \"educ2\": 8.0, \"age\": 76.0, \"sm_li\": 0, \"female\": 1, \"married\": 1, \"parent\": 0}, {\"income\": 1.0, \"educ2\": 4.0, \"age\": 27.0, \"sm_li\": 1, \"female\": 1, \"married\": 0, \"parent\": 1}, {\"income\": 9.0, \"educ2\": 3.0, \"age\": 18.0, \"sm_li\": 0, \"female\": 0, \"married\": 0, \"parent\": 0}, {\"income\": 7.0, \"educ2\": 4.0, \"age\": 53.0, \"sm_li\": 0, \"female\": 0, \"married\": 1, \"parent\": 0}, {\"income\": 9.0, \"educ2\": 6.0, \"age\": 42.0, \"sm_li\": 1, \"female\": 0, \"married\": 1, \"parent\": 1}, {\"income\": 7.0, \"educ2\": 8.0, \"age\": 61.0, \"sm_li\": 1, \"female\": 1, \"married\": 0, \"parent\": 0}, {\"income\": 7.0, \"educ2\": 5.0, \"age\": 65.0, \"sm_li\": 0, \"female\": 1, \"married\": 0, \"parent\": 0}, {\"income\": 1.0, \"educ2\": 8.0, \"age\": 28.0, \"sm_li\": 0, \"female\": 0, \"married\": 0, \"parent\": 0}, {\"income\": 8.0, \"educ2\": 8.0, \"age\": 44.0, \"sm_li\": 1, \"female\": 1, \"married\": 0, \"parent\": 1}, {\"income\": 6.0, \"educ2\": 4.0, \"age\": 92.0, \"sm_li\": 0, \"female\": 0, \"married\": 1, \"parent\": 0}, {\"income\": 5.0, \"educ2\": 5.0, \"age\": 45.0, \"sm_li\": 1, \"female\": 1, \"married\": 1, \"parent\": 0}, {\"income\": 6.0, \"educ2\": 6.0, \"age\": 31.0, \"sm_li\": 0, \"female\": 1, \"married\": 0, \"parent\": 0}, {\"income\": 7.0, \"educ2\": 4.0, \"age\": 36.0, \"sm_li\": 0, \"female\": 0, \"married\": 0, \"parent\": 1}, {\"income\": 8.0, \"educ2\": 4.0, \"age\": 25.0, \"sm_li\": 0, \"female\": 0, \"married\": 0, \"parent\": 0}, {\"income\": 2.0, \"educ2\": 3.0, \"age\": 65.0, \"sm_li\": 0, \"female\": 1, \"married\": 0, \"parent\": 0}, {\"income\": 4.0, \"educ2\": 2.0, \"age\": 66.0, \"sm_li\": 0, \"female\": 0, \"married\": 1, \"parent\": 0}, {\"income\": 8.0, \"educ2\": 3.0, \"age\": 66.0, \"sm_li\": 0, \"female\": 0, \"married\": 1, \"parent\": 0}, {\"income\": 5.0, \"educ2\": 4.0, \"age\": 50.0, \"sm_li\": 0, \"female\": 1, \"married\": 1, \"parent\": 0}, {\"income\": 6.0, \"educ2\": 3.0, \"age\": 19.0, \"sm_li\": 0, \"female\": 0, \"married\": 0, \"parent\": 0}, {\"income\": 8.0, \"educ2\": 6.0, \"age\": 39.0, \"sm_li\": 1, \"female\": 0, \"married\": 1, \"parent\": 1}, {\"income\": 9.0, \"educ2\": 6.0, \"age\": 67.0, \"sm_li\": 0, \"female\": 0, \"married\": 1, \"parent\": 0}, {\"income\": 5.0, \"educ2\": 5.0, \"age\": 67.0, \"sm_li\": 0, \"female\": 1, \"married\": 1, \"parent\": 0}, {\"income\": 4.0, \"educ2\": 3.0, \"age\": 20.0, \"sm_li\": 1, \"female\": 0, \"married\": 0, \"parent\": 0}, {\"income\": 4.0, \"educ2\": 6.0, \"age\": 24.0, \"sm_li\": 1, \"female\": 0, \"married\": 0, \"parent\": 0}, {\"income\": 7.0, \"educ2\": 6.0, \"age\": 26.0, \"sm_li\": 1, \"female\": 0, \"married\": 0, \"parent\": 0}, {\"income\": 8.0, \"educ2\": 8.0, \"age\": 62.0, \"sm_li\": 0, \"female\": 0, \"married\": 0, \"parent\": 0}, {\"income\": 6.0, \"educ2\": 8.0, \"age\": 48.0, \"sm_li\": 1, \"female\": 0, \"married\": 1, \"parent\": 1}, {\"income\": 5.0, \"educ2\": 8.0, \"age\": 70.0, \"sm_li\": 0, \"female\": 1, \"married\": 1, \"parent\": 0}, {\"income\": 7.0, \"educ2\": 5.0, \"age\": 39.0, \"sm_li\": 0, \"female\": 0, \"married\": 1, \"parent\": 1}, {\"income\": 6.0, \"educ2\": 6.0, \"age\": 69.0, \"sm_li\": 0, \"female\": 1, \"married\": 0, \"parent\": 0}, {\"income\": 4.0, \"educ2\": 4.0, \"age\": 25.0, \"sm_li\": 0, \"female\": 0, \"married\": 0, \"parent\": 0}, {\"income\": 9.0, \"educ2\": 6.0, \"age\": 36.0, \"sm_li\": 1, \"female\": 0, \"married\": 1, \"parent\": 1}, {\"income\": 9.0, \"educ2\": 8.0, \"age\": 31.0, \"sm_li\": 1, \"female\": 1, \"married\": 0, \"parent\": 0}, {\"income\": 5.0, \"educ2\": 3.0, \"age\": 39.0, \"sm_li\": 1, \"female\": 0, \"married\": 0, \"parent\": 0}, {\"income\": 2.0, \"educ2\": 6.0, \"age\": 25.0, \"sm_li\": 1, \"female\": 0, \"married\": 0, \"parent\": 0}, {\"income\": 9.0, \"educ2\": 8.0, \"age\": 34.0, \"sm_li\": 1, \"female\": 0, \"married\": 1, \"parent\": 0}, {\"income\": 7.0, \"educ2\": 6.0, \"age\": 62.0, \"sm_li\": 1, \"female\": 1, \"married\": 1, \"parent\": 0}, {\"income\": 8.0, \"educ2\": 6.0, \"age\": 28.0, \"sm_li\": 1, \"female\": 0, \"married\": 1, \"parent\": 0}, {\"income\": 6.0, \"educ2\": 5.0, \"age\": 30.0, \"sm_li\": 0, \"female\": 0, \"married\": 1, \"parent\": 1}, {\"income\": 8.0, \"educ2\": 8.0, \"age\": 77.0, \"sm_li\": 1, \"female\": 0, \"married\": 1, \"parent\": 0}, {\"income\": 9.0, \"educ2\": 4.0, \"age\": 59.0, \"sm_li\": 1, \"female\": 0, \"married\": 1, \"parent\": 0}, {\"income\": 6.0, \"educ2\": 8.0, \"age\": 75.0, \"sm_li\": 0, \"female\": 0, \"married\": 0, \"parent\": 0}, {\"income\": 9.0, \"educ2\": 6.0, \"age\": 62.0, \"sm_li\": 1, \"female\": 0, \"married\": 1, \"parent\": 0}, {\"income\": 2.0, \"educ2\": 2.0, \"age\": 65.0, \"sm_li\": 0, \"female\": 0, \"married\": 1, \"parent\": 0}, {\"income\": 8.0, \"educ2\": 6.0, \"age\": 56.0, \"sm_li\": 1, \"female\": 0, \"married\": 0, \"parent\": 0}, {\"income\": 2.0, \"educ2\": 6.0, \"age\": 22.0, \"sm_li\": 1, \"female\": 0, \"married\": 0, \"parent\": 0}, {\"income\": 7.0, \"educ2\": 4.0, \"age\": 55.0, \"sm_li\": 1, \"female\": 1, \"married\": 0, \"parent\": 0}, {\"income\": 3.0, \"educ2\": 3.0, \"age\": 68.0, \"sm_li\": 0, \"female\": 0, \"married\": 0, \"parent\": 0}, {\"income\": 4.0, \"educ2\": 5.0, \"age\": 60.0, \"sm_li\": 0, \"female\": 0, \"married\": 1, \"parent\": 0}, {\"income\": 7.0, \"educ2\": 6.0, \"age\": 25.0, \"sm_li\": 1, \"female\": 0, \"married\": 0, \"parent\": 0}, {\"income\": 2.0, \"educ2\": 2.0, \"age\": 39.0, \"sm_li\": 0, \"female\": 0, \"married\": 0, \"parent\": 1}, {\"income\": 5.0, \"educ2\": 3.0, \"age\": 31.0, \"sm_li\": 0, \"female\": 0, \"married\": 0, \"parent\": 0}, {\"income\": 2.0, \"educ2\": 3.0, \"age\": 57.0, \"sm_li\": 0, \"female\": 1, \"married\": 0, \"parent\": 0}, {\"income\": 8.0, \"educ2\": 8.0, \"age\": 77.0, \"sm_li\": 1, \"female\": 0, \"married\": 1, \"parent\": 0}, {\"income\": 4.0, \"educ2\": 3.0, \"age\": 52.0, \"sm_li\": 1, \"female\": 0, \"married\": 0, \"parent\": 0}, {\"income\": 6.0, \"educ2\": 4.0, \"age\": 52.0, \"sm_li\": 0, \"female\": 1, \"married\": 0, \"parent\": 0}, {\"income\": 7.0, \"educ2\": 6.0, \"age\": 43.0, \"sm_li\": 1, \"female\": 1, \"married\": 0, \"parent\": 0}, {\"income\": 2.0, \"educ2\": 5.0, \"age\": 62.0, \"sm_li\": 0, \"female\": 1, \"married\": 0, \"parent\": 0}, {\"income\": 9.0, \"educ2\": 8.0, \"age\": 70.0, \"sm_li\": 0, \"female\": 1, \"married\": 1, \"parent\": 0}, {\"income\": 1.0, \"educ2\": 5.0, \"age\": 64.0, \"sm_li\": 0, \"female\": 0, \"married\": 0, \"parent\": 0}, {\"income\": 6.0, \"educ2\": 8.0, \"age\": 81.0, \"sm_li\": 0, \"female\": 0, \"married\": 1, \"parent\": 0}, {\"income\": 9.0, \"educ2\": 6.0, \"age\": 63.0, \"sm_li\": 1, \"female\": 0, \"married\": 1, \"parent\": 0}, {\"income\": 5.0, \"educ2\": 8.0, \"age\": 66.0, \"sm_li\": 0, \"female\": 0, \"married\": 0, \"parent\": 0}, {\"income\": 4.0, \"educ2\": 3.0, \"age\": 56.0, \"sm_li\": 0, \"female\": 0, \"married\": 0, \"parent\": 0}, {\"income\": 8.0, \"educ2\": 3.0, \"age\": 18.0, \"sm_li\": 0, \"female\": 0, \"married\": 0, \"parent\": 0}, {\"income\": 8.0, \"educ2\": 6.0, \"age\": 32.0, \"sm_li\": 1, \"female\": 0, \"married\": 1, \"parent\": 0}, {\"income\": 7.0, \"educ2\": 6.0, \"age\": 64.0, \"sm_li\": 0, \"female\": 0, \"married\": 1, \"parent\": 0}, {\"income\": 4.0, \"educ2\": 4.0, \"age\": 92.0, \"sm_li\": 0, \"female\": 1, \"married\": 0, \"parent\": 0}, {\"income\": 1.0, \"educ2\": 3.0, \"age\": 18.0, \"sm_li\": 0, \"female\": 1, \"married\": 0, \"parent\": 0}, {\"income\": 6.0, \"educ2\": 6.0, \"age\": 62.0, \"sm_li\": 0, \"female\": 1, \"married\": 1, \"parent\": 0}, {\"income\": 3.0, \"educ2\": 4.0, \"age\": 20.0, \"sm_li\": 0, \"female\": 0, \"married\": 0, \"parent\": 0}, {\"income\": 2.0, \"educ2\": 3.0, \"age\": 50.0, \"sm_li\": 0, \"female\": 0, \"married\": 0, \"parent\": 0}, {\"income\": 9.0, \"educ2\": 4.0, \"age\": 44.0, \"sm_li\": 1, \"female\": 0, \"married\": 0, \"parent\": 1}, {\"income\": 8.0, \"educ2\": 6.0, \"age\": 79.0, \"sm_li\": 1, \"female\": 0, \"married\": 1, \"parent\": 0}, {\"income\": 7.0, \"educ2\": 3.0, \"age\": 22.0, \"sm_li\": 0, \"female\": 0, \"married\": 0, \"parent\": 1}, {\"income\": 8.0, \"educ2\": 3.0, \"age\": 26.0, \"sm_li\": 0, \"female\": 0, \"married\": 0, \"parent\": 0}, {\"income\": 7.0, \"educ2\": 7.0, \"age\": 35.0, \"sm_li\": 1, \"female\": 1, \"married\": 0, \"parent\": 0}, {\"income\": 2.0, \"educ2\": 3.0, \"age\": 66.0, \"sm_li\": 0, \"female\": 0, \"married\": 0, \"parent\": 0}, {\"income\": 1.0, \"educ2\": 3.0, \"age\": 18.0, \"sm_li\": 0, \"female\": 1, \"married\": 0, \"parent\": 0}, {\"income\": 5.0, \"educ2\": 4.0, \"age\": 60.0, \"sm_li\": 0, \"female\": 0, \"married\": 0, \"parent\": 0}, {\"income\": 4.0, \"educ2\": 8.0, \"age\": 69.0, \"sm_li\": 0, \"female\": 0, \"married\": 0, \"parent\": 0}, {\"income\": 9.0, \"educ2\": 4.0, \"age\": 22.0, \"sm_li\": 1, \"female\": 0, \"married\": 0, \"parent\": 0}, {\"income\": 9.0, \"educ2\": 7.0, \"age\": 40.0, \"sm_li\": 1, \"female\": 0, \"married\": 1, \"parent\": 1}, {\"income\": 4.0, \"educ2\": 6.0, \"age\": 32.0, \"sm_li\": 0, \"female\": 1, \"married\": 0, \"parent\": 0}, {\"income\": 4.0, \"educ2\": 4.0, \"age\": 52.0, \"sm_li\": 1, \"female\": 0, \"married\": 1, \"parent\": 1}, {\"income\": 7.0, \"educ2\": 6.0, \"age\": 25.0, \"sm_li\": 0, \"female\": 0, \"married\": 0, \"parent\": 0}, {\"income\": 6.0, \"educ2\": 4.0, \"age\": 28.0, \"sm_li\": 1, \"female\": 0, \"married\": 0, \"parent\": 0}, {\"income\": 7.0, \"educ2\": 4.0, \"age\": 68.0, \"sm_li\": 0, \"female\": 0, \"married\": 1, \"parent\": 0}, {\"income\": 4.0, \"educ2\": 5.0, \"age\": 63.0, \"sm_li\": 0, \"female\": 1, \"married\": 1, \"parent\": 0}, {\"income\": 1.0, \"educ2\": 3.0, \"age\": 22.0, \"sm_li\": 0, \"female\": 1, \"married\": 0, \"parent\": 0}, {\"income\": 3.0, \"educ2\": 5.0, \"age\": 35.0, \"sm_li\": 1, \"female\": 1, \"married\": 1, \"parent\": 1}, {\"income\": 6.0, \"educ2\": 3.0, \"age\": 38.0, \"sm_li\": 0, \"female\": 1, \"married\": 1, \"parent\": 1}, {\"income\": 7.0, \"educ2\": 4.0, \"age\": 25.0, \"sm_li\": 0, \"female\": 0, \"married\": 0, \"parent\": 0}, {\"income\": 9.0, \"educ2\": 5.0, \"age\": 37.0, \"sm_li\": 1, \"female\": 0, \"married\": 1, \"parent\": 1}, {\"income\": 1.0, \"educ2\": 3.0, \"age\": 50.0, \"sm_li\": 0, \"female\": 0, \"married\": 1, \"parent\": 0}, {\"income\": 6.0, \"educ2\": 8.0, \"age\": 45.0, \"sm_li\": 0, \"female\": 0, \"married\": 1, \"parent\": 1}, {\"income\": 7.0, \"educ2\": 4.0, \"age\": 39.0, \"sm_li\": 0, \"female\": 0, \"married\": 1, \"parent\": 1}, {\"income\": 7.0, \"educ2\": 6.0, \"age\": 40.0, \"sm_li\": 0, \"female\": 1, \"married\": 1, \"parent\": 1}, {\"income\": 1.0, \"educ2\": 6.0, \"age\": 70.0, \"sm_li\": 0, \"female\": 1, \"married\": 0, \"parent\": 0}, {\"income\": 7.0, \"educ2\": 3.0, \"age\": 47.0, \"sm_li\": 0, \"female\": 1, \"married\": 1, \"parent\": 0}, {\"income\": 7.0, \"educ2\": 3.0, \"age\": 66.0, \"sm_li\": 0, \"female\": 1, \"married\": 1, \"parent\": 0}, {\"income\": 6.0, \"educ2\": 6.0, \"age\": 34.0, \"sm_li\": 1, \"female\": 1, \"married\": 1, \"parent\": 1}, {\"income\": 4.0, \"educ2\": 7.0, \"age\": 75.0, \"sm_li\": 1, \"female\": 1, \"married\": 0, \"parent\": 0}, {\"income\": 3.0, \"educ2\": 6.0, \"age\": 27.0, \"sm_li\": 0, \"female\": 0, \"married\": 0, \"parent\": 0}, {\"income\": 3.0, \"educ2\": 8.0, \"age\": 34.0, \"sm_li\": 0, \"female\": 1, \"married\": 0, \"parent\": 0}, {\"income\": 3.0, \"educ2\": 2.0, \"age\": 48.0, \"sm_li\": 0, \"female\": 1, \"married\": 1, \"parent\": 1}, {\"income\": 4.0, \"educ2\": 5.0, \"age\": 37.0, \"sm_li\": 0, \"female\": 1, \"married\": 0, \"parent\": 0}, {\"income\": 2.0, \"educ2\": 4.0, \"age\": 59.0, \"sm_li\": 0, \"female\": 1, \"married\": 0, \"parent\": 0}, {\"income\": 8.0, \"educ2\": 3.0, \"age\": 46.0, \"sm_li\": 0, \"female\": 1, \"married\": 1, \"parent\": 1}, {\"income\": 9.0, \"educ2\": 8.0, \"age\": 63.0, \"sm_li\": 1, \"female\": 0, \"married\": 1, \"parent\": 0}, {\"income\": 1.0, \"educ2\": 3.0, \"age\": 40.0, \"sm_li\": 0, \"female\": 0, \"married\": 0, \"parent\": 1}, {\"income\": 2.0, \"educ2\": 3.0, \"age\": 53.0, \"sm_li\": 0, \"female\": 1, \"married\": 1, \"parent\": 1}, {\"income\": 6.0, \"educ2\": 3.0, \"age\": 78.0, \"sm_li\": 0, \"female\": 0, \"married\": 0, \"parent\": 0}, {\"income\": 3.0, \"educ2\": 3.0, \"age\": 62.0, \"sm_li\": 0, \"female\": 1, \"married\": 0, \"parent\": 0}, {\"income\": 7.0, \"educ2\": 5.0, \"age\": 59.0, \"sm_li\": 1, \"female\": 1, \"married\": 1, \"parent\": 0}, {\"income\": 4.0, \"educ2\": 4.0, \"age\": 69.0, \"sm_li\": 0, \"female\": 1, \"married\": 0, \"parent\": 0}, {\"income\": 8.0, \"educ2\": 6.0, \"age\": 34.0, \"sm_li\": 1, \"female\": 0, \"married\": 1, \"parent\": 1}, {\"income\": 8.0, \"educ2\": 8.0, \"age\": 44.0, \"sm_li\": 0, \"female\": 0, \"married\": 0, \"parent\": 1}, {\"income\": 1.0, \"educ2\": 3.0, \"age\": 28.0, \"sm_li\": 0, \"female\": 0, \"married\": 0, \"parent\": 0}, {\"income\": 6.0, \"educ2\": 3.0, \"age\": 73.0, \"sm_li\": 0, \"female\": 0, \"married\": 1, \"parent\": 0}, {\"income\": 6.0, \"educ2\": 1.0, \"age\": 51.0, \"sm_li\": 0, \"female\": 0, \"married\": 1, \"parent\": 1}, {\"income\": 3.0, \"educ2\": 3.0, \"age\": 22.0, \"sm_li\": 0, \"female\": 0, \"married\": 0, \"parent\": 0}, {\"income\": 6.0, \"educ2\": 4.0, \"age\": 20.0, \"sm_li\": 0, \"female\": 0, \"married\": 0, \"parent\": 0}, {\"income\": 2.0, \"educ2\": 4.0, \"age\": 23.0, \"sm_li\": 0, \"female\": 0, \"married\": 0, \"parent\": 0}, {\"income\": 2.0, \"educ2\": 1.0, \"age\": 39.0, \"sm_li\": 0, \"female\": 1, \"married\": 0, \"parent\": 1}, {\"income\": 8.0, \"educ2\": 6.0, \"age\": 56.0, \"sm_li\": 0, \"female\": 0, \"married\": 0, \"parent\": 0}, {\"income\": 2.0, \"educ2\": 3.0, \"age\": 40.0, \"sm_li\": 0, \"female\": 1, \"married\": 1, \"parent\": 1}, {\"income\": 9.0, \"educ2\": 4.0, \"age\": 35.0, \"sm_li\": 1, \"female\": 0, \"married\": 1, \"parent\": 0}, {\"income\": 3.0, \"educ2\": 4.0, \"age\": 36.0, \"sm_li\": 0, \"female\": 1, \"married\": 0, \"parent\": 1}, {\"income\": 9.0, \"educ2\": 6.0, \"age\": 70.0, \"sm_li\": 0, \"female\": 1, \"married\": 1, \"parent\": 0}, {\"income\": 2.0, \"educ2\": 1.0, \"age\": 66.0, \"sm_li\": 0, \"female\": 0, \"married\": 0, \"parent\": 0}, {\"income\": 3.0, \"educ2\": 1.0, \"age\": 52.0, \"sm_li\": 0, \"female\": 0, \"married\": 1, \"parent\": 0}, {\"income\": 6.0, \"educ2\": 8.0, \"age\": 64.0, \"sm_li\": 0, \"female\": 1, \"married\": 0, \"parent\": 0}, {\"income\": 4.0, \"educ2\": 6.0, \"age\": 37.0, \"sm_li\": 0, \"female\": 1, \"married\": 1, \"parent\": 1}, {\"income\": 7.0, \"educ2\": 5.0, \"age\": 58.0, \"sm_li\": 1, \"female\": 0, \"married\": 1, \"parent\": 1}, {\"income\": 3.0, \"educ2\": 4.0, \"age\": 28.0, \"sm_li\": 0, \"female\": 1, \"married\": 0, \"parent\": 1}, {\"income\": 8.0, \"educ2\": 6.0, \"age\": 57.0, \"sm_li\": 1, \"female\": 1, \"married\": 1, \"parent\": 0}, {\"income\": 8.0, \"educ2\": 8.0, \"age\": 39.0, \"sm_li\": 1, \"female\": 1, \"married\": 1, \"parent\": 0}, {\"income\": 6.0, \"educ2\": 8.0, \"age\": 74.0, \"sm_li\": 0, \"female\": 1, \"married\": 0, \"parent\": 0}, {\"income\": 8.0, \"educ2\": 6.0, \"age\": 24.0, \"sm_li\": 1, \"female\": 0, \"married\": 0, \"parent\": 0}, {\"income\": 6.0, \"educ2\": 3.0, \"age\": 65.0, \"sm_li\": 0, \"female\": 0, \"married\": 1, \"parent\": 0}, {\"income\": 4.0, \"educ2\": 2.0, \"age\": 40.0, \"sm_li\": 0, \"female\": 0, \"married\": 1, \"parent\": 1}, {\"income\": 8.0, \"educ2\": 3.0, \"age\": 36.0, \"sm_li\": 0, \"female\": 0, \"married\": 1, \"parent\": 0}, {\"income\": 8.0, \"educ2\": 6.0, \"age\": 23.0, \"sm_li\": 1, \"female\": 1, \"married\": 0, \"parent\": 0}, {\"income\": 8.0, \"educ2\": 6.0, \"age\": 27.0, \"sm_li\": 1, \"female\": 0, \"married\": 1, \"parent\": 0}, {\"income\": 7.0, \"educ2\": 6.0, \"age\": 38.0, \"sm_li\": 0, \"female\": 0, \"married\": 1, \"parent\": 1}, {\"income\": 7.0, \"educ2\": 3.0, \"age\": 18.0, \"sm_li\": 0, \"female\": 0, \"married\": 0, \"parent\": 0}, {\"income\": 6.0, \"educ2\": 3.0, \"age\": 45.0, \"sm_li\": 0, \"female\": 0, \"married\": 1, \"parent\": 1}, {\"income\": 3.0, \"educ2\": 5.0, \"age\": 48.0, \"sm_li\": 0, \"female\": 0, \"married\": 1, \"parent\": 0}, {\"income\": 2.0, \"educ2\": 1.0, \"age\": 55.0, \"sm_li\": 0, \"female\": 0, \"married\": 0, \"parent\": 1}, {\"income\": 6.0, \"educ2\": 6.0, \"age\": 55.0, \"sm_li\": 0, \"female\": 0, \"married\": 0, \"parent\": 0}, {\"income\": 3.0, \"educ2\": 3.0, \"age\": 27.0, \"sm_li\": 1, \"female\": 1, \"married\": 0, \"parent\": 1}, {\"income\": 3.0, \"educ2\": 3.0, \"age\": 45.0, \"sm_li\": 0, \"female\": 1, \"married\": 0, \"parent\": 1}, {\"income\": 1.0, \"educ2\": 6.0, \"age\": 26.0, \"sm_li\": 1, \"female\": 1, \"married\": 0, \"parent\": 0}, {\"income\": 7.0, \"educ2\": 8.0, \"age\": 52.0, \"sm_li\": 0, \"female\": 0, \"married\": 1, \"parent\": 1}, {\"income\": 1.0, \"educ2\": 1.0, \"age\": 60.0, \"sm_li\": 0, \"female\": 1, \"married\": 0, \"parent\": 1}, {\"income\": 9.0, \"educ2\": 7.0, \"age\": 35.0, \"sm_li\": 1, \"female\": 0, \"married\": 1, \"parent\": 0}, {\"income\": 3.0, \"educ2\": 2.0, \"age\": 53.0, \"sm_li\": 0, \"female\": 1, \"married\": 0, \"parent\": 0}, {\"income\": 9.0, \"educ2\": 3.0, \"age\": 19.0, \"sm_li\": 0, \"female\": 0, \"married\": 0, \"parent\": 0}, {\"income\": 3.0, \"educ2\": 5.0, \"age\": 65.0, \"sm_li\": 0, \"female\": 1, \"married\": 0, \"parent\": 0}, {\"income\": 6.0, \"educ2\": 4.0, \"age\": 41.0, \"sm_li\": 0, \"female\": 0, \"married\": 1, \"parent\": 1}, {\"income\": 2.0, \"educ2\": 5.0, \"age\": 46.0, \"sm_li\": 1, \"female\": 0, \"married\": 0, \"parent\": 0}, {\"income\": 7.0, \"educ2\": 3.0, \"age\": 18.0, \"sm_li\": 0, \"female\": 0, \"married\": 0, \"parent\": 0}, {\"income\": 4.0, \"educ2\": 3.0, \"age\": 23.0, \"sm_li\": 0, \"female\": 1, \"married\": 0, \"parent\": 0}, {\"income\": 4.0, \"educ2\": 3.0, \"age\": 50.0, \"sm_li\": 0, \"female\": 0, \"married\": 1, \"parent\": 1}]}}, {\"mode\": \"vega-lite\"});\n",
       "</script>"
      ],
      "text/plain": [
       "alt.Chart(...)"
      ]
     },
     "execution_count": 191,
     "metadata": {},
     "output_type": "execute_result"
    }
   ],
   "source": [
    "import altair as alt\n",
    "alt.Chart(ss).mark_circle().encode(\n",
    "    x=\"age\",\n",
    "    y=\"income\",\n",
    "    color= alt.Color('sm_li', scale=alt.Scale(scheme='greens')),\n",
    "    tooltip=[\"parent\", \"married\", \"educ2\",\"sm_li\", \"female\"]).interactive().properties(\n",
    "    title=\"Age vs. Income dependent on Linkedin Usage\")"
   ]
  },
  {
   "cell_type": "markdown",
   "id": "2bfeae9a-070f-4657-b5f9-b35b522bbc41",
   "metadata": {},
   "source": [
    "Overall Points:\n",
    "- People who have at least a two year degree and above, are using LinkedIn\n",
    "- As people get older, they use LinkedIn less\n",
    "- People that have higher salaries tend to use LinkedIn"
   ]
  },
  {
   "cell_type": "markdown",
   "id": "ce00c8cf-7ede-468d-a406-51a6e7ea6303",
   "metadata": {},
   "source": [
    "# 4) Create a target vector (y) and feature set (X)"
   ]
  },
  {
   "cell_type": "code",
   "execution_count": 196,
   "id": "d381af72-8dce-48da-8e74-25f860870a29",
   "metadata": {},
   "outputs": [],
   "source": [
    "y = ss[\"sm_li\"]\n",
    "x = ss[[\"educ2\", \"income\", \"age\", \"married\", \"female\", \"parent\"]]"
   ]
  },
  {
   "cell_type": "markdown",
   "id": "54b797eb-098c-4ee9-b91b-22e5ba42e2a6",
   "metadata": {},
   "source": [
    "# 5) Split the data into training and test sets. Hold out 20% of the data for testing. Explain what each new object contains and how it is used in machine learning"
   ]
  },
  {
   "cell_type": "code",
   "execution_count": 199,
   "id": "23af13f9-8a1a-457a-8dca-8daf221c21c7",
   "metadata": {},
   "outputs": [],
   "source": [
    "x_train, x_test, y_train, y_test = train_test_split(x.values,\n",
    "                                                    y, stratify = y,\n",
    "                                                    test_size=.2,\n",
    "                                                    random_state=444)"
   ]
  },
  {
   "cell_type": "markdown",
   "id": "a5e5b379-4391-4aec-b7d2-5bdbcacc1022",
   "metadata": {},
   "source": [
    "Train\n",
    "x_train - Contains 80% of the data from the ss dataframe and contains the features (predictor values) used to train the model.\n",
    "y_train - Contains 80% of the data from the ss dataframe and contains the target we're going to predict.\n",
    "Test\n",
    "x_test - Contains 20% of the data from the ss dataframe and contains the features (predictor values) used to test the model on unseen data.\n",
    "y_test - Contains 20% of the data from the ss dataframe and contains the target will predict when testing the model on unseen data to evaluate.\n",
    "\n",
    "Essentially we will be using the training data to basically create a model, then run our model using the test data."
   ]
  },
  {
   "cell_type": "markdown",
   "id": "1e91078d-482e-4d58-ad80-851dde9a7577",
   "metadata": {},
   "source": [
    "# 6)Instantiate a logistic regression model and set class_weight to balanced. Fit the model with the training data."
   ]
  },
  {
   "cell_type": "code",
   "execution_count": 205,
   "id": "ad5a6063-310b-4269-aecf-faa474cbc96f",
   "metadata": {},
   "outputs": [
    {
     "data": {
      "text/html": [
       "<style>#sk-container-id-1 {\n",
       "  /* Definition of color scheme common for light and dark mode */\n",
       "  --sklearn-color-text: black;\n",
       "  --sklearn-color-line: gray;\n",
       "  /* Definition of color scheme for unfitted estimators */\n",
       "  --sklearn-color-unfitted-level-0: #fff5e6;\n",
       "  --sklearn-color-unfitted-level-1: #f6e4d2;\n",
       "  --sklearn-color-unfitted-level-2: #ffe0b3;\n",
       "  --sklearn-color-unfitted-level-3: chocolate;\n",
       "  /* Definition of color scheme for fitted estimators */\n",
       "  --sklearn-color-fitted-level-0: #f0f8ff;\n",
       "  --sklearn-color-fitted-level-1: #d4ebff;\n",
       "  --sklearn-color-fitted-level-2: #b3dbfd;\n",
       "  --sklearn-color-fitted-level-3: cornflowerblue;\n",
       "\n",
       "  /* Specific color for light theme */\n",
       "  --sklearn-color-text-on-default-background: var(--sg-text-color, var(--theme-code-foreground, var(--jp-content-font-color1, black)));\n",
       "  --sklearn-color-background: var(--sg-background-color, var(--theme-background, var(--jp-layout-color0, white)));\n",
       "  --sklearn-color-border-box: var(--sg-text-color, var(--theme-code-foreground, var(--jp-content-font-color1, black)));\n",
       "  --sklearn-color-icon: #696969;\n",
       "\n",
       "  @media (prefers-color-scheme: dark) {\n",
       "    /* Redefinition of color scheme for dark theme */\n",
       "    --sklearn-color-text-on-default-background: var(--sg-text-color, var(--theme-code-foreground, var(--jp-content-font-color1, white)));\n",
       "    --sklearn-color-background: var(--sg-background-color, var(--theme-background, var(--jp-layout-color0, #111)));\n",
       "    --sklearn-color-border-box: var(--sg-text-color, var(--theme-code-foreground, var(--jp-content-font-color1, white)));\n",
       "    --sklearn-color-icon: #878787;\n",
       "  }\n",
       "}\n",
       "\n",
       "#sk-container-id-1 {\n",
       "  color: var(--sklearn-color-text);\n",
       "}\n",
       "\n",
       "#sk-container-id-1 pre {\n",
       "  padding: 0;\n",
       "}\n",
       "\n",
       "#sk-container-id-1 input.sk-hidden--visually {\n",
       "  border: 0;\n",
       "  clip: rect(1px 1px 1px 1px);\n",
       "  clip: rect(1px, 1px, 1px, 1px);\n",
       "  height: 1px;\n",
       "  margin: -1px;\n",
       "  overflow: hidden;\n",
       "  padding: 0;\n",
       "  position: absolute;\n",
       "  width: 1px;\n",
       "}\n",
       "\n",
       "#sk-container-id-1 div.sk-dashed-wrapped {\n",
       "  border: 1px dashed var(--sklearn-color-line);\n",
       "  margin: 0 0.4em 0.5em 0.4em;\n",
       "  box-sizing: border-box;\n",
       "  padding-bottom: 0.4em;\n",
       "  background-color: var(--sklearn-color-background);\n",
       "}\n",
       "\n",
       "#sk-container-id-1 div.sk-container {\n",
       "  /* jupyter's `normalize.less` sets `[hidden] { display: none; }`\n",
       "     but bootstrap.min.css set `[hidden] { display: none !important; }`\n",
       "     so we also need the `!important` here to be able to override the\n",
       "     default hidden behavior on the sphinx rendered scikit-learn.org.\n",
       "     See: https://github.com/scikit-learn/scikit-learn/issues/21755 */\n",
       "  display: inline-block !important;\n",
       "  position: relative;\n",
       "}\n",
       "\n",
       "#sk-container-id-1 div.sk-text-repr-fallback {\n",
       "  display: none;\n",
       "}\n",
       "\n",
       "div.sk-parallel-item,\n",
       "div.sk-serial,\n",
       "div.sk-item {\n",
       "  /* draw centered vertical line to link estimators */\n",
       "  background-image: linear-gradient(var(--sklearn-color-text-on-default-background), var(--sklearn-color-text-on-default-background));\n",
       "  background-size: 2px 100%;\n",
       "  background-repeat: no-repeat;\n",
       "  background-position: center center;\n",
       "}\n",
       "\n",
       "/* Parallel-specific style estimator block */\n",
       "\n",
       "#sk-container-id-1 div.sk-parallel-item::after {\n",
       "  content: \"\";\n",
       "  width: 100%;\n",
       "  border-bottom: 2px solid var(--sklearn-color-text-on-default-background);\n",
       "  flex-grow: 1;\n",
       "}\n",
       "\n",
       "#sk-container-id-1 div.sk-parallel {\n",
       "  display: flex;\n",
       "  align-items: stretch;\n",
       "  justify-content: center;\n",
       "  background-color: var(--sklearn-color-background);\n",
       "  position: relative;\n",
       "}\n",
       "\n",
       "#sk-container-id-1 div.sk-parallel-item {\n",
       "  display: flex;\n",
       "  flex-direction: column;\n",
       "}\n",
       "\n",
       "#sk-container-id-1 div.sk-parallel-item:first-child::after {\n",
       "  align-self: flex-end;\n",
       "  width: 50%;\n",
       "}\n",
       "\n",
       "#sk-container-id-1 div.sk-parallel-item:last-child::after {\n",
       "  align-self: flex-start;\n",
       "  width: 50%;\n",
       "}\n",
       "\n",
       "#sk-container-id-1 div.sk-parallel-item:only-child::after {\n",
       "  width: 0;\n",
       "}\n",
       "\n",
       "/* Serial-specific style estimator block */\n",
       "\n",
       "#sk-container-id-1 div.sk-serial {\n",
       "  display: flex;\n",
       "  flex-direction: column;\n",
       "  align-items: center;\n",
       "  background-color: var(--sklearn-color-background);\n",
       "  padding-right: 1em;\n",
       "  padding-left: 1em;\n",
       "}\n",
       "\n",
       "\n",
       "/* Toggleable style: style used for estimator/Pipeline/ColumnTransformer box that is\n",
       "clickable and can be expanded/collapsed.\n",
       "- Pipeline and ColumnTransformer use this feature and define the default style\n",
       "- Estimators will overwrite some part of the style using the `sk-estimator` class\n",
       "*/\n",
       "\n",
       "/* Pipeline and ColumnTransformer style (default) */\n",
       "\n",
       "#sk-container-id-1 div.sk-toggleable {\n",
       "  /* Default theme specific background. It is overwritten whether we have a\n",
       "  specific estimator or a Pipeline/ColumnTransformer */\n",
       "  background-color: var(--sklearn-color-background);\n",
       "}\n",
       "\n",
       "/* Toggleable label */\n",
       "#sk-container-id-1 label.sk-toggleable__label {\n",
       "  cursor: pointer;\n",
       "  display: block;\n",
       "  width: 100%;\n",
       "  margin-bottom: 0;\n",
       "  padding: 0.5em;\n",
       "  box-sizing: border-box;\n",
       "  text-align: center;\n",
       "}\n",
       "\n",
       "#sk-container-id-1 label.sk-toggleable__label-arrow:before {\n",
       "  /* Arrow on the left of the label */\n",
       "  content: \"▸\";\n",
       "  float: left;\n",
       "  margin-right: 0.25em;\n",
       "  color: var(--sklearn-color-icon);\n",
       "}\n",
       "\n",
       "#sk-container-id-1 label.sk-toggleable__label-arrow:hover:before {\n",
       "  color: var(--sklearn-color-text);\n",
       "}\n",
       "\n",
       "/* Toggleable content - dropdown */\n",
       "\n",
       "#sk-container-id-1 div.sk-toggleable__content {\n",
       "  max-height: 0;\n",
       "  max-width: 0;\n",
       "  overflow: hidden;\n",
       "  text-align: left;\n",
       "  /* unfitted */\n",
       "  background-color: var(--sklearn-color-unfitted-level-0);\n",
       "}\n",
       "\n",
       "#sk-container-id-1 div.sk-toggleable__content.fitted {\n",
       "  /* fitted */\n",
       "  background-color: var(--sklearn-color-fitted-level-0);\n",
       "}\n",
       "\n",
       "#sk-container-id-1 div.sk-toggleable__content pre {\n",
       "  margin: 0.2em;\n",
       "  border-radius: 0.25em;\n",
       "  color: var(--sklearn-color-text);\n",
       "  /* unfitted */\n",
       "  background-color: var(--sklearn-color-unfitted-level-0);\n",
       "}\n",
       "\n",
       "#sk-container-id-1 div.sk-toggleable__content.fitted pre {\n",
       "  /* unfitted */\n",
       "  background-color: var(--sklearn-color-fitted-level-0);\n",
       "}\n",
       "\n",
       "#sk-container-id-1 input.sk-toggleable__control:checked~div.sk-toggleable__content {\n",
       "  /* Expand drop-down */\n",
       "  max-height: 200px;\n",
       "  max-width: 100%;\n",
       "  overflow: auto;\n",
       "}\n",
       "\n",
       "#sk-container-id-1 input.sk-toggleable__control:checked~label.sk-toggleable__label-arrow:before {\n",
       "  content: \"▾\";\n",
       "}\n",
       "\n",
       "/* Pipeline/ColumnTransformer-specific style */\n",
       "\n",
       "#sk-container-id-1 div.sk-label input.sk-toggleable__control:checked~label.sk-toggleable__label {\n",
       "  color: var(--sklearn-color-text);\n",
       "  background-color: var(--sklearn-color-unfitted-level-2);\n",
       "}\n",
       "\n",
       "#sk-container-id-1 div.sk-label.fitted input.sk-toggleable__control:checked~label.sk-toggleable__label {\n",
       "  background-color: var(--sklearn-color-fitted-level-2);\n",
       "}\n",
       "\n",
       "/* Estimator-specific style */\n",
       "\n",
       "/* Colorize estimator box */\n",
       "#sk-container-id-1 div.sk-estimator input.sk-toggleable__control:checked~label.sk-toggleable__label {\n",
       "  /* unfitted */\n",
       "  background-color: var(--sklearn-color-unfitted-level-2);\n",
       "}\n",
       "\n",
       "#sk-container-id-1 div.sk-estimator.fitted input.sk-toggleable__control:checked~label.sk-toggleable__label {\n",
       "  /* fitted */\n",
       "  background-color: var(--sklearn-color-fitted-level-2);\n",
       "}\n",
       "\n",
       "#sk-container-id-1 div.sk-label label.sk-toggleable__label,\n",
       "#sk-container-id-1 div.sk-label label {\n",
       "  /* The background is the default theme color */\n",
       "  color: var(--sklearn-color-text-on-default-background);\n",
       "}\n",
       "\n",
       "/* On hover, darken the color of the background */\n",
       "#sk-container-id-1 div.sk-label:hover label.sk-toggleable__label {\n",
       "  color: var(--sklearn-color-text);\n",
       "  background-color: var(--sklearn-color-unfitted-level-2);\n",
       "}\n",
       "\n",
       "/* Label box, darken color on hover, fitted */\n",
       "#sk-container-id-1 div.sk-label.fitted:hover label.sk-toggleable__label.fitted {\n",
       "  color: var(--sklearn-color-text);\n",
       "  background-color: var(--sklearn-color-fitted-level-2);\n",
       "}\n",
       "\n",
       "/* Estimator label */\n",
       "\n",
       "#sk-container-id-1 div.sk-label label {\n",
       "  font-family: monospace;\n",
       "  font-weight: bold;\n",
       "  display: inline-block;\n",
       "  line-height: 1.2em;\n",
       "}\n",
       "\n",
       "#sk-container-id-1 div.sk-label-container {\n",
       "  text-align: center;\n",
       "}\n",
       "\n",
       "/* Estimator-specific */\n",
       "#sk-container-id-1 div.sk-estimator {\n",
       "  font-family: monospace;\n",
       "  border: 1px dotted var(--sklearn-color-border-box);\n",
       "  border-radius: 0.25em;\n",
       "  box-sizing: border-box;\n",
       "  margin-bottom: 0.5em;\n",
       "  /* unfitted */\n",
       "  background-color: var(--sklearn-color-unfitted-level-0);\n",
       "}\n",
       "\n",
       "#sk-container-id-1 div.sk-estimator.fitted {\n",
       "  /* fitted */\n",
       "  background-color: var(--sklearn-color-fitted-level-0);\n",
       "}\n",
       "\n",
       "/* on hover */\n",
       "#sk-container-id-1 div.sk-estimator:hover {\n",
       "  /* unfitted */\n",
       "  background-color: var(--sklearn-color-unfitted-level-2);\n",
       "}\n",
       "\n",
       "#sk-container-id-1 div.sk-estimator.fitted:hover {\n",
       "  /* fitted */\n",
       "  background-color: var(--sklearn-color-fitted-level-2);\n",
       "}\n",
       "\n",
       "/* Specification for estimator info (e.g. \"i\" and \"?\") */\n",
       "\n",
       "/* Common style for \"i\" and \"?\" */\n",
       "\n",
       ".sk-estimator-doc-link,\n",
       "a:link.sk-estimator-doc-link,\n",
       "a:visited.sk-estimator-doc-link {\n",
       "  float: right;\n",
       "  font-size: smaller;\n",
       "  line-height: 1em;\n",
       "  font-family: monospace;\n",
       "  background-color: var(--sklearn-color-background);\n",
       "  border-radius: 1em;\n",
       "  height: 1em;\n",
       "  width: 1em;\n",
       "  text-decoration: none !important;\n",
       "  margin-left: 1ex;\n",
       "  /* unfitted */\n",
       "  border: var(--sklearn-color-unfitted-level-1) 1pt solid;\n",
       "  color: var(--sklearn-color-unfitted-level-1);\n",
       "}\n",
       "\n",
       ".sk-estimator-doc-link.fitted,\n",
       "a:link.sk-estimator-doc-link.fitted,\n",
       "a:visited.sk-estimator-doc-link.fitted {\n",
       "  /* fitted */\n",
       "  border: var(--sklearn-color-fitted-level-1) 1pt solid;\n",
       "  color: var(--sklearn-color-fitted-level-1);\n",
       "}\n",
       "\n",
       "/* On hover */\n",
       "div.sk-estimator:hover .sk-estimator-doc-link:hover,\n",
       ".sk-estimator-doc-link:hover,\n",
       "div.sk-label-container:hover .sk-estimator-doc-link:hover,\n",
       ".sk-estimator-doc-link:hover {\n",
       "  /* unfitted */\n",
       "  background-color: var(--sklearn-color-unfitted-level-3);\n",
       "  color: var(--sklearn-color-background);\n",
       "  text-decoration: none;\n",
       "}\n",
       "\n",
       "div.sk-estimator.fitted:hover .sk-estimator-doc-link.fitted:hover,\n",
       ".sk-estimator-doc-link.fitted:hover,\n",
       "div.sk-label-container:hover .sk-estimator-doc-link.fitted:hover,\n",
       ".sk-estimator-doc-link.fitted:hover {\n",
       "  /* fitted */\n",
       "  background-color: var(--sklearn-color-fitted-level-3);\n",
       "  color: var(--sklearn-color-background);\n",
       "  text-decoration: none;\n",
       "}\n",
       "\n",
       "/* Span, style for the box shown on hovering the info icon */\n",
       ".sk-estimator-doc-link span {\n",
       "  display: none;\n",
       "  z-index: 9999;\n",
       "  position: relative;\n",
       "  font-weight: normal;\n",
       "  right: .2ex;\n",
       "  padding: .5ex;\n",
       "  margin: .5ex;\n",
       "  width: min-content;\n",
       "  min-width: 20ex;\n",
       "  max-width: 50ex;\n",
       "  color: var(--sklearn-color-text);\n",
       "  box-shadow: 2pt 2pt 4pt #999;\n",
       "  /* unfitted */\n",
       "  background: var(--sklearn-color-unfitted-level-0);\n",
       "  border: .5pt solid var(--sklearn-color-unfitted-level-3);\n",
       "}\n",
       "\n",
       ".sk-estimator-doc-link.fitted span {\n",
       "  /* fitted */\n",
       "  background: var(--sklearn-color-fitted-level-0);\n",
       "  border: var(--sklearn-color-fitted-level-3);\n",
       "}\n",
       "\n",
       ".sk-estimator-doc-link:hover span {\n",
       "  display: block;\n",
       "}\n",
       "\n",
       "/* \"?\"-specific style due to the `<a>` HTML tag */\n",
       "\n",
       "#sk-container-id-1 a.estimator_doc_link {\n",
       "  float: right;\n",
       "  font-size: 1rem;\n",
       "  line-height: 1em;\n",
       "  font-family: monospace;\n",
       "  background-color: var(--sklearn-color-background);\n",
       "  border-radius: 1rem;\n",
       "  height: 1rem;\n",
       "  width: 1rem;\n",
       "  text-decoration: none;\n",
       "  /* unfitted */\n",
       "  color: var(--sklearn-color-unfitted-level-1);\n",
       "  border: var(--sklearn-color-unfitted-level-1) 1pt solid;\n",
       "}\n",
       "\n",
       "#sk-container-id-1 a.estimator_doc_link.fitted {\n",
       "  /* fitted */\n",
       "  border: var(--sklearn-color-fitted-level-1) 1pt solid;\n",
       "  color: var(--sklearn-color-fitted-level-1);\n",
       "}\n",
       "\n",
       "/* On hover */\n",
       "#sk-container-id-1 a.estimator_doc_link:hover {\n",
       "  /* unfitted */\n",
       "  background-color: var(--sklearn-color-unfitted-level-3);\n",
       "  color: var(--sklearn-color-background);\n",
       "  text-decoration: none;\n",
       "}\n",
       "\n",
       "#sk-container-id-1 a.estimator_doc_link.fitted:hover {\n",
       "  /* fitted */\n",
       "  background-color: var(--sklearn-color-fitted-level-3);\n",
       "}\n",
       "</style><div id=\"sk-container-id-1\" class=\"sk-top-container\"><div class=\"sk-text-repr-fallback\"><pre>LogisticRegression()</pre><b>In a Jupyter environment, please rerun this cell to show the HTML representation or trust the notebook. <br />On GitHub, the HTML representation is unable to render, please try loading this page with nbviewer.org.</b></div><div class=\"sk-container\" hidden><div class=\"sk-item\"><div class=\"sk-estimator fitted sk-toggleable\"><input class=\"sk-toggleable__control sk-hidden--visually\" id=\"sk-estimator-id-1\" type=\"checkbox\" checked><label for=\"sk-estimator-id-1\" class=\"sk-toggleable__label fitted sk-toggleable__label-arrow fitted\">&nbsp;&nbsp;LogisticRegression<a class=\"sk-estimator-doc-link fitted\" rel=\"noreferrer\" target=\"_blank\" href=\"https://scikit-learn.org/1.5/modules/generated/sklearn.linear_model.LogisticRegression.html\">?<span>Documentation for LogisticRegression</span></a><span class=\"sk-estimator-doc-link fitted\">i<span>Fitted</span></span></label><div class=\"sk-toggleable__content fitted\"><pre>LogisticRegression()</pre></div> </div></div></div></div>"
      ],
      "text/plain": [
       "LogisticRegression()"
      ]
     },
     "execution_count": 205,
     "metadata": {},
     "output_type": "execute_result"
    }
   ],
   "source": [
    "lr = LogisticRegression()\n",
    "lr.fit(x_train, y_train)"
   ]
  },
  {
   "cell_type": "markdown",
   "id": "c8872684-0811-4371-8495-c55d4dd82ddf",
   "metadata": {},
   "source": [
    "# 7) Evaluate the model using the testing data. What is the model accuracy for the model? Use the model to make predictions and then generate a confusion matrix from the model. Interpret the confusion matrix and explain what each number means."
   ]
  },
  {
   "cell_type": "code",
   "execution_count": 224,
   "id": "91573fb0-8297-4a3d-a0bd-bc1c259682de",
   "metadata": {},
   "outputs": [
    {
     "data": {
      "text/html": [
       "<div>\n",
       "<style scoped>\n",
       "    .dataframe tbody tr th:only-of-type {\n",
       "        vertical-align: middle;\n",
       "    }\n",
       "\n",
       "    .dataframe tbody tr th {\n",
       "        vertical-align: top;\n",
       "    }\n",
       "\n",
       "    .dataframe thead th {\n",
       "        text-align: right;\n",
       "    }\n",
       "</style>\n",
       "<table border=\"1\" class=\"dataframe\">\n",
       "  <thead>\n",
       "    <tr style=\"text-align: right;\">\n",
       "      <th></th>\n",
       "      <th>Predicted Negative</th>\n",
       "      <th>Predicted Positive</th>\n",
       "    </tr>\n",
       "  </thead>\n",
       "  <tbody>\n",
       "    <tr>\n",
       "      <th>Actual Negative</th>\n",
       "      <td>150</td>\n",
       "      <td>18</td>\n",
       "    </tr>\n",
       "    <tr>\n",
       "      <th>Actual Positive</th>\n",
       "      <td>49</td>\n",
       "      <td>35</td>\n",
       "    </tr>\n",
       "  </tbody>\n",
       "</table>\n",
       "</div>"
      ],
      "text/plain": [
       "                 Predicted Negative  Predicted Positive\n",
       "Actual Negative                 150                  18\n",
       "Actual Positive                  49                  35"
      ]
     },
     "execution_count": 224,
     "metadata": {},
     "output_type": "execute_result"
    }
   ],
   "source": [
    "#Evaluate model using test data\n",
    "y_pred = lr.predict(x_test)\n",
    "\n",
    "#Confusion Matrix\n",
    "pd.DataFrame(confusion_matrix(y_test, y_pred),\n",
    "             columns=[\"Predicted Negative\", \"Predicted Positive\"],\n",
    "             index=[\"Actual Negative\",\"Actual Positive\"])"
   ]
  },
  {
   "cell_type": "markdown",
   "id": "32894760-7147-4694-be61-f70afa879256",
   "metadata": {},
   "source": [
    "Accuracy (TP + TN) / (Total)\n",
    "150+35/ (150+35+18+49) \n",
    "185/252\n",
    ".73\n",
    "73% Accuracy\n",
    "\n",
    "True Negative (150) - This is the value that was accurately predicted by the model, so 150 negative classes were predicted correctly\n",
    "False Positive (18) - The model incorrectly predicted the class of the value. The class was negative however the model predicted positive, resulting in a Type I Error. (Predicting positive when actually negative)\n",
    "False Negative (49) - Model incorrectly predicted a negative class; class was actually positive, which is a Type II Error.\n",
    "True Positive (35) - Model correctly predicted positive classes."
   ]
  },
  {
   "cell_type": "markdown",
   "id": "366da81d-6bbd-4363-a78d-13067e1d3cca",
   "metadata": {},
   "source": [
    "# 8) Create the confusion matrix as a dataframe and add informative column names and index names that indicate what each quadrant represents"
   ]
  },
  {
   "cell_type": "code",
   "execution_count": 240,
   "id": "5a0f7afe-6efd-4b78-b080-2f7eb3dea834",
   "metadata": {},
   "outputs": [
    {
     "name": "stdout",
     "output_type": "stream",
     "text": [
      "                           Predicted Negative  Predicted Positive\n",
      "Actual Negative (TN / FP)                 150                  18\n",
      "Actual Positive (FN / TP)                  49                  35\n"
     ]
    }
   ],
   "source": [
    "df = {\n",
    "    'Predicted Negative': [150, 49],\n",
    "    'Predicted Positive': [18, 35]\n",
    "}\n",
    "# Create the DataFrame\n",
    "cm = pd.DataFrame(df, index=['Actual Negative', 'Actual Positive'])\n",
    "\n",
    "# Rename columns\n",
    "cm.columns = ['Predicted Negative', 'Predicted Positive']\n",
    "cm.index = ['Actual Negative (TN / FP)', 'Actual Positive (FN / TP)']\n",
    "\n",
    "# Print DataFrame\n",
    "print(cm)"
   ]
  },
  {
   "cell_type": "markdown",
   "id": "7b06deca-7364-4a41-a669-1f91635aebfe",
   "metadata": {},
   "source": [
    "# 9) Aside from accuracy, there are three other metrics used to evaluate model performance: precision, recall, and F1 score. Use the results in the confusion matrix to calculate each of these metrics by hand. Discuss each metric and give an actual example of when it might be the preferred metric of evaluation. After calculating the metrics by hand, create a classification_report using sklearn and check to ensure your metrics match those of the classification_report."
   ]
  },
  {
   "cell_type": "markdown",
   "id": "d79de7a4-bda9-486b-8841-d1b6baadee77",
   "metadata": {},
   "source": [
    "## Results:\n",
    "Recall: TP/(TP+FN) - Care moreso for the missing positive cases\n",
    "35/(35+49) = .4166666667\n",
    "A recall of .42 means that 42% of the actual positive cases were identified were correct. This means that there is room to improve our model to identify more postive cases. When diposing of a property one important factor is correctly identifying properties with active maintenance issues. Companies do not want to retain properties that are a money pit, therefore it is important to have a high recall percantage. Otherwise this could lead to incorrectly disposng of a property.\n",
    "\n",
    "Precision: TP/(TP+FP) - Goal to minimize incorrect positive cases\n",
    "35/(35+18) = .660377358\n",
    "A precision of .66 means that 66% of the positive values predicted were correctly predicted while 34% were false positives. The goal of this metric is to minimize false positives. Precision is important when handling clients applying for apartments. There is software set to specific parameters that will weed out applicants. This helps to flag/eliminate any potential fraud applicants or ones not qualified.\n",
    "\n",
    "F1 Score: (2 * Precision * Recall) / (Precision + Recall)\n",
    "(2*.66*.42) / (.66+.42)\n",
    ".5544 / 1.08\n",
    ".5133\n",
    "An F1 Score is a way of balancing precision and recall, essentially evaluating if there are no false postivies or negatives within the predicted model. An F1 score is useful when predicting market trends in Real Estate, because it balances precision and recall. It identifies multiple trends while also predicting which of those trends are valid. For example, there could be trends of increased crime, increased littering, and competitor rents staying stagnant. F1 assist with the imbalance in trends to identify the valid and significant ones."
   ]
  },
  {
   "cell_type": "code",
   "execution_count": 243,
   "id": "f755aaa2-1399-4cdd-9718-0ec17581034b",
   "metadata": {},
   "outputs": [
    {
     "name": "stdout",
     "output_type": "stream",
     "text": [
      "              precision    recall  f1-score   support\n",
      "\n",
      "           0       0.75      0.89      0.82       168\n",
      "           1       0.66      0.42      0.51        84\n",
      "\n",
      "    accuracy                           0.73       252\n",
      "   macro avg       0.71      0.65      0.66       252\n",
      "weighted avg       0.72      0.73      0.72       252\n",
      "\n"
     ]
    }
   ],
   "source": [
    "#Print Metrics\n",
    "print(classification_report(y_test, y_pred))"
   ]
  },
  {
   "cell_type": "markdown",
   "id": "f9af5c95-8085-4257-a687-2f6748a02b2f",
   "metadata": {},
   "source": [
    "# 10) Use the model to make predictions. For instance, what is the probability that a high income (e.g. income=8), with a high level of education (e.g. 7), non-parent who is married female and 42 years old uses LinkedIn? How does the probability change if another person is 82 years old, but otherwise the same?"
   ]
  },
  {
   "cell_type": "code",
   "execution_count": 260,
   "id": "ee1e479a-9e0e-4077-b2aa-e95de625434a",
   "metadata": {},
   "outputs": [
    {
     "name": "stdout",
     "output_type": "stream",
     "text": [
      "0.9916777503919967\n",
      "0.9996818550879158\n",
      "0.4322872497468467\n"
     ]
    }
   ],
   "source": [
    "#income, education, non-parent, married, female, age\n",
    "age42 = np.array([[8, 7, 0, 1, 0, 42]])\n",
    "age82 = np.array([[8, 8, 0, 1, 0, 82]])\n",
    "age18 = np.array([[2, 2, 0, 1, 0, 18]])\n",
    "\n",
    "prob42 = lr.predict_proba(age42)[0, 1] \n",
    "prob82 = lr.predict_proba(age82)[0, 1]\n",
    "prob18 = lr.predict_proba(age18)[0, 1]\n",
    "\n",
    "print(prob42)\n",
    "print(prob82)\n",
    "print(prob18)"
   ]
  },
  {
   "cell_type": "markdown",
   "id": "ca523f09-1ed4-4006-a6be-82626d3ccd9f",
   "metadata": {},
   "source": [
    "When running the prediction on both the Age 42 and 82 both with the same parameters aside from Age, the probability remains at 99%. There is a definitive chance they both use LinkedIn. Additionally to ensure the model works, I tested an 18 year old with the same parameters but a lower education level and the probability was lower, as expected, 43%. "
   ]
  }
 ],
 "metadata": {
  "kernelspec": {
   "display_name": "Python 3 (ipykernel)",
   "language": "python",
   "name": "python3"
  },
  "language_info": {
   "codemirror_mode": {
    "name": "ipython",
    "version": 3
   },
   "file_extension": ".py",
   "mimetype": "text/x-python",
   "name": "python",
   "nbconvert_exporter": "python",
   "pygments_lexer": "ipython3",
   "version": "3.12.7"
  }
 },
 "nbformat": 4,
 "nbformat_minor": 5
}
